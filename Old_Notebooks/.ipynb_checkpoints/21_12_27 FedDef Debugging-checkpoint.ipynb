{
 "cells": [
  {
   "cell_type": "code",
   "execution_count": 1,
   "metadata": {},
   "outputs": [
    {
     "name": "stdout",
     "output_type": "stream",
     "text": [
      "/home/ubuntu/FedEM\n"
     ]
    }
   ],
   "source": [
    "cd /home/ubuntu/FedEM/"
   ]
  },
  {
   "cell_type": "code",
   "execution_count": 2,
   "metadata": {},
   "outputs": [],
   "source": [
    "# from utils.utils import *\n",
    "from utils.constants import *\n",
    "from utils.args import *\n",
    "from run_experiment import * \n",
    "\n",
    "from torch.utils.tensorboard import SummaryWriter\n",
    "\n",
    "# # Import General Libraries\n",
    "import os\n",
    "import argparse\n",
    "import torch\n",
    "import copy\n",
    "import pickle\n",
    "import random\n",
    "import numpy as np\n",
    "import pandas as pd\n",
    "from models import *\n",
    "\n",
    "# # Import Transfer Attack\n",
    "from transfer_attacks.Personalized_NN import *\n",
    "from transfer_attacks.Params import *\n",
    "from transfer_attacks.Transferer import *\n",
    "from transfer_attacks.Args import *\n",
    "from transfer_attacks.TA_utils import *\n",
    "\n",
    "from transfer_attacks.Boundary_Transferer import *\n",
    "from transfer_attacks.projected_gradient_descent import *"
   ]
  },
  {
   "cell_type": "code",
   "execution_count": 3,
   "metadata": {},
   "outputs": [],
   "source": [
    "# Manually set argument parameters\n",
    "args_ = Args()\n",
    "args_.experiment = \"cifar10\"\n",
    "args_.method = \"FedEM_adv\"\n",
    "args_.decentralized = False\n",
    "args_.sampling_rate = 1.0\n",
    "args_.input_dimension = None\n",
    "args_.output_dimension = None\n",
    "args_.n_learners= 3\n",
    "args_.n_rounds = 6\n",
    "args_.bz = 128\n",
    "args_.local_steps = 1\n",
    "args_.lr_lambda = 0\n",
    "args_.lr =0.03\n",
    "args_.lr_scheduler = 'multi_step'\n",
    "args_.log_freq = 10\n",
    "args_.device = 'cuda'\n",
    "args_.optimizer = 'sgd'\n",
    "args_.mu = 0\n",
    "args_.communication_probability = 0.1\n",
    "args_.q = 1\n",
    "args_.locally_tune_clients = False\n",
    "args_.seed = 1234\n",
    "args_.verbose = 1\n",
    "args_.save_path = 'weights/cifar/21_12_27_feddef1_n40/'\n",
    "args_.validation = False"
   ]
  },
  {
   "cell_type": "code",
   "execution_count": 4,
   "metadata": {},
   "outputs": [
    {
     "name": "stdout",
     "output_type": "stream",
     "text": [
      "==> Clients initialization..\n",
      "===> Building data iterators..\n"
     ]
    },
    {
     "name": "stderr",
     "output_type": "stream",
     "text": [
      "100%|██████████████████████████████████████████| 80/80 [00:00<00:00, 239.17it/s]\n"
     ]
    },
    {
     "name": "stdout",
     "output_type": "stream",
     "text": [
      "===> Initializing clients..\n"
     ]
    },
    {
     "name": "stderr",
     "output_type": "stream",
     "text": [
      "100%|███████████████████████████████████████████| 80/80 [00:47<00:00,  1.70it/s]\n"
     ]
    },
    {
     "name": "stdout",
     "output_type": "stream",
     "text": [
      "==> Test Clients initialization..\n",
      "===> Building data iterators..\n"
     ]
    },
    {
     "name": "stderr",
     "output_type": "stream",
     "text": [
      "0it [00:00, ?it/s]\n"
     ]
    },
    {
     "name": "stdout",
     "output_type": "stream",
     "text": [
      "===> Initializing clients..\n"
     ]
    },
    {
     "name": "stderr",
     "output_type": "stream",
     "text": [
      "0it [00:00, ?it/s]\n"
     ]
    },
    {
     "name": "stdout",
     "output_type": "stream",
     "text": [
      "++++++++++++++++++++++++++++++\n",
      "Global..\n",
      "Train Loss: 2.292 | Train Acc: 12.195% |Test Loss: 2.292 | Test Acc: 12.291% |\n",
      "++++++++++++++++++++++++++++++++++++++++++++++++++\n",
      "################################################################################\n"
     ]
    }
   ],
   "source": [
    "# Other Argument Parameters\n",
    "Q = 2 # update per round\n",
    "G = 0.5\n",
    "num_clients = 40\n",
    "S = 0.05 # Threshold\n",
    "step_size = 0.01\n",
    "K = 15\n",
    "\n",
    "# Randomized Parameters\n",
    "Ru = np.random.uniform(low=0.2, high=0.8, size=num_clients)\n",
    "\n",
    "# Generate the dummy values here\n",
    "aggregator, clients = dummy_aggregator(args_, num_clients)\n",
    "\n",
    "# Set attack parameters\n",
    "x_min = torch.min(clients[0].adv_nn.dataloader.x_data)\n",
    "x_max = torch.max(clients[0].adv_nn.dataloader.x_data)\n",
    "atk_params = PGD_Params()\n",
    "atk_params.set_params(batch_size=1, iteration = K,\n",
    "                   target = -1, x_val_min = x_min, x_val_max = x_max,\n",
    "                   step_size = 0.05, step_norm = \"inf\", eps = 1, eps_norm = \"inf\")\n",
    "\n",
    "# Obtain the central controller decision making variables (static)\n",
    "num_h = args_.n_learners= 3\n",
    "Du = np.zeros(len(clients))\n",
    "\n",
    "for i in range(len(clients)):\n",
    "    num_data = clients[i].train_iterator.dataset.targets.shape[0]\n",
    "    Du[i] = num_data\n",
    "D = np.sum(Du) # Total number of data points\n"
   ]
  },
  {
   "cell_type": "code",
   "execution_count": 5,
   "metadata": {},
   "outputs": [
    {
     "name": "stdout",
     "output_type": "stream",
     "text": [
      "Training..\n"
     ]
    },
    {
     "name": "stderr",
     "output_type": "stream",
     "text": [
      "\r",
      "  0%|                                                     | 0/6 [00:00<?, ?it/s]"
     ]
    },
    {
     "name": "stdout",
     "output_type": "stream",
     "text": [
      "Round: 0 Calculation Adv\n"
     ]
    },
    {
     "name": "stderr",
     "output_type": "stream",
     "text": [
      " 33%|███████████████                              | 2/6 [03:20<06:27, 96.91s/it]"
     ]
    },
    {
     "name": "stdout",
     "output_type": "stream",
     "text": [
      "Round: 2 Calculation Adv\n"
     ]
    },
    {
     "name": "stderr",
     "output_type": "stream",
     "text": [
      " 67%|██████████████████████████████               | 4/6 [06:45<03:16, 98.25s/it]"
     ]
    },
    {
     "name": "stdout",
     "output_type": "stream",
     "text": [
      "Round: 4 Calculation Adv\n"
     ]
    },
    {
     "name": "stderr",
     "output_type": "stream",
     "text": [
      "100%|████████████████████████████████████████████| 6/6 [10:14<00:00, 100.01s/it]"
     ]
    },
    {
     "name": "stdout",
     "output_type": "stream",
     "text": [
      "Round: 6 Calculation Adv\n"
     ]
    },
    {
     "name": "stderr",
     "output_type": "stream",
     "text": [
      "\r",
      "7it [12:15, 106.74s/it]                                                         "
     ]
    }
   ],
   "source": [
    "# Train the model\n",
    "print(\"Training..\")\n",
    "pbar = tqdm(total=args_.n_rounds)\n",
    "current_round = 0\n",
    "while current_round <= args_.n_rounds:\n",
    "\n",
    "    # If statement catching every Q rounds -- update dataset\n",
    "    if  current_round%Q == 0: # current_round != 0 and\n",
    "        print(\"Round:\", current_round, \"Calculation Adv\")\n",
    "        # Obtaining hypothesis information\n",
    "        Whu = np.zeros([num_clients,num_h]) # Hypothesis weight for each user\n",
    "        for i in range(len(clients)):\n",
    "            # print(\"client\", i)\n",
    "            temp_client = aggregator.clients[i]\n",
    "            hyp_weights = temp_client.learners_ensemble.learners_weights\n",
    "            Whu[i] = hyp_weights\n",
    "\n",
    "        row_sums = Whu.sum(axis=1)\n",
    "        Whu = Whu / row_sums[:, np.newaxis]\n",
    "        Wh = np.sum(Whu,axis=0)/num_clients\n",
    "\n",
    "        # Solve for adversarial ratio at every client\n",
    "        Fu = solve_proportions(G, num_clients, num_h, Du, Whu, S, Ru, step_size)\n",
    "\n",
    "        # Assign proportion and attack params\n",
    "        # Assign proportion and compute new dataset\n",
    "        for i in range(len(clients)):\n",
    "            aggregator.clients[i].set_adv_params(Fu[i], atk_params)\n",
    "            aggregator.clients[i].update_advnn()\n",
    "            aggregator.clients[i].assign_advdataset()\n",
    "\n",
    "    aggregator.mix()\n",
    "\n",
    "    if aggregator.c_round != current_round:\n",
    "        pbar.update(1)\n",
    "        current_round = aggregator.c_round"
   ]
  },
  {
   "cell_type": "code",
   "execution_count": 9,
   "metadata": {},
   "outputs": [
    {
     "data": {
      "text/plain": [
       "array([0.51, 0.51, 0.51, 0.51, 0.51, 0.51, 0.51, 0.51, 0.51, 0.51, 0.51,\n",
       "       0.51, 0.51, 0.51, 0.51, 0.51, 0.51, 0.51, 0.51, 0.51, 0.51, 0.51,\n",
       "       0.51, 0.51, 0.51, 0.51, 0.51, 0.51, 0.51, 0.51, 0.51, 0.51, 0.51,\n",
       "       0.51, 0.51, 0.51, 0.51, 0.51, 0.51, 0.51])"
      ]
     },
     "execution_count": 9,
     "metadata": {},
     "output_type": "execute_result"
    }
   ],
   "source": [
    "Fu"
   ]
  },
  {
   "cell_type": "code",
   "execution_count": 10,
   "metadata": {},
   "outputs": [
    {
     "data": {
      "text/plain": [
       "array([1.24364372, 1.72263281, 1.84660005, 1.6066935 , 1.12830616,\n",
       "       1.85592726, 1.12383098, 1.71534177, 1.98573497, 0.85126791,\n",
       "       1.64666232, 1.13069281, 1.03349424, 1.94806914, 1.93577927,\n",
       "       1.13551798, 0.87967912, 1.95186936, 1.78710384, 1.11724847,\n",
       "       1.80284123, 0.88112172, 0.80068195, 1.80537147, 1.33194353,\n",
       "       1.45775736, 1.58315287, 1.49820244, 1.15690825, 1.31115584,\n",
       "       1.81010638, 1.612755  , 1.16409485, 0.91493715, 1.87740269,\n",
       "       1.61740902, 1.59334435, 1.64253974, 0.83375051, 1.14427046])"
      ]
     },
     "execution_count": 10,
     "metadata": {},
     "output_type": "execute_result"
    }
   ],
   "source": [
    "Ru"
   ]
  },
  {
   "cell_type": "code",
   "execution_count": null,
   "metadata": {},
   "outputs": [],
   "source": []
  }
 ],
 "metadata": {
  "kernelspec": {
   "display_name": "FedEM_env",
   "language": "python",
   "name": "fedem_env"
  },
  "language_info": {
   "codemirror_mode": {
    "name": "ipython",
    "version": 3
   },
   "file_extension": ".py",
   "mimetype": "text/x-python",
   "name": "python",
   "nbconvert_exporter": "python",
   "pygments_lexer": "ipython3",
   "version": "3.9.6"
  }
 },
 "nbformat": 4,
 "nbformat_minor": 4
}
