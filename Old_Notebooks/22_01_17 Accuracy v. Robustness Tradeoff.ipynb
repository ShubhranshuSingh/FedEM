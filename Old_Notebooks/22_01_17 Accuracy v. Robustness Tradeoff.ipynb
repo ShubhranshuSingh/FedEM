{
 "cells": [
  {
   "cell_type": "markdown",
   "metadata": {},
   "source": [
    "# Accuracy v. Robustness Trade-off\n",
    "\n",
    "TJ Kim\n",
    "\n",
    "1.17.21\n",
    "\n",
    "#### Summary:\n",
    "- Make a nice figure that plots accuracy (x-axis) v. robustness (adv miss, y-axis)"
   ]
  },
  {
   "cell_type": "code",
   "execution_count": 1,
   "metadata": {},
   "outputs": [],
   "source": [
    "%matplotlib inline\n",
    "import matplotlib.pyplot as plt\n",
    "plt.style.use('seaborn-whitegrid')\n",
    "import numpy as np"
   ]
  },
  {
   "cell_type": "raw",
   "metadata": {},
   "source": [
    "# Local Test (Train) Dataset\n",
    "\n",
    "# Local\n",
    "local_adv_miss = 0.38\n",
    "local_adv_target = 0.06\n",
    "local_orig_acc = 0.52\n",
    "local_ibdist_legit = \n",
    "local_ibdist_adv = \n",
    "\n",
    "# Fedavg - Benign\n",
    "fedavg_adv_miss = 0.00\n",
    "fedavg_adv_target = 0.85\n",
    "fedavg_orig_acc = 0.81\n",
    "fedavg_ibdist_legit = 0\n",
    "fedavg_ibdist_adv = 0\n",
    "\n",
    "# FedEM - Benign\n",
    "fedem_adv_miss = 0.10\n",
    "fedem_adv_target = 0.46\n",
    "fedem_orig_acc = 0.84\n",
    "fedem_ibdist_legit = \n",
    "fedem_ibdist_adv = \n",
    "\n",
    "# Local - adv\n",
    "local_adv_miss = 0.30\n",
    "local_adv_target = 0.05\n",
    "local_orig_acc = 0.46\n",
    "local_ibdist_legit = \n",
    "local_ibdist_adv = \n",
    "\n",
    "# Fedavg - adv\n",
    "fedavg_adv_miss = 0.26\n",
    "fedavg_adv_target = 0.30\n",
    "fedavg_orig_acc = 0.74\n",
    "fedavg_ibdist_legit = 0\n",
    "fedavg_ibdist_adv = 0\n",
    "\n",
    "# FedEM - adv\n",
    "fedem_adv_miss = 0.42\n",
    "fedem_adv_target = 0.09\n",
    "fedem_orig_acc = 0.74\n",
    "fedem_ibdist_legit = \n",
    "fedem_ibdist_adv = "
   ]
  },
  {
   "cell_type": "code",
   "execution_count": 2,
   "metadata": {},
   "outputs": [],
   "source": [
    "# points\n",
    "local_benign = [0.52, 0.38]\n",
    "local_adv = [0.46, 0.3]\n",
    "\n",
    "fedavg_benign = [0.81, 0]\n",
    "fedavg_adv = [0.74, 0.26]\n",
    "\n",
    "fedem_benign = [0.84, 0.10]\n",
    "fedem_adv = [0.74, 0.42]\n",
    "\n",
    "# together - white box\n",
    "# x1 = [0.52, 0.46, 0.81, 0.74, 0.84, 0.74]\n",
    "# y1 = [0.38, 0.3, 0, 0.26, 0.10, 0.42]\n",
    "\n",
    "offset = 0.01\n",
    "x1 = [0.52, 0.81, 0.84, 0.46, 0.74, 0.74]\n",
    "y1 = [0.38 + offset, 0, 0.1, 0.3 - offset, 0.26 , 0.42]\n",
    "\n",
    "# together - black box\n",
    "x2 = [0.52, 0.81, 0.84, 0.46, 0.74, 0.74]\n",
    "y2 = [0.36 - offset, 0.15, 0.23 , 0.31+ offset, 0.69, 0.60]\n",
    "\n",
    "x = x1 + x2\n",
    "y = y1+y2"
   ]
  },
  {
   "cell_type": "code",
   "execution_count": 3,
   "metadata": {},
   "outputs": [
    {
     "data": {
      "text/plain": [
       "Text(0.5, 1.0, 'CIFAR-10 Robustness of Learning Methods')"
      ]
     },
     "execution_count": 3,
     "metadata": {},
     "output_type": "execute_result"
    },
    {
     "name": "stderr",
     "output_type": "stream",
     "text": [
      "findfont: Font family ['normal'] not found. Falling back to DejaVu Sans.\n",
      "findfont: Font family ['normal'] not found. Falling back to DejaVu Sans.\n"
     ]
    },
    {
     "data": {
      "image/png": "[encoded data removed]",
      "text/plain": [
       "<Figure size 432x288 with 1 Axes>"
      ]
     },
     "metadata": {},
     "output_type": "display_data"
    }
   ],
   "source": [
    "font = {'family' : 'normal',\n",
    "        'weight' : 'normal',\n",
    "        'size'   : 14}\n",
    "\n",
    "plt.rc('font', **font)\n",
    "\n",
    "# names = ['local', 'local adv', 'FedAvg', 'FedAvg adv', 'FedEM', 'FedEM adv']\n",
    "names = ['Local', 'FedAvg', 'FedEM']\n",
    "markers = ['o', 'o','o', '<','<',  '<']\n",
    "markeredgecolors = ['r','y','k','r','y','k']\n",
    "face_colors = ['r','y','k','r','y','k']\n",
    "\n",
    "for i in range(int(len(x1)/2)):\n",
    "    plt.plot(x[i],y[i], markers[i], markeredgecolor = markeredgecolors[i], markerfacecolor = face_colors[i],\n",
    "             label= names[i], markersize=9)\n",
    "\n",
    "for i in range(int(len(x1)/2), len(x1)):\n",
    "    plt.plot(x[i],y[i], markers[i], markeredgecolor = markeredgecolors[i], markerfacecolor = face_colors[i],\n",
    "            markersize=9)\n",
    "    \n",
    "for i in range(len(x1)):\n",
    "    j = i + len(x1)\n",
    "    plt.plot(x[j],y[j], markers[i], markeredgecolor = markeredgecolors[i],markerfacecolor = 'none', \n",
    "             fillstyle = 'full', markersize=9)\n",
    "    \n",
    "plt.legend(frameon=True)\n",
    "plt.xlim(0.4, 0.9);\n",
    "plt.ylim(-0.05, 0.8);\n",
    "plt.xlabel('Test Accuracy')\n",
    "plt.ylabel('Robustness')\n",
    "plt.title(\"CIFAR-10 Robustness of Learning Methods\")\n"
   ]
  },
  {
   "cell_type": "code",
   "execution_count": null,
   "metadata": {},
   "outputs": [],
   "source": []
  },
  {
   "cell_type": "code",
   "execution_count": null,
   "metadata": {},
   "outputs": [],
   "source": []
  }
 ],
 "metadata": {
  "kernelspec": {
   "display_name": "FedEM_env",
   "language": "python",
   "name": "fedem_env"
  },
  "language_info": {
   "codemirror_mode": {
    "name": "ipython",
    "version": 3
   },
   "file_extension": ".py",
   "mimetype": "text/x-python",
   "name": "python",
   "nbconvert_exporter": "python",
   "pygments_lexer": "ipython3",
   "version": "3.9.6"
  }
 },
 "nbformat": 4,
 "nbformat_minor": 4
}
