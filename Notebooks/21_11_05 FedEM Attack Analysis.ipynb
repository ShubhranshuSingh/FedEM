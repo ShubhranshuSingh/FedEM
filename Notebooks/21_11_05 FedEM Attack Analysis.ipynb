{
 "cells": [
  {
   "cell_type": "markdown",
   "metadata": {},
   "source": [
    "# FedEM Attack Analysis\n",
    "\n",
    "TJ Kim\n",
    "11.5.21\n",
    "\n",
    "#### Summary:\n",
    "- Load the locally trained model and FedEM model\n",
    "- nodes = 3, mixtures = 3"
   ]
  },
  {
   "cell_type": "code",
   "execution_count": 1,
   "metadata": {},
   "outputs": [
    {
     "name": "stdout",
     "output_type": "stream",
     "text": [
      "/home/ubuntu/FedEM\n"
     ]
    }
   ],
   "source": [
    "cd /home/ubuntu/FedEM/"
   ]
  },
  {
   "cell_type": "markdown",
   "metadata": {},
   "source": [
    "### Import Relevant Libraries\n",
    "Take it from the run_experiment.py folder"
   ]
  },
  {
   "cell_type": "code",
   "execution_count": 2,
   "metadata": {},
   "outputs": [],
   "source": [
    "# Import General Libraries\n",
    "import os\n",
    "import argparse\n",
    "import torch\n",
    "import copy\n",
    "import pickle\n",
    "import random\n",
    "import numpy as np\n",
    "import pandas as pd\n",
    "\n",
    "# Import FedEM based Libraries\n",
    "from utils.utils import *\n",
    "from utils.constants import *\n",
    "from utils.args import *\n",
    "from torch.utils.tensorboard import SummaryWriter\n",
    "from run_experiment import *\n",
    "from models import *\n",
    "\n",
    "# Import Transfer Attack\n",
    "from transfer_attacks.Personalized_NN import *\n",
    "from transfer_attacks.Params import *\n",
    "from transfer_attacks.Transferer import *\n",
    "from transfer_attacks.Args import *"
   ]
  },
  {
   "cell_type": "markdown",
   "metadata": {},
   "source": [
    "### Generate Aggregator Pre-requisite\n",
    "- Clients, Test Clients, Ensemble_Learner\n",
    "- Follow through the code in run_experiment.py"
   ]
  },
  {
   "cell_type": "code",
   "execution_count": 3,
   "metadata": {},
   "outputs": [
    {
     "name": "stdout",
     "output_type": "stream",
     "text": [
      "==> Clients initialization..\n",
      "===> Building data iterators..\n"
     ]
    },
    {
     "name": "stderr",
     "output_type": "stream",
     "text": [
      "100%|██████████████████████████████████████████| 80/80 [00:00<00:00, 260.79it/s]\n"
     ]
    },
    {
     "name": "stdout",
     "output_type": "stream",
     "text": [
      "===> Initializing clients..\n"
     ]
    },
    {
     "name": "stderr",
     "output_type": "stream",
     "text": [
      "100%|███████████████████████████████████████████| 80/80 [00:30<00:00,  2.62it/s]\n"
     ]
    },
    {
     "name": "stdout",
     "output_type": "stream",
     "text": [
      "==> Test Clients initialization..\n",
      "===> Building data iterators..\n"
     ]
    },
    {
     "name": "stderr",
     "output_type": "stream",
     "text": [
      "0it [00:00, ?it/s]\n"
     ]
    },
    {
     "name": "stdout",
     "output_type": "stream",
     "text": [
      "===> Initializing clients..\n"
     ]
    },
    {
     "name": "stderr",
     "output_type": "stream",
     "text": [
      "0it [00:00, ?it/s]\n"
     ]
    },
    {
     "name": "stdout",
     "output_type": "stream",
     "text": [
      "++++++++++++++++++++++++++++++\n",
      "Global..\n",
      "Train Loss: 2.292 | Train Acc: 12.159% |Test Loss: 2.292 | Test Acc: 12.248% |\n",
      "++++++++++++++++++++++++++++++++++++++++++++++++++\n",
      "################################################################################\n"
     ]
    }
   ],
   "source": [
    "# Manually set argument parameters\n",
    "args_ = Args()\n",
    "args_.experiment = \"cifar10\"\n",
    "args_.method = \"FedEM\"\n",
    "args_.decentralized = False\n",
    "args_.sampling_rate = 1.0\n",
    "args_.input_dimension = None\n",
    "args_.output_dimension = None\n",
    "args_.n_learners= 3\n",
    "args_.n_rounds = 10\n",
    "args_.bz = 128\n",
    "args_.local_steps = 1\n",
    "args_.lr_lambda = 0\n",
    "args_.lr =0.03\n",
    "args_.lr_scheduler = 'multi_step'\n",
    "args_.log_freq = 10\n",
    "args_.device = 'cuda'\n",
    "args_.optimizer = 'sgd'\n",
    "args_.mu = 0\n",
    "args_.communication_probability = 0.1\n",
    "args_.q = 1\n",
    "args_.locally_tune_clients = False\n",
    "args_.seed = 1234\n",
    "args_.verbose = 1\n",
    "args_.save_path = 'weights/cifar/21_09_28_first_transfers/'\n",
    "args_.validation = False\n",
    "\n",
    "# Generate the dummy values here\n",
    "aggregator, clients = dummy_aggregator(args_)"
   ]
  },
  {
   "cell_type": "code",
   "execution_count": 4,
   "metadata": {},
   "outputs": [],
   "source": [
    "# Import weights for aggregator\n",
    "aggregator.load_state(args_.save_path)\n",
    "\n",
    "# This is where the models are stored -- one for each mixture --> learner.model for nn\n",
    "hypotheses = aggregator.global_learners_ensemble.learners\n",
    "\n",
    "# obtain the state dict for each of the weights \n",
    "weights_h = []\n",
    "\n",
    "for h in hypotheses:\n",
    "    weights_h += [h.model.state_dict()]"
   ]
  },
  {
   "cell_type": "code",
   "execution_count": 5,
   "metadata": {},
   "outputs": [],
   "source": [
    "weights = np.load(\"weights/cifar/21_09_28_first_transfers/train_client_weights.npy\")\n",
    "np.set_printoptions(formatter={'float': lambda x: \"{0:0.2f}\".format(x)})\n",
    "\n",
    "#print(weights)\n",
    "\n",
    "# Set model weights\n",
    "model_weights = []\n",
    "num_models = 5\n",
    "\n",
    "for i in range(num_models):\n",
    "    model_weights += [weights[i]]\n",
    "    \n",
    "    \n",
    "# Generate the weights to test on as linear combinations of the model_weights\n",
    "models_test = []\n",
    "\n",
    "for (w0,w1,w2) in model_weights:\n",
    "    # first make the model with empty weights\n",
    "    new_model = copy.deepcopy(hypotheses[0].model)\n",
    "    new_model.eval()\n",
    "    new_weight_dict = copy.deepcopy(weights_h[0])\n",
    "    for key in weights_h[0]:\n",
    "        new_weight_dict[key] = w0*weights_h[0][key] + w1*weights_h[1][key] + w2*weights_h[2][key]\n",
    "    new_model.load_state_dict(new_weight_dict)\n",
    "    models_test += [new_model]"
   ]
  },
  {
   "cell_type": "markdown",
   "metadata": {},
   "source": [
    "### Generate Data "
   ]
  },
  {
   "cell_type": "code",
   "execution_count": 6,
   "metadata": {},
   "outputs": [],
   "source": [
    "# Combine Validation Data across all clients as test\n",
    "data_x = []\n",
    "data_y = []\n",
    "\n",
    "for i in range(len(clients)):\n",
    "    daniloader = clients[i].val_iterator\n",
    "    for (x,y,idx) in daniloader.dataset:\n",
    "        data_x.append(x)\n",
    "        data_y.append(y)\n",
    "\n",
    "data_x = torch.stack(data_x)\n",
    "data_y = torch.stack(data_y)"
   ]
  },
  {
   "cell_type": "code",
   "execution_count": 7,
   "metadata": {},
   "outputs": [],
   "source": [
    "# Create dataloader from validation dataset that allows for diverse batch size\n",
    "dataloader = Custom_Dataloader(data_x, data_y)"
   ]
  },
  {
   "cell_type": "markdown",
   "metadata": {},
   "source": [
    "### Set Up Transfer Attack Scenario\n",
    "- Set up order of which attacks will take place -- keep the same transferer, but simply swap out the weights of the adversary and flush out the existing data points analysis was done on\n",
    "- Make dictionaries beforehand recording all of the metrics"
   ]
  },
  {
   "cell_type": "code",
   "execution_count": 8,
   "metadata": {},
   "outputs": [],
   "source": [
    "# Set Up Dictionaries -- list holds the adversary idx\n",
    "logs_adv = []\n",
    "\n",
    "for i in range(len(model_weights)):\n",
    "    adv_dict = {}\n",
    "    adv_dict['orig_acc_transfers'] = None\n",
    "    adv_dict['orig_similarities'] = None\n",
    "    adv_dict['adv_acc_transfers'] = None\n",
    "    adv_dict['adv_similarities'] = None\n",
    "    adv_dict['orig_target_hit'] = None\n",
    "    adv_dict['adv_target_hit'] = None\n",
    "    adv_dict['metric_variance'] = None\n",
    "    adv_dict['metric_alignment'] = None\n",
    "    adv_dict['metric_ingrad'] = None\n",
    "    logs_adv += [adv_dict]"
   ]
  },
  {
   "cell_type": "code",
   "execution_count": 10,
   "metadata": {},
   "outputs": [
    {
     "name": "stdout",
     "output_type": "stream",
     "text": [
      "id 0\n",
      "id 1\n",
      "id 2\n",
      "id 3\n",
      "id 4\n"
     ]
    }
   ],
   "source": [
    "# Make transferer and Assign model index\n",
    "victim_idxs = [0,1,2,3,4]\n",
    "\n",
    "for adv_idx in victim_idxs:\n",
    "    print(\"id\", adv_idx)\n",
    "    # Perform Attack\n",
    "    t1 = Transferer(models_list=models_test, dataloader=dataloader)\n",
    "    \n",
    "    # atk Params setup\n",
    "    t1.ifsgm_params.set_params(batch_size=500, eps=0.1, alpha=0.05, iteration = 30,\n",
    "                   target = 5, x_val_min = torch.min(data_x), x_val_max = torch.max(data_x))\n",
    "    \n",
    "    \n",
    "    t1.generate_victims(victim_idxs)\n",
    "    t1.generate_advNN(adv_idx)\n",
    "    t1.generate_xadv(atk_type = \"ifsgm\")\n",
    "    t1.send_to_victims(victim_idxs)\n",
    "    t1.check_empirical_metrics(orig_flag = True)\n",
    "    # t1.check_empirical_metrics()\n",
    "    \n",
    "    # Log Performance\n",
    "    logs_adv[adv_idx]['orig_acc_transfers'] = t1.orig_acc_transfers\n",
    "    logs_adv[adv_idx]['orig_similarities'] = t1.orig_similarities\n",
    "    logs_adv[adv_idx]['adv_acc_transfers'] = t1.adv_acc_transfers\n",
    "    logs_adv[adv_idx]['adv_similarities'] = t1.adv_similarities\n",
    "    logs_adv[adv_idx]['orig_target_hit'] = t1.orig_target_hit\n",
    "    logs_adv[adv_idx]['adv_target_hit'] = t1.adv_target_hit\n",
    "    \n",
    "    logs_adv[adv_idx]['metric_variance'] = t1.metric_variance\n",
    "    logs_adv[adv_idx]['metric_alignment'] = t1.metric_alignment\n",
    "    logs_adv[adv_idx]['metric_ingrad'] = t1.metric_ingrad"
   ]
  },
  {
   "cell_type": "markdown",
   "metadata": {},
   "source": [
    "### Print and Record Results\n",
    "- Organize the results into a matrix and print them into an excel sheet\n",
    "- Following Categories (sim_benign, sim_adv, target_adv,grad_alignment)"
   ]
  },
  {
   "cell_type": "code",
   "execution_count": 11,
   "metadata": {},
   "outputs": [],
   "source": [
    "metrics = ['orig_acc_transfers','orig_similarities','adv_similarities','adv_target_hit','metric_alignment']\n",
    "\n",
    "orig_acc = np.zeros([len(victim_idxs),len(victim_idxs)]) \n",
    "sim_benign = np.zeros([len(victim_idxs),len(victim_idxs)]) \n",
    "sim_adv = np.zeros([len(victim_idxs),len(victim_idxs)]) \n",
    "target_adv = np.zeros([len(victim_idxs),len(victim_idxs)]) \n",
    "grad_align = np.zeros([len(victim_idxs),len(victim_idxs)]) "
   ]
  },
  {
   "cell_type": "code",
   "execution_count": 12,
   "metadata": {},
   "outputs": [],
   "source": [
    "for adv_idx in victim_idxs:\n",
    "    for victim in victim_idxs:\n",
    "        orig_acc[adv_idx,victim] = logs_adv[adv_idx][metrics[0]][victim].data.tolist()\n",
    "        sim_benign[adv_idx,victim] = logs_adv[adv_idx][metrics[1]][victim].data.tolist()\n",
    "        sim_adv[adv_idx,victim] = logs_adv[adv_idx][metrics[2]][victim].data.tolist()\n",
    "        target_adv[adv_idx,victim] = logs_adv[adv_idx][metrics[3]][victim].data.tolist()\n",
    "        grad_align[adv_idx,victim] = logs_adv[adv_idx][metrics[4]][victim].data.tolist()"
   ]
  },
  {
   "cell_type": "code",
   "execution_count": 13,
   "metadata": {},
   "outputs": [],
   "source": [
    "# Save to Excel file\n",
    "\n",
    "## convert your array into a dataframe\n",
    "orig_acc_df = pd.DataFrame(orig_acc)\n",
    "sim_benign_df = pd.DataFrame(sim_benign)\n",
    "sim_adv_df = pd.DataFrame(sim_adv)\n",
    "target_adv_df = pd.DataFrame(target_adv)\n",
    "grad_align_df = pd.DataFrame(grad_align)\n",
    "\n",
    "## save to xlsx file\n",
    "\n",
    "#filepath = 'my_excel_file.xlsx'\n",
    "\n",
    "# df.to_excel(filepath, index=False)"
   ]
  },
  {
   "cell_type": "code",
   "execution_count": 14,
   "metadata": {},
   "outputs": [
    {
     "data": {
      "text/html": [
       "<div>\n",
       "<style scoped>\n",
       "    .dataframe tbody tr th:only-of-type {\n",
       "        vertical-align: middle;\n",
       "    }\n",
       "\n",
       "    .dataframe tbody tr th {\n",
       "        vertical-align: top;\n",
       "    }\n",
       "\n",
       "    .dataframe thead th {\n",
       "        text-align: right;\n",
       "    }\n",
       "</style>\n",
       "<table border=\"1\" class=\"dataframe\">\n",
       "  <thead>\n",
       "    <tr style=\"text-align: right;\">\n",
       "      <th></th>\n",
       "      <th>0</th>\n",
       "      <th>1</th>\n",
       "      <th>2</th>\n",
       "      <th>3</th>\n",
       "      <th>4</th>\n",
       "    </tr>\n",
       "  </thead>\n",
       "  <tbody>\n",
       "    <tr>\n",
       "      <th>0</th>\n",
       "      <td>0.810</td>\n",
       "      <td>0.772</td>\n",
       "      <td>0.838</td>\n",
       "      <td>0.786</td>\n",
       "      <td>0.832</td>\n",
       "    </tr>\n",
       "    <tr>\n",
       "      <th>1</th>\n",
       "      <td>0.830</td>\n",
       "      <td>0.790</td>\n",
       "      <td>0.858</td>\n",
       "      <td>0.802</td>\n",
       "      <td>0.830</td>\n",
       "    </tr>\n",
       "    <tr>\n",
       "      <th>2</th>\n",
       "      <td>0.830</td>\n",
       "      <td>0.758</td>\n",
       "      <td>0.850</td>\n",
       "      <td>0.762</td>\n",
       "      <td>0.808</td>\n",
       "    </tr>\n",
       "    <tr>\n",
       "      <th>3</th>\n",
       "      <td>0.818</td>\n",
       "      <td>0.768</td>\n",
       "      <td>0.852</td>\n",
       "      <td>0.784</td>\n",
       "      <td>0.830</td>\n",
       "    </tr>\n",
       "    <tr>\n",
       "      <th>4</th>\n",
       "      <td>0.832</td>\n",
       "      <td>0.780</td>\n",
       "      <td>0.854</td>\n",
       "      <td>0.800</td>\n",
       "      <td>0.844</td>\n",
       "    </tr>\n",
       "  </tbody>\n",
       "</table>\n",
       "</div>"
      ],
      "text/plain": [
       "       0      1      2      3      4\n",
       "0  0.810  0.772  0.838  0.786  0.832\n",
       "1  0.830  0.790  0.858  0.802  0.830\n",
       "2  0.830  0.758  0.850  0.762  0.808\n",
       "3  0.818  0.768  0.852  0.784  0.830\n",
       "4  0.832  0.780  0.854  0.800  0.844"
      ]
     },
     "execution_count": 14,
     "metadata": {},
     "output_type": "execute_result"
    }
   ],
   "source": [
    "orig_acc_df"
   ]
  },
  {
   "cell_type": "code",
   "execution_count": 15,
   "metadata": {},
   "outputs": [
    {
     "data": {
      "text/html": [
       "<div>\n",
       "<style scoped>\n",
       "    .dataframe tbody tr th:only-of-type {\n",
       "        vertical-align: middle;\n",
       "    }\n",
       "\n",
       "    .dataframe tbody tr th {\n",
       "        vertical-align: top;\n",
       "    }\n",
       "\n",
       "    .dataframe thead th {\n",
       "        text-align: right;\n",
       "    }\n",
       "</style>\n",
       "<table border=\"1\" class=\"dataframe\">\n",
       "  <thead>\n",
       "    <tr style=\"text-align: right;\">\n",
       "      <th></th>\n",
       "      <th>0</th>\n",
       "      <th>1</th>\n",
       "      <th>2</th>\n",
       "      <th>3</th>\n",
       "      <th>4</th>\n",
       "    </tr>\n",
       "  </thead>\n",
       "  <tbody>\n",
       "    <tr>\n",
       "      <th>0</th>\n",
       "      <td>1.000</td>\n",
       "      <td>0.776</td>\n",
       "      <td>0.812</td>\n",
       "      <td>0.658</td>\n",
       "      <td>0.746</td>\n",
       "    </tr>\n",
       "    <tr>\n",
       "      <th>1</th>\n",
       "      <td>0.782</td>\n",
       "      <td>1.000</td>\n",
       "      <td>0.794</td>\n",
       "      <td>0.738</td>\n",
       "      <td>0.758</td>\n",
       "    </tr>\n",
       "    <tr>\n",
       "      <th>2</th>\n",
       "      <td>0.836</td>\n",
       "      <td>0.758</td>\n",
       "      <td>1.000</td>\n",
       "      <td>0.778</td>\n",
       "      <td>0.890</td>\n",
       "    </tr>\n",
       "    <tr>\n",
       "      <th>3</th>\n",
       "      <td>0.660</td>\n",
       "      <td>0.736</td>\n",
       "      <td>0.778</td>\n",
       "      <td>1.000</td>\n",
       "      <td>0.868</td>\n",
       "    </tr>\n",
       "    <tr>\n",
       "      <th>4</th>\n",
       "      <td>0.754</td>\n",
       "      <td>0.766</td>\n",
       "      <td>0.882</td>\n",
       "      <td>0.884</td>\n",
       "      <td>1.000</td>\n",
       "    </tr>\n",
       "  </tbody>\n",
       "</table>\n",
       "</div>"
      ],
      "text/plain": [
       "       0      1      2      3      4\n",
       "0  1.000  0.776  0.812  0.658  0.746\n",
       "1  0.782  1.000  0.794  0.738  0.758\n",
       "2  0.836  0.758  1.000  0.778  0.890\n",
       "3  0.660  0.736  0.778  1.000  0.868\n",
       "4  0.754  0.766  0.882  0.884  1.000"
      ]
     },
     "execution_count": 15,
     "metadata": {},
     "output_type": "execute_result"
    }
   ],
   "source": [
    "sim_benign_df"
   ]
  },
  {
   "cell_type": "code",
   "execution_count": 16,
   "metadata": {},
   "outputs": [
    {
     "data": {
      "text/html": [
       "<div>\n",
       "<style scoped>\n",
       "    .dataframe tbody tr th:only-of-type {\n",
       "        vertical-align: middle;\n",
       "    }\n",
       "\n",
       "    .dataframe tbody tr th {\n",
       "        vertical-align: top;\n",
       "    }\n",
       "\n",
       "    .dataframe thead th {\n",
       "        text-align: right;\n",
       "    }\n",
       "</style>\n",
       "<table border=\"1\" class=\"dataframe\">\n",
       "  <thead>\n",
       "    <tr style=\"text-align: right;\">\n",
       "      <th></th>\n",
       "      <th>0</th>\n",
       "      <th>1</th>\n",
       "      <th>2</th>\n",
       "      <th>3</th>\n",
       "      <th>4</th>\n",
       "    </tr>\n",
       "  </thead>\n",
       "  <tbody>\n",
       "    <tr>\n",
       "      <th>0</th>\n",
       "      <td>1.000</td>\n",
       "      <td>0.606</td>\n",
       "      <td>0.880</td>\n",
       "      <td>0.320</td>\n",
       "      <td>0.648</td>\n",
       "    </tr>\n",
       "    <tr>\n",
       "      <th>1</th>\n",
       "      <td>0.814</td>\n",
       "      <td>1.000</td>\n",
       "      <td>0.792</td>\n",
       "      <td>0.568</td>\n",
       "      <td>0.666</td>\n",
       "    </tr>\n",
       "    <tr>\n",
       "      <th>2</th>\n",
       "      <td>0.920</td>\n",
       "      <td>0.666</td>\n",
       "      <td>1.000</td>\n",
       "      <td>0.566</td>\n",
       "      <td>0.892</td>\n",
       "    </tr>\n",
       "    <tr>\n",
       "      <th>3</th>\n",
       "      <td>0.600</td>\n",
       "      <td>0.640</td>\n",
       "      <td>0.766</td>\n",
       "      <td>1.000</td>\n",
       "      <td>0.852</td>\n",
       "    </tr>\n",
       "    <tr>\n",
       "      <th>4</th>\n",
       "      <td>0.826</td>\n",
       "      <td>0.660</td>\n",
       "      <td>0.934</td>\n",
       "      <td>0.754</td>\n",
       "      <td>1.000</td>\n",
       "    </tr>\n",
       "  </tbody>\n",
       "</table>\n",
       "</div>"
      ],
      "text/plain": [
       "       0      1      2      3      4\n",
       "0  1.000  0.606  0.880  0.320  0.648\n",
       "1  0.814  1.000  0.792  0.568  0.666\n",
       "2  0.920  0.666  1.000  0.566  0.892\n",
       "3  0.600  0.640  0.766  1.000  0.852\n",
       "4  0.826  0.660  0.934  0.754  1.000"
      ]
     },
     "execution_count": 16,
     "metadata": {},
     "output_type": "execute_result"
    }
   ],
   "source": [
    "sim_adv_df"
   ]
  },
  {
   "cell_type": "code",
   "execution_count": 17,
   "metadata": {},
   "outputs": [
    {
     "data": {
      "text/html": [
       "<div>\n",
       "<style scoped>\n",
       "    .dataframe tbody tr th:only-of-type {\n",
       "        vertical-align: middle;\n",
       "    }\n",
       "\n",
       "    .dataframe tbody tr th {\n",
       "        vertical-align: top;\n",
       "    }\n",
       "\n",
       "    .dataframe thead th {\n",
       "        text-align: right;\n",
       "    }\n",
       "</style>\n",
       "<table border=\"1\" class=\"dataframe\">\n",
       "  <thead>\n",
       "    <tr style=\"text-align: right;\">\n",
       "      <th></th>\n",
       "      <th>0</th>\n",
       "      <th>1</th>\n",
       "      <th>2</th>\n",
       "      <th>3</th>\n",
       "      <th>4</th>\n",
       "    </tr>\n",
       "  </thead>\n",
       "  <tbody>\n",
       "    <tr>\n",
       "      <th>0</th>\n",
       "      <td>0.936</td>\n",
       "      <td>0.546</td>\n",
       "      <td>0.822</td>\n",
       "      <td>0.268</td>\n",
       "      <td>0.592</td>\n",
       "    </tr>\n",
       "    <tr>\n",
       "      <th>1</th>\n",
       "      <td>0.696</td>\n",
       "      <td>0.830</td>\n",
       "      <td>0.668</td>\n",
       "      <td>0.456</td>\n",
       "      <td>0.550</td>\n",
       "    </tr>\n",
       "    <tr>\n",
       "      <th>2</th>\n",
       "      <td>0.856</td>\n",
       "      <td>0.580</td>\n",
       "      <td>0.898</td>\n",
       "      <td>0.490</td>\n",
       "      <td>0.804</td>\n",
       "    </tr>\n",
       "    <tr>\n",
       "      <th>3</th>\n",
       "      <td>0.476</td>\n",
       "      <td>0.512</td>\n",
       "      <td>0.614</td>\n",
       "      <td>0.804</td>\n",
       "      <td>0.684</td>\n",
       "    </tr>\n",
       "    <tr>\n",
       "      <th>4</th>\n",
       "      <td>0.750</td>\n",
       "      <td>0.538</td>\n",
       "      <td>0.852</td>\n",
       "      <td>0.608</td>\n",
       "      <td>0.830</td>\n",
       "    </tr>\n",
       "  </tbody>\n",
       "</table>\n",
       "</div>"
      ],
      "text/plain": [
       "       0      1      2      3      4\n",
       "0  0.936  0.546  0.822  0.268  0.592\n",
       "1  0.696  0.830  0.668  0.456  0.550\n",
       "2  0.856  0.580  0.898  0.490  0.804\n",
       "3  0.476  0.512  0.614  0.804  0.684\n",
       "4  0.750  0.538  0.852  0.608  0.830"
      ]
     },
     "execution_count": 17,
     "metadata": {},
     "output_type": "execute_result"
    }
   ],
   "source": [
    "target_adv_df"
   ]
  },
  {
   "cell_type": "code",
   "execution_count": 18,
   "metadata": {},
   "outputs": [
    {
     "data": {
      "text/html": [
       "<div>\n",
       "<style scoped>\n",
       "    .dataframe tbody tr th:only-of-type {\n",
       "        vertical-align: middle;\n",
       "    }\n",
       "\n",
       "    .dataframe tbody tr th {\n",
       "        vertical-align: top;\n",
       "    }\n",
       "\n",
       "    .dataframe thead th {\n",
       "        text-align: right;\n",
       "    }\n",
       "</style>\n",
       "<table border=\"1\" class=\"dataframe\">\n",
       "  <thead>\n",
       "    <tr style=\"text-align: right;\">\n",
       "      <th></th>\n",
       "      <th>0</th>\n",
       "      <th>1</th>\n",
       "      <th>2</th>\n",
       "      <th>3</th>\n",
       "      <th>4</th>\n",
       "    </tr>\n",
       "  </thead>\n",
       "  <tbody>\n",
       "    <tr>\n",
       "      <th>0</th>\n",
       "      <td>0.000000</td>\n",
       "      <td>1.150837</td>\n",
       "      <td>0.966697</td>\n",
       "      <td>1.304479</td>\n",
       "      <td>1.114666</td>\n",
       "    </tr>\n",
       "    <tr>\n",
       "      <th>1</th>\n",
       "      <td>1.185462</td>\n",
       "      <td>0.000000</td>\n",
       "      <td>1.122005</td>\n",
       "      <td>1.158944</td>\n",
       "      <td>1.141511</td>\n",
       "    </tr>\n",
       "    <tr>\n",
       "      <th>2</th>\n",
       "      <td>0.990399</td>\n",
       "      <td>1.133791</td>\n",
       "      <td>0.000000</td>\n",
       "      <td>1.167366</td>\n",
       "      <td>0.733285</td>\n",
       "    </tr>\n",
       "    <tr>\n",
       "      <th>3</th>\n",
       "      <td>1.336571</td>\n",
       "      <td>1.161997</td>\n",
       "      <td>1.159493</td>\n",
       "      <td>0.000000</td>\n",
       "      <td>1.025716</td>\n",
       "    </tr>\n",
       "    <tr>\n",
       "      <th>4</th>\n",
       "      <td>1.154870</td>\n",
       "      <td>1.145009</td>\n",
       "      <td>0.741023</td>\n",
       "      <td>1.025293</td>\n",
       "      <td>0.000000</td>\n",
       "    </tr>\n",
       "  </tbody>\n",
       "</table>\n",
       "</div>"
      ],
      "text/plain": [
       "          0         1         2         3         4\n",
       "0  0.000000  1.150837  0.966697  1.304479  1.114666\n",
       "1  1.185462  0.000000  1.122005  1.158944  1.141511\n",
       "2  0.990399  1.133791  0.000000  1.167366  0.733285\n",
       "3  1.336571  1.161997  1.159493  0.000000  1.025716\n",
       "4  1.154870  1.145009  0.741023  1.025293  0.000000"
      ]
     },
     "execution_count": 18,
     "metadata": {},
     "output_type": "execute_result"
    }
   ],
   "source": [
    "grad_align_df"
   ]
  },
  {
   "cell_type": "code",
   "execution_count": 19,
   "metadata": {},
   "outputs": [
    {
     "name": "stdout",
     "output_type": "stream",
     "text": [
      "orig_acc_mean 0.8127200317382812\n",
      "Sim Benign Mean 0.7827000379562378\n",
      "Sim ADV Mean 0.7185000255703926\n",
      "Target ADV Mean 0.5830000400543213\n",
      "Grad Align Mean 0.8767765545845032\n"
     ]
    }
   ],
   "source": [
    "# Average all the information together and present\n",
    "orig_acc_mean = np.mean(orig_acc)\n",
    "sim_benign_mean = np.mean((sim_benign.sum(1)-1)/(sim_benign.shape[1]-1))\n",
    "sim_adv_mean = np.mean((sim_adv_df.sum(1)-1)/(sim_adv_df.shape[1]-1))\n",
    "target_adv_mean = np.mean((target_adv.sum(1)-1)/(target_adv.shape[1]-1))\n",
    "grad_align_mean = np.mean((grad_align.sum(1)-0)/(grad_align.shape[1]-0))\n",
    "\n",
    "print(\"orig_acc_mean\", orig_acc_mean)\n",
    "print(\"Sim Benign Mean\", sim_benign_mean)\n",
    "print(\"Sim ADV Mean\", sim_adv_mean)\n",
    "print(\"Target ADV Mean\", target_adv_mean)\n",
    "print(\"Grad Align Mean\", grad_align_mean)"
   ]
  },
  {
   "cell_type": "code",
   "execution_count": null,
   "metadata": {},
   "outputs": [],
   "source": []
  }
 ],
 "metadata": {
  "kernelspec": {
   "display_name": "FedEM_env",
   "language": "python",
   "name": "fedem_env"
  },
  "language_info": {
   "codemirror_mode": {
    "name": "ipython",
    "version": 3
   },
   "file_extension": ".py",
   "mimetype": "text/x-python",
   "name": "python",
   "nbconvert_exporter": "python",
   "pygments_lexer": "ipython3",
   "version": "3.9.6"
  }
 },
 "nbformat": 4,
 "nbformat_minor": 4
}
