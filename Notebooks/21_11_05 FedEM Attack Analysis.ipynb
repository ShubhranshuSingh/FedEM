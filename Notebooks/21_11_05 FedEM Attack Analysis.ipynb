{
 "cells": [
  {
   "cell_type": "markdown",
   "metadata": {},
   "source": [
    "# FedEM Attack Analysis\n",
    "\n",
    "TJ Kim\n",
    "11.5.21\n",
    "\n",
    "#### Summary:\n",
    "- Load the locally trained model and FedEM model\n",
    "- nodes = 3, mixtures = 3"
   ]
  },
  {
   "cell_type": "code",
   "execution_count": 1,
   "metadata": {},
   "outputs": [
    {
     "name": "stdout",
     "output_type": "stream",
     "text": [
      "/home/ubuntu/FedEM\n"
     ]
    }
   ],
   "source": [
    "cd /home/ubuntu/FedEM/"
   ]
  },
  {
   "cell_type": "markdown",
   "metadata": {},
   "source": [
    "### Import Relevant Libraries\n",
    "Take it from the run_experiment.py folder"
   ]
  },
  {
   "cell_type": "code",
   "execution_count": 2,
   "metadata": {},
   "outputs": [],
   "source": [
    "# Import General Libraries\n",
    "import os\n",
    "import argparse\n",
    "import torch\n",
    "import copy\n",
    "import pickle\n",
    "import random\n",
    "import numpy as np\n",
    "import pandas as pd\n",
    "\n",
    "# Import FedEM based Libraries\n",
    "from utils.utils import *\n",
    "from utils.constants import *\n",
    "from utils.args import *\n",
    "from torch.utils.tensorboard import SummaryWriter\n",
    "from run_experiment import *\n",
    "from models import *\n",
    "\n",
    "# Import Transfer Attack\n",
    "from transfer_attacks.Personalized_NN import *\n",
    "from transfer_attacks.Params import *\n",
    "from transfer_attacks.Transferer import *\n",
    "from transfer_attacks.Args import *"
   ]
  },
  {
   "cell_type": "markdown",
   "metadata": {},
   "source": [
    "### Generate Aggregator Pre-requisite\n",
    "- Clients, Test Clients, Ensemble_Learner\n",
    "- Follow through the code in run_experiment.py"
   ]
  },
  {
   "cell_type": "code",
   "execution_count": 3,
   "metadata": {},
   "outputs": [
    {
     "name": "stdout",
     "output_type": "stream",
     "text": [
      "==> Clients initialization..\n",
      "===> Building data iterators..\n"
     ]
    },
    {
     "name": "stderr",
     "output_type": "stream",
     "text": [
      "100%|██████████████████████████████████████████| 80/80 [00:00<00:00, 209.48it/s]\n"
     ]
    },
    {
     "name": "stdout",
     "output_type": "stream",
     "text": [
      "===> Initializing clients..\n"
     ]
    },
    {
     "name": "stderr",
     "output_type": "stream",
     "text": [
      "100%|███████████████████████████████████████████| 80/80 [00:30<00:00,  2.60it/s]\n"
     ]
    },
    {
     "name": "stdout",
     "output_type": "stream",
     "text": [
      "==> Test Clients initialization..\n",
      "===> Building data iterators..\n"
     ]
    },
    {
     "name": "stderr",
     "output_type": "stream",
     "text": [
      "0it [00:00, ?it/s]\n"
     ]
    },
    {
     "name": "stdout",
     "output_type": "stream",
     "text": [
      "===> Initializing clients..\n"
     ]
    },
    {
     "name": "stderr",
     "output_type": "stream",
     "text": [
      "0it [00:00, ?it/s]\n"
     ]
    },
    {
     "name": "stdout",
     "output_type": "stream",
     "text": [
      "++++++++++++++++++++++++++++++\n",
      "Global..\n",
      "Train Loss: 2.292 | Train Acc: 12.159% |Test Loss: 2.292 | Test Acc: 12.248% |\n",
      "++++++++++++++++++++++++++++++++++++++++++++++++++\n",
      "################################################################################\n"
     ]
    }
   ],
   "source": [
    "# Manually set argument parameters\n",
    "args_ = Args()\n",
    "args_.experiment = \"cifar10\"\n",
    "args_.method = \"FedEM\"\n",
    "args_.decentralized = False\n",
    "args_.sampling_rate = 1.0\n",
    "args_.input_dimension = None\n",
    "args_.output_dimension = None\n",
    "args_.n_learners= 3\n",
    "args_.n_rounds = 10\n",
    "args_.bz = 128\n",
    "args_.local_steps = 1\n",
    "args_.lr_lambda = 0\n",
    "args_.lr =0.03\n",
    "args_.lr_scheduler = 'multi_step'\n",
    "args_.log_freq = 10\n",
    "args_.device = 'cuda'\n",
    "args_.optimizer = 'sgd'\n",
    "args_.mu = 0\n",
    "args_.communication_probability = 0.1\n",
    "args_.q = 1\n",
    "args_.locally_tune_clients = False\n",
    "args_.seed = 1234\n",
    "args_.verbose = 1\n",
    "args_.save_path = 'weights/cifar/21_12_02_first_transfers_xadv_train/'\n",
    "args_.validation = False\n",
    "\n",
    "# Generate the dummy values here\n",
    "aggregator, clients = dummy_aggregator(args_)"
   ]
  },
  {
   "cell_type": "code",
   "execution_count": 4,
   "metadata": {},
   "outputs": [],
   "source": [
    "# Import weights for aggregator\n",
    "aggregator.load_state(args_.save_path)\n",
    "\n",
    "# This is where the models are stored -- one for each mixture --> learner.model for nn\n",
    "hypotheses = aggregator.global_learners_ensemble.learners\n",
    "\n",
    "# obtain the state dict for each of the weights \n",
    "weights_h = []\n",
    "\n",
    "for h in hypotheses:\n",
    "    weights_h += [h.model.state_dict()]"
   ]
  },
  {
   "cell_type": "code",
   "execution_count": 5,
   "metadata": {},
   "outputs": [],
   "source": [
    "weights = np.load(\"weights/cifar/21_12_02_first_transfers_xadv_train/train_client_weights.npy\")\n",
    "np.set_printoptions(formatter={'float': lambda x: \"{0:0.2f}\".format(x)})\n",
    "\n",
    "#print(weights)\n",
    "\n",
    "# Set model weights\n",
    "model_weights = []\n",
    "num_models = 7\n",
    "\n",
    "for i in range(num_models):\n",
    "    model_weights += [weights[i]]\n",
    "    \n",
    "    \n",
    "# Generate the weights to test on as linear combinations of the model_weights\n",
    "models_test = []\n",
    "\n",
    "for (w0,w1,w2) in model_weights:\n",
    "    # first make the model with empty weights\n",
    "    new_model = copy.deepcopy(hypotheses[0].model)\n",
    "    new_model.eval()\n",
    "    new_weight_dict = copy.deepcopy(weights_h[0])\n",
    "    for key in weights_h[0]:\n",
    "        new_weight_dict[key] = w0*weights_h[0][key] + w1*weights_h[1][key] + w2*weights_h[2][key]\n",
    "    new_model.load_state_dict(new_weight_dict)\n",
    "    models_test += [new_model]"
   ]
  },
  {
   "cell_type": "markdown",
   "metadata": {},
   "source": [
    "### Generate Data "
   ]
  },
  {
   "cell_type": "code",
   "execution_count": 6,
   "metadata": {},
   "outputs": [],
   "source": [
    "# Combine Validation Data across all clients as test\n",
    "data_x = []\n",
    "data_y = []\n",
    "\n",
    "for i in range(len(clients)):\n",
    "    daniloader = clients[i].val_iterator\n",
    "    for (x,y,idx) in daniloader.dataset:\n",
    "        data_x.append(x)\n",
    "        data_y.append(y)\n",
    "\n",
    "data_x = torch.stack(data_x)\n",
    "data_y = torch.stack(data_y)"
   ]
  },
  {
   "cell_type": "code",
   "execution_count": 7,
   "metadata": {},
   "outputs": [],
   "source": [
    "# Create dataloader from validation dataset that allows for diverse batch size\n",
    "dataloader = Custom_Dataloader(data_x, data_y)"
   ]
  },
  {
   "cell_type": "markdown",
   "metadata": {},
   "source": [
    "### Set Up Transfer Attack Scenario\n",
    "- Set up order of which attacks will take place -- keep the same transferer, but simply swap out the weights of the adversary and flush out the existing data points analysis was done on\n",
    "- Make dictionaries beforehand recording all of the metrics"
   ]
  },
  {
   "cell_type": "code",
   "execution_count": 8,
   "metadata": {},
   "outputs": [],
   "source": [
    "# Set Up Dictionaries -- list holds the adversary idx\n",
    "logs_adv = []\n",
    "\n",
    "for i in range(len(model_weights)):\n",
    "    adv_dict = {}\n",
    "    adv_dict['orig_acc_transfers'] = None\n",
    "    adv_dict['orig_similarities'] = None\n",
    "    adv_dict['adv_acc_transfers'] = None\n",
    "    adv_dict['adv_similarities'] = None\n",
    "    adv_dict['orig_target_hit'] = None\n",
    "    adv_dict['adv_target_hit'] = None\n",
    "    adv_dict['metric_variance'] = None\n",
    "    adv_dict['metric_alignment'] = None\n",
    "    adv_dict['metric_ingrad'] = None\n",
    "    logs_adv += [adv_dict]"
   ]
  },
  {
   "cell_type": "code",
   "execution_count": 9,
   "metadata": {},
   "outputs": [
    {
     "name": "stdout",
     "output_type": "stream",
     "text": [
      "id 0\n",
      "id 1\n",
      "id 2\n",
      "id 3\n",
      "id 4\n",
      "id 5\n",
      "id 6\n"
     ]
    }
   ],
   "source": [
    "# Make transferer and Assign model index\n",
    "victim_idxs = [0,1,2,3,4,5,6]\n",
    "\n",
    "for adv_idx in victim_idxs:\n",
    "    print(\"id\", adv_idx)\n",
    "    # Perform Attack\n",
    "    t1 = Transferer(models_list=models_test, dataloader=dataloader)\n",
    "    \n",
    "    # atk Params setup\n",
    "    t1.atk_params.set_params(batch_size=500, eps=0.1, alpha=0.05, iteration = 30,\n",
    "                   target = 9, x_val_min = torch.min(data_x), x_val_max = torch.max(data_x))\n",
    "    \n",
    "    t1.atk_params = PGD_Params()\n",
    "    t1.atk_params.set_params(batch_size=500, iteration = 30,\n",
    "                   target = 9, x_val_min = torch.min(data_x), x_val_max = torch.max(data_x),\n",
    "                   step_size = 0.05, step_norm = \"inf\", eps = 4.5, eps_norm = 2)\n",
    "\n",
    "    \n",
    "    t1.generate_victims(victim_idxs)\n",
    "    t1.generate_advNN(adv_idx)\n",
    "    t1.generate_xadv(atk_type = \"pgd\")\n",
    "    t1.send_to_victims(victim_idxs)\n",
    "    # t1.check_empirical_metrics(orig_flag = True)\n",
    "    # t1.check_empirical_metrics()\n",
    "    \n",
    "    # Log Performance\n",
    "    logs_adv[adv_idx]['orig_acc_transfers'] = t1.orig_acc_transfers\n",
    "    logs_adv[adv_idx]['orig_similarities'] = t1.orig_similarities\n",
    "    logs_adv[adv_idx]['adv_acc_transfers'] = t1.adv_acc_transfers\n",
    "    logs_adv[adv_idx]['adv_similarities'] = t1.adv_similarities\n",
    "    logs_adv[adv_idx]['orig_target_hit'] = t1.orig_target_hit\n",
    "    logs_adv[adv_idx]['adv_target_hit'] = t1.adv_target_hit\n",
    "    \n",
    "    logs_adv[adv_idx]['metric_variance'] = t1.metric_variance\n",
    "    logs_adv[adv_idx]['metric_alignment'] = t1.metric_alignment\n",
    "    logs_adv[adv_idx]['metric_ingrad'] = t1.metric_ingrad"
   ]
  },
  {
   "cell_type": "markdown",
   "metadata": {},
   "source": [
    "### Print and Record Results\n",
    "- Organize the results into a matrix and print them into an excel sheet\n",
    "- Following Categories (sim_benign, sim_adv, target_adv,grad_alignment)"
   ]
  },
  {
   "cell_type": "code",
   "execution_count": 10,
   "metadata": {},
   "outputs": [],
   "source": [
    "metrics = ['orig_acc_transfers','orig_similarities','adv_similarities','adv_target_hit','metric_alignment']\n",
    "\n",
    "orig_acc = np.zeros([len(victim_idxs),len(victim_idxs)]) \n",
    "sim_benign = np.zeros([len(victim_idxs),len(victim_idxs)]) \n",
    "sim_adv = np.zeros([len(victim_idxs),len(victim_idxs)]) \n",
    "target_adv = np.zeros([len(victim_idxs),len(victim_idxs)]) \n",
    "# grad_align = np.zeros([len(victim_idxs),len(victim_idxs)]) "
   ]
  },
  {
   "cell_type": "code",
   "execution_count": 11,
   "metadata": {},
   "outputs": [],
   "source": [
    "for adv_idx in victim_idxs:\n",
    "    for victim in victim_idxs:\n",
    "        orig_acc[adv_idx,victim] = logs_adv[adv_idx][metrics[0]][victim].data.tolist()\n",
    "        sim_benign[adv_idx,victim] = logs_adv[adv_idx][metrics[1]][victim].data.tolist()\n",
    "        sim_adv[adv_idx,victim] = logs_adv[adv_idx][metrics[2]][victim].data.tolist()\n",
    "        target_adv[adv_idx,victim] = logs_adv[adv_idx][metrics[3]][victim].data.tolist()\n",
    "#         grad_align[adv_idx,victim] = logs_adv[adv_idx][metrics[4]][victim].data.tolist()"
   ]
  },
  {
   "cell_type": "code",
   "execution_count": 12,
   "metadata": {},
   "outputs": [],
   "source": [
    "# Save to Excel file\n",
    "\n",
    "## convert your array into a dataframe\n",
    "orig_acc_df = pd.DataFrame(orig_acc)\n",
    "sim_benign_df = pd.DataFrame(sim_benign)\n",
    "sim_adv_df = pd.DataFrame(sim_adv)\n",
    "target_adv_df = pd.DataFrame(target_adv)\n",
    "# grad_align_df = pd.DataFrame(grad_align)\n",
    "\n",
    "## save to xlsx file\n",
    "\n",
    "#filepath = 'my_excel_file.xlsx'\n",
    "\n",
    "# df.to_excel(filepath, index=False)"
   ]
  },
  {
   "cell_type": "code",
   "execution_count": 13,
   "metadata": {},
   "outputs": [
    {
     "data": {
      "text/html": [
       "<div>\n",
       "<style scoped>\n",
       "    .dataframe tbody tr th:only-of-type {\n",
       "        vertical-align: middle;\n",
       "    }\n",
       "\n",
       "    .dataframe tbody tr th {\n",
       "        vertical-align: top;\n",
       "    }\n",
       "\n",
       "    .dataframe thead th {\n",
       "        text-align: right;\n",
       "    }\n",
       "</style>\n",
       "<table border=\"1\" class=\"dataframe\">\n",
       "  <thead>\n",
       "    <tr style=\"text-align: right;\">\n",
       "      <th></th>\n",
       "      <th>0</th>\n",
       "      <th>1</th>\n",
       "      <th>2</th>\n",
       "      <th>3</th>\n",
       "      <th>4</th>\n",
       "      <th>5</th>\n",
       "      <th>6</th>\n",
       "    </tr>\n",
       "  </thead>\n",
       "  <tbody>\n",
       "    <tr>\n",
       "      <th>0</th>\n",
       "      <td>0.796</td>\n",
       "      <td>0.794</td>\n",
       "      <td>0.786</td>\n",
       "      <td>0.704</td>\n",
       "      <td>0.722</td>\n",
       "      <td>0.794</td>\n",
       "      <td>0.800</td>\n",
       "    </tr>\n",
       "    <tr>\n",
       "      <th>1</th>\n",
       "      <td>0.788</td>\n",
       "      <td>0.778</td>\n",
       "      <td>0.784</td>\n",
       "      <td>0.686</td>\n",
       "      <td>0.700</td>\n",
       "      <td>0.790</td>\n",
       "      <td>0.786</td>\n",
       "    </tr>\n",
       "    <tr>\n",
       "      <th>2</th>\n",
       "      <td>0.766</td>\n",
       "      <td>0.752</td>\n",
       "      <td>0.744</td>\n",
       "      <td>0.710</td>\n",
       "      <td>0.660</td>\n",
       "      <td>0.766</td>\n",
       "      <td>0.768</td>\n",
       "    </tr>\n",
       "    <tr>\n",
       "      <th>3</th>\n",
       "      <td>0.774</td>\n",
       "      <td>0.764</td>\n",
       "      <td>0.768</td>\n",
       "      <td>0.698</td>\n",
       "      <td>0.728</td>\n",
       "      <td>0.768</td>\n",
       "      <td>0.774</td>\n",
       "    </tr>\n",
       "    <tr>\n",
       "      <th>4</th>\n",
       "      <td>0.782</td>\n",
       "      <td>0.772</td>\n",
       "      <td>0.774</td>\n",
       "      <td>0.704</td>\n",
       "      <td>0.718</td>\n",
       "      <td>0.782</td>\n",
       "      <td>0.776</td>\n",
       "    </tr>\n",
       "    <tr>\n",
       "      <th>5</th>\n",
       "      <td>0.802</td>\n",
       "      <td>0.794</td>\n",
       "      <td>0.788</td>\n",
       "      <td>0.752</td>\n",
       "      <td>0.746</td>\n",
       "      <td>0.810</td>\n",
       "      <td>0.802</td>\n",
       "    </tr>\n",
       "    <tr>\n",
       "      <th>6</th>\n",
       "      <td>0.800</td>\n",
       "      <td>0.768</td>\n",
       "      <td>0.756</td>\n",
       "      <td>0.710</td>\n",
       "      <td>0.702</td>\n",
       "      <td>0.804</td>\n",
       "      <td>0.794</td>\n",
       "    </tr>\n",
       "  </tbody>\n",
       "</table>\n",
       "</div>"
      ],
      "text/plain": [
       "       0      1      2      3      4      5      6\n",
       "0  0.796  0.794  0.786  0.704  0.722  0.794  0.800\n",
       "1  0.788  0.778  0.784  0.686  0.700  0.790  0.786\n",
       "2  0.766  0.752  0.744  0.710  0.660  0.766  0.768\n",
       "3  0.774  0.764  0.768  0.698  0.728  0.768  0.774\n",
       "4  0.782  0.772  0.774  0.704  0.718  0.782  0.776\n",
       "5  0.802  0.794  0.788  0.752  0.746  0.810  0.802\n",
       "6  0.800  0.768  0.756  0.710  0.702  0.804  0.794"
      ]
     },
     "execution_count": 13,
     "metadata": {},
     "output_type": "execute_result"
    }
   ],
   "source": [
    "orig_acc_df"
   ]
  },
  {
   "cell_type": "code",
   "execution_count": 14,
   "metadata": {},
   "outputs": [
    {
     "data": {
      "text/html": [
       "<div>\n",
       "<style scoped>\n",
       "    .dataframe tbody tr th:only-of-type {\n",
       "        vertical-align: middle;\n",
       "    }\n",
       "\n",
       "    .dataframe tbody tr th {\n",
       "        vertical-align: top;\n",
       "    }\n",
       "\n",
       "    .dataframe thead th {\n",
       "        text-align: right;\n",
       "    }\n",
       "</style>\n",
       "<table border=\"1\" class=\"dataframe\">\n",
       "  <thead>\n",
       "    <tr style=\"text-align: right;\">\n",
       "      <th></th>\n",
       "      <th>0</th>\n",
       "      <th>1</th>\n",
       "      <th>2</th>\n",
       "      <th>3</th>\n",
       "      <th>4</th>\n",
       "      <th>5</th>\n",
       "      <th>6</th>\n",
       "    </tr>\n",
       "  </thead>\n",
       "  <tbody>\n",
       "    <tr>\n",
       "      <th>0</th>\n",
       "      <td>1.000</td>\n",
       "      <td>0.944</td>\n",
       "      <td>0.914</td>\n",
       "      <td>0.640</td>\n",
       "      <td>0.692</td>\n",
       "      <td>0.980</td>\n",
       "      <td>0.988</td>\n",
       "    </tr>\n",
       "    <tr>\n",
       "      <th>1</th>\n",
       "      <td>0.954</td>\n",
       "      <td>1.000</td>\n",
       "      <td>0.972</td>\n",
       "      <td>0.620</td>\n",
       "      <td>0.704</td>\n",
       "      <td>0.948</td>\n",
       "      <td>0.956</td>\n",
       "    </tr>\n",
       "    <tr>\n",
       "      <th>2</th>\n",
       "      <td>0.904</td>\n",
       "      <td>0.966</td>\n",
       "      <td>1.000</td>\n",
       "      <td>0.636</td>\n",
       "      <td>0.660</td>\n",
       "      <td>0.898</td>\n",
       "      <td>0.912</td>\n",
       "    </tr>\n",
       "    <tr>\n",
       "      <th>3</th>\n",
       "      <td>0.612</td>\n",
       "      <td>0.626</td>\n",
       "      <td>0.642</td>\n",
       "      <td>1.000</td>\n",
       "      <td>0.852</td>\n",
       "      <td>0.606</td>\n",
       "      <td>0.612</td>\n",
       "    </tr>\n",
       "    <tr>\n",
       "      <th>4</th>\n",
       "      <td>0.672</td>\n",
       "      <td>0.710</td>\n",
       "      <td>0.732</td>\n",
       "      <td>0.866</td>\n",
       "      <td>1.000</td>\n",
       "      <td>0.670</td>\n",
       "      <td>0.676</td>\n",
       "    </tr>\n",
       "    <tr>\n",
       "      <th>5</th>\n",
       "      <td>0.972</td>\n",
       "      <td>0.916</td>\n",
       "      <td>0.904</td>\n",
       "      <td>0.660</td>\n",
       "      <td>0.686</td>\n",
       "      <td>1.000</td>\n",
       "      <td>0.968</td>\n",
       "    </tr>\n",
       "    <tr>\n",
       "      <th>6</th>\n",
       "      <td>0.986</td>\n",
       "      <td>0.946</td>\n",
       "      <td>0.918</td>\n",
       "      <td>0.658</td>\n",
       "      <td>0.710</td>\n",
       "      <td>0.974</td>\n",
       "      <td>1.000</td>\n",
       "    </tr>\n",
       "  </tbody>\n",
       "</table>\n",
       "</div>"
      ],
      "text/plain": [
       "       0      1      2      3      4      5      6\n",
       "0  1.000  0.944  0.914  0.640  0.692  0.980  0.988\n",
       "1  0.954  1.000  0.972  0.620  0.704  0.948  0.956\n",
       "2  0.904  0.966  1.000  0.636  0.660  0.898  0.912\n",
       "3  0.612  0.626  0.642  1.000  0.852  0.606  0.612\n",
       "4  0.672  0.710  0.732  0.866  1.000  0.670  0.676\n",
       "5  0.972  0.916  0.904  0.660  0.686  1.000  0.968\n",
       "6  0.986  0.946  0.918  0.658  0.710  0.974  1.000"
      ]
     },
     "execution_count": 14,
     "metadata": {},
     "output_type": "execute_result"
    }
   ],
   "source": [
    "sim_benign_df"
   ]
  },
  {
   "cell_type": "code",
   "execution_count": 15,
   "metadata": {},
   "outputs": [
    {
     "data": {
      "text/html": [
       "<div>\n",
       "<style scoped>\n",
       "    .dataframe tbody tr th:only-of-type {\n",
       "        vertical-align: middle;\n",
       "    }\n",
       "\n",
       "    .dataframe tbody tr th {\n",
       "        vertical-align: top;\n",
       "    }\n",
       "\n",
       "    .dataframe thead th {\n",
       "        text-align: right;\n",
       "    }\n",
       "</style>\n",
       "<table border=\"1\" class=\"dataframe\">\n",
       "  <thead>\n",
       "    <tr style=\"text-align: right;\">\n",
       "      <th></th>\n",
       "      <th>0</th>\n",
       "      <th>1</th>\n",
       "      <th>2</th>\n",
       "      <th>3</th>\n",
       "      <th>4</th>\n",
       "      <th>5</th>\n",
       "      <th>6</th>\n",
       "    </tr>\n",
       "  </thead>\n",
       "  <tbody>\n",
       "    <tr>\n",
       "      <th>0</th>\n",
       "      <td>1.000</td>\n",
       "      <td>0.914</td>\n",
       "      <td>0.850</td>\n",
       "      <td>0.342</td>\n",
       "      <td>0.410</td>\n",
       "      <td>0.976</td>\n",
       "      <td>0.996</td>\n",
       "    </tr>\n",
       "    <tr>\n",
       "      <th>1</th>\n",
       "      <td>0.950</td>\n",
       "      <td>1.000</td>\n",
       "      <td>0.970</td>\n",
       "      <td>0.406</td>\n",
       "      <td>0.498</td>\n",
       "      <td>0.926</td>\n",
       "      <td>0.952</td>\n",
       "    </tr>\n",
       "    <tr>\n",
       "      <th>2</th>\n",
       "      <td>0.936</td>\n",
       "      <td>0.976</td>\n",
       "      <td>1.000</td>\n",
       "      <td>0.480</td>\n",
       "      <td>0.536</td>\n",
       "      <td>0.912</td>\n",
       "      <td>0.932</td>\n",
       "    </tr>\n",
       "    <tr>\n",
       "      <th>3</th>\n",
       "      <td>0.410</td>\n",
       "      <td>0.464</td>\n",
       "      <td>0.478</td>\n",
       "      <td>1.000</td>\n",
       "      <td>0.752</td>\n",
       "      <td>0.402</td>\n",
       "      <td>0.410</td>\n",
       "    </tr>\n",
       "    <tr>\n",
       "      <th>4</th>\n",
       "      <td>0.466</td>\n",
       "      <td>0.502</td>\n",
       "      <td>0.534</td>\n",
       "      <td>0.778</td>\n",
       "      <td>1.000</td>\n",
       "      <td>0.450</td>\n",
       "      <td>0.464</td>\n",
       "    </tr>\n",
       "    <tr>\n",
       "      <th>5</th>\n",
       "      <td>0.970</td>\n",
       "      <td>0.864</td>\n",
       "      <td>0.830</td>\n",
       "      <td>0.356</td>\n",
       "      <td>0.412</td>\n",
       "      <td>1.000</td>\n",
       "      <td>0.960</td>\n",
       "    </tr>\n",
       "    <tr>\n",
       "      <th>6</th>\n",
       "      <td>0.990</td>\n",
       "      <td>0.910</td>\n",
       "      <td>0.856</td>\n",
       "      <td>0.396</td>\n",
       "      <td>0.446</td>\n",
       "      <td>0.980</td>\n",
       "      <td>1.000</td>\n",
       "    </tr>\n",
       "  </tbody>\n",
       "</table>\n",
       "</div>"
      ],
      "text/plain": [
       "       0      1      2      3      4      5      6\n",
       "0  1.000  0.914  0.850  0.342  0.410  0.976  0.996\n",
       "1  0.950  1.000  0.970  0.406  0.498  0.926  0.952\n",
       "2  0.936  0.976  1.000  0.480  0.536  0.912  0.932\n",
       "3  0.410  0.464  0.478  1.000  0.752  0.402  0.410\n",
       "4  0.466  0.502  0.534  0.778  1.000  0.450  0.464\n",
       "5  0.970  0.864  0.830  0.356  0.412  1.000  0.960\n",
       "6  0.990  0.910  0.856  0.396  0.446  0.980  1.000"
      ]
     },
     "execution_count": 15,
     "metadata": {},
     "output_type": "execute_result"
    }
   ],
   "source": [
    "sim_adv_df"
   ]
  },
  {
   "cell_type": "code",
   "execution_count": 16,
   "metadata": {},
   "outputs": [
    {
     "data": {
      "text/html": [
       "<div>\n",
       "<style scoped>\n",
       "    .dataframe tbody tr th:only-of-type {\n",
       "        vertical-align: middle;\n",
       "    }\n",
       "\n",
       "    .dataframe tbody tr th {\n",
       "        vertical-align: top;\n",
       "    }\n",
       "\n",
       "    .dataframe thead th {\n",
       "        text-align: right;\n",
       "    }\n",
       "</style>\n",
       "<table border=\"1\" class=\"dataframe\">\n",
       "  <thead>\n",
       "    <tr style=\"text-align: right;\">\n",
       "      <th></th>\n",
       "      <th>0</th>\n",
       "      <th>1</th>\n",
       "      <th>2</th>\n",
       "      <th>3</th>\n",
       "      <th>4</th>\n",
       "      <th>5</th>\n",
       "      <th>6</th>\n",
       "    </tr>\n",
       "  </thead>\n",
       "  <tbody>\n",
       "    <tr>\n",
       "      <th>0</th>\n",
       "      <td>0.588</td>\n",
       "      <td>0.524</td>\n",
       "      <td>0.476</td>\n",
       "      <td>0.104</td>\n",
       "      <td>0.112</td>\n",
       "      <td>0.598</td>\n",
       "      <td>0.584</td>\n",
       "    </tr>\n",
       "    <tr>\n",
       "      <th>1</th>\n",
       "      <td>0.512</td>\n",
       "      <td>0.526</td>\n",
       "      <td>0.506</td>\n",
       "      <td>0.094</td>\n",
       "      <td>0.124</td>\n",
       "      <td>0.500</td>\n",
       "      <td>0.514</td>\n",
       "    </tr>\n",
       "    <tr>\n",
       "      <th>2</th>\n",
       "      <td>0.506</td>\n",
       "      <td>0.532</td>\n",
       "      <td>0.530</td>\n",
       "      <td>0.148</td>\n",
       "      <td>0.168</td>\n",
       "      <td>0.492</td>\n",
       "      <td>0.504</td>\n",
       "    </tr>\n",
       "    <tr>\n",
       "      <th>3</th>\n",
       "      <td>0.148</td>\n",
       "      <td>0.168</td>\n",
       "      <td>0.176</td>\n",
       "      <td>0.408</td>\n",
       "      <td>0.238</td>\n",
       "      <td>0.144</td>\n",
       "      <td>0.148</td>\n",
       "    </tr>\n",
       "    <tr>\n",
       "      <th>4</th>\n",
       "      <td>0.188</td>\n",
       "      <td>0.212</td>\n",
       "      <td>0.226</td>\n",
       "      <td>0.274</td>\n",
       "      <td>0.374</td>\n",
       "      <td>0.174</td>\n",
       "      <td>0.190</td>\n",
       "    </tr>\n",
       "    <tr>\n",
       "      <th>5</th>\n",
       "      <td>0.594</td>\n",
       "      <td>0.506</td>\n",
       "      <td>0.476</td>\n",
       "      <td>0.110</td>\n",
       "      <td>0.118</td>\n",
       "      <td>0.622</td>\n",
       "      <td>0.590</td>\n",
       "    </tr>\n",
       "    <tr>\n",
       "      <th>6</th>\n",
       "      <td>0.586</td>\n",
       "      <td>0.522</td>\n",
       "      <td>0.470</td>\n",
       "      <td>0.126</td>\n",
       "      <td>0.126</td>\n",
       "      <td>0.586</td>\n",
       "      <td>0.578</td>\n",
       "    </tr>\n",
       "  </tbody>\n",
       "</table>\n",
       "</div>"
      ],
      "text/plain": [
       "       0      1      2      3      4      5      6\n",
       "0  0.588  0.524  0.476  0.104  0.112  0.598  0.584\n",
       "1  0.512  0.526  0.506  0.094  0.124  0.500  0.514\n",
       "2  0.506  0.532  0.530  0.148  0.168  0.492  0.504\n",
       "3  0.148  0.168  0.176  0.408  0.238  0.144  0.148\n",
       "4  0.188  0.212  0.226  0.274  0.374  0.174  0.190\n",
       "5  0.594  0.506  0.476  0.110  0.118  0.622  0.590\n",
       "6  0.586  0.522  0.470  0.126  0.126  0.586  0.578"
      ]
     },
     "execution_count": 16,
     "metadata": {},
     "output_type": "execute_result"
    }
   ],
   "source": [
    "target_adv_df"
   ]
  },
  {
   "cell_type": "code",
   "execution_count": 17,
   "metadata": {},
   "outputs": [],
   "source": [
    "# grad_align_df"
   ]
  },
  {
   "cell_type": "code",
   "execution_count": 18,
   "metadata": {},
   "outputs": [
    {
     "name": "stdout",
     "output_type": "stream",
     "text": [
      "orig_acc_mean 0.7608979952578642\n",
      "Sim Benign Mean 0.8062381389595213\n",
      "Sim ADV Mean 0.69147622301465\n",
      "Target ADV Mean 0.25523811472313745\n"
     ]
    }
   ],
   "source": [
    "# Average all the information together and present\n",
    "orig_acc_mean = np.mean(orig_acc)\n",
    "sim_benign_mean = np.mean((sim_benign.sum(1)-1)/(sim_benign.shape[1]-1))\n",
    "sim_adv_mean = np.mean((sim_adv_df.sum(1)-1)/(sim_adv_df.shape[1]-1))\n",
    "target_adv_mean = np.mean((target_adv.sum(1)-1)/(target_adv.shape[1]-1))\n",
    "# grad_align_mean = np.mean((grad_align.sum(1)-0)/(grad_align.shape[1]-0))\n",
    "\n",
    "print(\"orig_acc_mean\", orig_acc_mean)\n",
    "print(\"Sim Benign Mean\", sim_benign_mean)\n",
    "print(\"Sim ADV Mean\", sim_adv_mean)\n",
    "print(\"Target ADV Mean\", target_adv_mean)\n",
    "# print(\"Grad Align Mean\", grad_align_mean)"
   ]
  },
  {
   "cell_type": "code",
   "execution_count": 19,
   "metadata": {},
   "outputs": [
    {
     "name": "stdout",
     "output_type": "stream",
     "text": [
      "tensor(4.4966, device='cuda:0', grad_fn=<MeanBackward0>)\n",
      "tensor(4.5000, device='cuda:0', grad_fn=<MaxBackward1>)\n"
     ]
    }
   ],
   "source": [
    "# Calculate average distance norm across examples\n",
    "delta = t1.x_adv - t1.x_orig\n",
    "dnorm = delta.view(delta.shape[0], -1).norm(2, dim=1)\n",
    "print(torch.mean(dnorm))\n",
    "print(torch.max(dnorm))"
   ]
  },
  {
   "cell_type": "code",
   "execution_count": 20,
   "metadata": {},
   "outputs": [
    {
     "data": {
      "text/plain": [
       "0.8203"
      ]
     },
     "execution_count": 20,
     "metadata": {},
     "output_type": "execute_result"
    }
   ],
   "source": [
    "# IFSGM\n",
    "4.5347 # mean\n",
    "4.8902 # Max\n",
    "0.8203 # Mean transfer rate"
   ]
  },
  {
   "cell_type": "code",
   "execution_count": 21,
   "metadata": {},
   "outputs": [
    {
     "data": {
      "text/plain": [
       "0.8594"
      ]
     },
     "execution_count": 21,
     "metadata": {},
     "output_type": "execute_result"
    }
   ],
   "source": [
    "# PGD\n",
    "4.4978 # mean perturbation\n",
    "4.5000 # Max perturbation\n",
    "0.8594 # Mean transfer rate"
   ]
  },
  {
   "cell_type": "code",
   "execution_count": null,
   "metadata": {},
   "outputs": [],
   "source": []
  }
 ],
 "metadata": {
  "kernelspec": {
   "display_name": "FedEM_env",
   "language": "python",
   "name": "fedem_env"
  },
  "language_info": {
   "codemirror_mode": {
    "name": "ipython",
    "version": 3
   },
   "file_extension": ".py",
   "mimetype": "text/x-python",
   "name": "python",
   "nbconvert_exporter": "python",
   "pygments_lexer": "ipython3",
   "version": "3.9.6"
  }
 },
 "nbformat": 4,
 "nbformat_minor": 4
}
