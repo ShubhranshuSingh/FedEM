{
 "cells": [
  {
   "cell_type": "markdown",
   "metadata": {},
   "source": [
    "# CIFAR Table 1\n",
    "\n",
    "TJ Kim\n",
    "\n",
    "1.17.22\n",
    "\n",
    "#### Summary:\n",
    "- Make a table for Benign transferability and inter-boundary distance for following models\n",
    "- Local benign, fedavg benign, fedEM benign"
   ]
  },
  {
   "cell_type": "code",
   "execution_count": 1,
   "metadata": {},
   "outputs": [
    {
     "name": "stdout",
     "output_type": "stream",
     "text": [
      "/home/ubuntu/FedEM\n"
     ]
    }
   ],
   "source": [
    "cd /home/ubuntu/FedEM/"
   ]
  },
  {
   "cell_type": "code",
   "execution_count": 2,
   "metadata": {},
   "outputs": [],
   "source": [
    "# Import General Libraries\n",
    "import os\n",
    "import argparse\n",
    "import torch\n",
    "import copy\n",
    "import pickle\n",
    "import random\n",
    "import numpy as np\n",
    "import pandas as pd\n",
    "\n",
    "# Import FedEM based Libraries\n",
    "from utils.utils import *\n",
    "from utils.constants import *\n",
    "from utils.args import *\n",
    "from torch.utils.tensorboard import SummaryWriter\n",
    "from run_experiment import *\n",
    "from models import *\n",
    "\n",
    "# Import Transfer Attack\n",
    "from transfer_attacks.Personalized_NN import *\n",
    "from transfer_attacks.Params import *\n",
    "from transfer_attacks.Transferer import *\n",
    "from transfer_attacks.Args import *\n",
    "\n",
    "from transfer_attacks.TA_utils import *\n",
    "from transfer_attacks.Boundary_Transferer import *"
   ]
  },
  {
   "cell_type": "markdown",
   "metadata": {},
   "source": [
    "### Load Regular"
   ]
  },
  {
   "cell_type": "code",
   "execution_count": 3,
   "metadata": {},
   "outputs": [
    {
     "name": "stdout",
     "output_type": "stream",
     "text": [
      "==> Clients initialization..\n",
      "===> Building data iterators..\n"
     ]
    },
    {
     "name": "stderr",
     "output_type": "stream",
     "text": [
      "100%|██████████████████████████████████████████████████████████████████████████████████████████████████████████████████████████████████████████████████████████████████████| 80/80 [00:00<00:00, 209.08it/s]\n"
     ]
    },
    {
     "name": "stdout",
     "output_type": "stream",
     "text": [
      "===> Initializing clients..\n"
     ]
    },
    {
     "name": "stderr",
     "output_type": "stream",
     "text": [
      "100%|███████████████████████████████████████████████████████████████████████████████████████████████████████████████████████████████████████████████████████████████████████| 80/80 [00:31<00:00,  2.54it/s]\n"
     ]
    },
    {
     "name": "stdout",
     "output_type": "stream",
     "text": [
      "==> Test Clients initialization..\n",
      "===> Building data iterators..\n"
     ]
    },
    {
     "name": "stderr",
     "output_type": "stream",
     "text": [
      "0it [00:00, ?it/s]\n"
     ]
    },
    {
     "name": "stdout",
     "output_type": "stream",
     "text": [
      "===> Initializing clients..\n"
     ]
    },
    {
     "name": "stderr",
     "output_type": "stream",
     "text": [
      "0it [00:00, ?it/s]\n"
     ]
    },
    {
     "name": "stdout",
     "output_type": "stream",
     "text": [
      "++++++++++++++++++++++++++++++\n",
      "Global..\n",
      "Train Loss: 2.292 | Train Acc: 12.195% |Test Loss: 2.292 | Test Acc: 12.291% |\n",
      "++++++++++++++++++++++++++++++++++++++++++++++++++\n",
      "################################################################################\n"
     ]
    }
   ],
   "source": [
    "# Load blackbox model\n",
    "setting = 'FedEM'\n",
    "\n",
    "if setting == 'FedEM':\n",
    "    n = 3\n",
    "else:\n",
    "    n = 1\n",
    "\n",
    "\n",
    "# Manually set argument parameters\n",
    "args_ = Args()\n",
    "args_.experiment = \"cifar10\"\n",
    "args_.method = setting\n",
    "args_.decentralized = False\n",
    "args_.sampling_rate = 1.0\n",
    "args_.input_dimension = None\n",
    "args_.output_dimension = None\n",
    "args_.n_learners= n\n",
    "args_.n_rounds = 10\n",
    "args_.bz = 128\n",
    "args_.local_steps = 1\n",
    "args_.lr_lambda = 0\n",
    "args_.lr =0.03\n",
    "args_.lr_scheduler = 'multi_step'\n",
    "args_.log_freq = 10\n",
    "args_.device = 'cuda'\n",
    "args_.optimizer = 'sgd'\n",
    "args_.mu = 0\n",
    "args_.communication_probability = 0.1\n",
    "args_.q = 1\n",
    "args_.locally_tune_clients = False\n",
    "args_.seed = 1234\n",
    "args_.verbose = 1\n",
    "args_.save_path = 'weights/cifar/dummy/'\n",
    "args_.validation = False\n",
    "\n",
    "# Generate the dummy values here\n",
    "aggregator, clients = dummy_aggregator(args_, num_user=40)"
   ]
  },
  {
   "cell_type": "code",
   "execution_count": 35,
   "metadata": {},
   "outputs": [],
   "source": [
    "# Combine Validation Data across all clients as test\n",
    "data_x = []\n",
    "data_y = []\n",
    "\n",
    "for i in range(len(clients)):\n",
    "    daniloader = clients[i].val_iterator\n",
    "    for (x,y,idx) in daniloader.dataset:\n",
    "        data_x.append(x)\n",
    "        data_y.append(y)\n",
    "\n",
    "data_x = torch.stack(data_x)\n",
    "data_y = torch.stack(data_y)\n",
    "\n",
    "dataloader = Custom_Dataloader(data_x, data_y)"
   ]
  },
  {
   "cell_type": "markdown",
   "metadata": {},
   "source": [
    "Load local model."
   ]
  },
  {
   "cell_type": "code",
   "execution_count": 78,
   "metadata": {},
   "outputs": [],
   "source": [
    "num_models = 40\n",
    "\n",
    "np.set_printoptions(formatter={'float': lambda x: \"{0:0.2f}\".format(x)})\n",
    "\n",
    "\n",
    "args_.save_path = 'weights/cifar/21_12_30_feddef_n40_linf0_5_G0_0/'\n",
    "# args_.save_path = 'weights/final/cifar/fig3/fedem_defend/'\n",
    "aggregator.load_state(args_.save_path)\n",
    "\n",
    "# This is where the models are stored -- one for each mixture --> learner.model for nn\n",
    "hypotheses = aggregator.global_learners_ensemble.learners\n",
    "\n",
    "# obtain the state dict for each of the weights \n",
    "weights_h = []\n",
    "\n",
    "for h in hypotheses:\n",
    "    weights_h += [h.model.state_dict()]\n",
    "\n",
    "weights = np.load(\"weights/cifar/21_12_30_feddef_n40_linf0_5_G0_0/train_client_weights.npy\")\n",
    "# weights = np.load(\"weights/final/cifar/fig3/fedem_defend/train_client_weights.npy\")\n",
    "\n",
    "# Set model weights\n",
    "model_weights = []\n",
    "\n",
    "for i in range(num_models):\n",
    "    model_weights += [weights[i]]\n",
    "\n",
    "\n",
    "# Generate the weights to test on as linear combinations of the model_weights\n",
    "models_test = []\n",
    "\n",
    "for (w0,w1,w2) in model_weights:\n",
    "    # first make the model with empty weights\n",
    "    new_model = copy.deepcopy(hypotheses[0].model)\n",
    "    new_model.eval()\n",
    "    new_weight_dict = copy.deepcopy(weights_h[0])\n",
    "    for key in weights_h[0]:\n",
    "        new_weight_dict[key] = w0*weights_h[0][key] + w1*weights_h[1][key] + w2*weights_h[2][key]\n",
    "    new_model.load_state_dict(new_weight_dict)\n",
    "    models_test += [new_model]\n",
    "    \n",
    "models_fake = []\n",
    "new_model_weights = [(1,0,0), (0,1,0),(0,0,1), (0.5,0.5,0), (0.5,0,0.5),(0,0.5,0.5),(0.33,0.33,0.34)]\n",
    "\n",
    "for (w0,w1,w2) in new_model_weights:\n",
    "    # first make the model with empty weights\n",
    "    new_model = copy.deepcopy(hypotheses[0].model)\n",
    "    new_model.eval()\n",
    "    new_weight_dict = copy.deepcopy(weights_h[0])\n",
    "    for key in weights_h[0]:\n",
    "        new_weight_dict[key] = w0*weights_h[0][key] + w1*weights_h[1][key] + w2*weights_h[2][key]\n",
    "    new_model.load_state_dict(new_weight_dict)\n",
    "    models_fake += [new_model]\n",
    "    "
   ]
  },
  {
   "cell_type": "markdown",
   "metadata": {},
   "source": [
    "Set Up Transfer Attack Scenario"
   ]
  },
  {
   "cell_type": "code",
   "execution_count": 79,
   "metadata": {},
   "outputs": [],
   "source": [
    "logs_adv = []\n",
    "\n",
    "for i in range(len(new_model_weights)):\n",
    "    adv_dict = {}\n",
    "    adv_dict['orig_acc_transfers'] = None\n",
    "    adv_dict['orig_similarities'] = None\n",
    "    adv_dict['adv_acc_transfers'] = None\n",
    "    adv_dict['adv_similarities_target'] = None\n",
    "    adv_dict['adv_similarities_untarget'] = None\n",
    "    adv_dict['adv_target'] = None\n",
    "    adv_dict['adv_miss'] = None\n",
    "    adv_dict['metric_alignment'] = None\n",
    "    adv_dict['ib_distance_legit'] = None\n",
    "    adv_dict['ib_distance_adv'] = None\n",
    "\n",
    "    logs_adv += [adv_dict]\n"
   ]
  },
  {
   "cell_type": "code",
   "execution_count": 80,
   "metadata": {},
   "outputs": [],
   "source": [
    "all_models = models_test + models_fake"
   ]
  },
  {
   "cell_type": "code",
   "execution_count": 81,
   "metadata": {},
   "outputs": [
    {
     "name": "stdout",
     "output_type": "stream",
     "text": [
      "\t Adv idx: 40\n",
      "\t Adv idx: 41\n",
      "\t Adv idx: 42\n",
      "\t Adv idx: 43\n",
      "\t Adv idx: 44\n",
      "\t Adv idx: 45\n",
      "\t Adv idx: 46\n"
     ]
    }
   ],
   "source": [
    "# Run Measurements for both targetted and untargeted analysis\n",
    "victim_idxs = range(num_models)\n",
    "custom_batch_size = 300\n",
    "\n",
    "\n",
    "for i in range(len(new_model_weights)):\n",
    "    adv_idx = num_models + i\n",
    "    print(\"\\t Adv idx:\", adv_idx)\n",
    "        \n",
    "    batch_size = min(custom_batch_size, dataloader.y_data.shape[0])\n",
    "    \n",
    "    t1 = Transferer(models_list=all_models, dataloader=dataloader)\n",
    "    t1.generate_victims(victim_idxs)\n",
    "    \n",
    "    # Perform Attacks\n",
    "    t1.atk_params = PGD_Params()\n",
    "    t1.atk_params.set_params(batch_size=batch_size, iteration = 20,\n",
    "                   target = 3, x_val_min = torch.min(data_x), x_val_max = torch.max(data_x),\n",
    "                   step_size = 0.05, step_norm = \"inf\", eps = 4.5, eps_norm = 2)\n",
    "    \n",
    "    \n",
    "    t1.generate_advNN(adv_idx)\n",
    "    t1.generate_xadv(atk_type = \"pgd\")\n",
    "    t1.send_to_victims(victim_idxs)\n",
    "\n",
    "    # Log Performance\n",
    "    logs_adv[i]['orig_acc_transfers'] = copy.deepcopy(t1.orig_acc_transfers)\n",
    "    logs_adv[i]['orig_similarities'] = copy.deepcopy(t1.orig_similarities)\n",
    "    logs_adv[i]['adv_acc_transfers'] = copy.deepcopy(t1.adv_acc_transfers)\n",
    "    logs_adv[i]['adv_similarities_target'] = copy.deepcopy(t1.adv_similarities)        \n",
    "    logs_adv[i]['adv_target'] = copy.deepcopy(t1.adv_target_hit)\n",
    "\n",
    "    # Miss attack\n",
    "    t1.atk_params.set_params(batch_size=batch_size, iteration = 30,\n",
    "                   target = -1, x_val_min = torch.min(data_x), x_val_max = torch.max(data_x),\n",
    "                   step_size = 0.05, step_norm = \"inf\", eps = 4.5, eps_norm = 2)\n",
    "    t1.generate_xadv(atk_type = \"pgd\")\n",
    "    t1.send_to_victims(victim_idxs)\n",
    "    logs_adv[i]['adv_miss'] = copy.deepcopy(t1.adv_acc_transfers)\n",
    "    logs_adv[i]['adv_similarities_untarget'] = copy.deepcopy(t1.adv_similarities)"
   ]
  },
  {
   "cell_type": "markdown",
   "metadata": {},
   "source": [
    "Print Relevant Information"
   ]
  },
  {
   "cell_type": "code",
   "execution_count": 82,
   "metadata": {},
   "outputs": [],
   "source": [
    "metrics = ['orig_acc_transfers','orig_similarities','adv_acc_transfers','adv_similarities_target',\n",
    "           'adv_similarities_untarget','adv_target','adv_miss'] #,'metric_alignment']\n",
    "\n",
    "orig_acc = np.zeros([len(new_model_weights), num_models]) \n",
    "orig_sim = np.zeros([len(new_model_weights), num_models]) \n",
    "adv_acc = np.zeros([len(new_model_weights), num_models]) \n",
    "adv_sim_target = np.zeros([len(new_model_weights), num_models]) \n",
    "adv_sim_untarget = np.zeros([len(new_model_weights), num_models]) \n",
    "adv_target = np.zeros([len(new_model_weights), num_models])\n",
    "adv_miss = np.zeros([len(new_model_weights), num_models]) \n",
    "\n",
    "for adv_idx in range(len(new_model_weights)):\n",
    "    for victim in range(num_models):\n",
    "        orig_acc[adv_idx,victim] = logs_adv[adv_idx][metrics[0]][victim_idxs[victim]].data.tolist()\n",
    "        orig_sim[adv_idx,victim] = logs_adv[adv_idx][metrics[1]][victim_idxs[victim]].data.tolist()\n",
    "        adv_acc[adv_idx,victim] = logs_adv[adv_idx][metrics[2]][victim_idxs[victim]].data.tolist()\n",
    "        adv_sim_target[adv_idx,victim] = logs_adv[adv_idx][metrics[3]][victim_idxs[victim]].data.tolist()\n",
    "        adv_sim_untarget[adv_idx,victim] = logs_adv[adv_idx][metrics[4]][victim_idxs[victim]].data.tolist()\n",
    "        adv_target[adv_idx,victim] = logs_adv[adv_idx][metrics[5]][victim_idxs[victim]].data.tolist()\n",
    "        adv_miss[adv_idx,victim] = logs_adv[adv_idx][metrics[6]][victim_idxs[victim]].data.tolist()"
   ]
  },
  {
   "cell_type": "code",
   "execution_count": 83,
   "metadata": {},
   "outputs": [
    {
     "name": "stdout",
     "output_type": "stream",
     "text": [
      "prop: (1, 0, 0)\n",
      "advmiss: 0.19591667084023356\n",
      "prop: (0, 1, 0)\n",
      "advmiss: 0.22908334033563732\n",
      "prop: (0, 0, 1)\n",
      "advmiss: 0.14716667025350033\n",
      "prop: (0.5, 0.5, 0)\n",
      "advmiss: 0.09250000147148967\n",
      "prop: (0.5, 0, 0.5)\n",
      "advmiss: 0.0645833347691223\n",
      "prop: (0, 0.5, 0.5)\n",
      "advmiss: 0.10891666943207383\n",
      "prop: (0.33, 0.33, 0.34)\n",
      "advmiss: 0.05158333471044898\n"
     ]
    }
   ],
   "source": [
    "aa = np.mean(adv_miss, axis=1)\n",
    "\n",
    "for i in range(len(new_model_weights)):\n",
    "    print(\"prop:\", new_model_weights[i])\n",
    "    print(\"advmiss:\",aa[i])"
   ]
  },
  {
   "cell_type": "raw",
   "metadata": {},
   "source": [
    "# pfeddef\n",
    "prop: (1, 0, 0)\n",
    "advmiss: 0.5425000205636025\n",
    "prop: (0, 1, 0)\n",
    "advmiss: 0.5972500152885913\n",
    "prop: (0, 0, 1)\n",
    "advmiss: 0.48958333656191827\n",
    "prop: (0.5, 0.5, 0)\n",
    "advmiss: 0.5512500107288361\n",
    "prop: (0.5, 0, 0.5)\n",
    "advmiss: 0.5199166737496853\n",
    "prop: (0, 0.5, 0.5)\n",
    "advmiss: 0.5640833504498005\n",
    "prop: (0.33, 0.33, 0.34)\n",
    "advmiss: 0.5499166838824749\n",
    "\n",
    "# Fedem\n",
    "prop: (1, 0, 0)\n",
    "advmiss: 0.19591667084023356\n",
    "prop: (0, 1, 0)\n",
    "advmiss: 0.22908334033563732\n",
    "prop: (0, 0, 1)\n",
    "advmiss: 0.14716667025350033\n",
    "prop: (0.5, 0.5, 0)\n",
    "advmiss: 0.09250000147148967\n",
    "prop: (0.5, 0, 0.5)\n",
    "advmiss: 0.0645833347691223\n",
    "prop: (0, 0.5, 0.5)\n",
    "advmiss: 0.10891666943207383\n",
    "prop: (0.33, 0.33, 0.34)\n",
    "advmiss: 0.05158333471044898"
   ]
  },
  {
   "cell_type": "code",
   "execution_count": 85,
   "metadata": {},
   "outputs": [],
   "source": [
    "pfeddef_ones = np.mean([0.5425, 0.5972, 0.4895])\n",
    "pfeddef_twos = np.mean([0.5512, 0.5199, 0.5640])\n",
    "pffedef_three = 0.54991\n",
    "\n",
    "fedem_ones = np.mean([0.1959,0.2290,0.1471])\n",
    "fedem_twos = np.mean([0.0925, 0.0645, 0.1089])\n",
    "fedem_three = 0.05158"
   ]
  },
  {
   "cell_type": "code",
   "execution_count": 125,
   "metadata": {},
   "outputs": [
    {
     "name": "stderr",
     "output_type": "stream",
     "text": [
      "findfont: Font family ['normal'] not found. Falling back to DejaVu Sans.\n",
      "findfont: Font family ['normal'] not found. Falling back to DejaVu Sans.\n"
     ]
    },
    {
     "data": {
      "image/png": "[encoded data removed]",
      "text/plain": [
       "<Figure size 432x288 with 1 Axes>"
      ]
     },
     "metadata": {
      "needs_background": "light"
     },
     "output_type": "display_data"
    }
   ],
   "source": [
    "font = {'family' : 'normal',\n",
    "        'weight' : 'normal',\n",
    "        'size'   : 16}\n",
    "\n",
    "plt.rc('font', **font)\n",
    "\n",
    "names = [1,2,3]\n",
    "\n",
    "data = [[fedem_ones, fedem_twos, fedem_three],\n",
    "[pfeddef_ones, pfeddef_twos, pffedef_three]]\n",
    "X = np.arange(3) + 1\n",
    "fig = plt.figure()\n",
    "ax = fig.add_axes([0,0,1,1])\n",
    "ax.bar(X - 0.2, data[0], color = 'y', width = 0.3, label = 'FedEM')\n",
    "ax.bar(X + 0.2, data[1], color = 'b', width = 0.3, label = 'pFedDef')\n",
    "\n",
    "plt.xticks(X)\n",
    "\n",
    "plt.xlabel('Number of Hypotheses')\n",
    "plt.ylabel('Adv. Accuracy')\n",
    "plt.title(\"Attacking Client Diversity and Robustness\")\n",
    "plt.legend(frameon=True, loc='upper left')\n",
    "\n",
    "\n",
    "plt.show()\n"
   ]
  },
  {
   "cell_type": "code",
   "execution_count": 109,
   "metadata": {},
   "outputs": [
    {
     "data": {
      "text/plain": [
       "array([0, 1, 2])"
      ]
     },
     "execution_count": 109,
     "metadata": {},
     "output_type": "execute_result"
    }
   ],
   "source": [
    "X"
   ]
  },
  {
   "cell_type": "code",
   "execution_count": null,
   "metadata": {},
   "outputs": [],
   "source": []
  }
 ],
 "metadata": {
  "kernelspec": {
   "display_name": "FedEM_env",
   "language": "python",
   "name": "fedem_env"
  },
  "language_info": {
   "codemirror_mode": {
    "name": "ipython",
    "version": 3
   },
   "file_extension": ".py",
   "mimetype": "text/x-python",
   "name": "python",
   "nbconvert_exporter": "python",
   "pygments_lexer": "ipython3",
   "version": "3.9.6"
  }
 },
 "nbformat": 4,
 "nbformat_minor": 4
}
