{
 "cells": [
  {
   "cell_type": "markdown",
   "metadata": {},
   "source": [
    "# Local Attack Analysis\n",
    "\n",
    "TJ Kim\n",
    "11.5.21\n",
    "\n",
    "#### Summary:\n",
    "- Load the locally trained model and FedEM model\n",
    "- nodes = 3, mixtures = 3"
   ]
  },
  {
   "cell_type": "code",
   "execution_count": 1,
   "metadata": {},
   "outputs": [
    {
     "name": "stdout",
     "output_type": "stream",
     "text": [
      "/home/ubuntu/FedEM\n"
     ]
    }
   ],
   "source": [
    "cd /home/ubuntu/FedEM/"
   ]
  },
  {
   "cell_type": "markdown",
   "metadata": {},
   "source": [
    "### Import Relevant Libraries\n",
    "Take it from the run_experiment.py folder"
   ]
  },
  {
   "cell_type": "code",
   "execution_count": 2,
   "metadata": {},
   "outputs": [],
   "source": [
    "# Import General Libraries\n",
    "import os\n",
    "import argparse\n",
    "import torch\n",
    "import copy\n",
    "import pickle\n",
    "import random\n",
    "import numpy as np\n",
    "import pandas as pd\n",
    "\n",
    "# Import FedEM based Libraries\n",
    "from utils.utils import *\n",
    "from utils.constants import *\n",
    "from utils.args import *\n",
    "from torch.utils.tensorboard import SummaryWriter\n",
    "from run_experiment import *\n",
    "from models import *\n",
    "\n",
    "# Import Transfer Attack\n",
    "from transfer_attacks.Personalized_NN import *\n",
    "from transfer_attacks.Params import *\n",
    "from transfer_attacks.Transferer import *\n",
    "from transfer_attacks.Args import *"
   ]
  },
  {
   "cell_type": "markdown",
   "metadata": {},
   "source": [
    "### Generate Aggregator Pre-requisite\n",
    "- Clients, Test Clients, Ensemble_Learner\n",
    "- Follow through the code in run_experiment.py"
   ]
  },
  {
   "cell_type": "code",
   "execution_count": 3,
   "metadata": {},
   "outputs": [
    {
     "name": "stdout",
     "output_type": "stream",
     "text": [
      "==> Clients initialization..\n",
      "===> Building data iterators..\n"
     ]
    },
    {
     "name": "stderr",
     "output_type": "stream",
     "text": [
      "100%|██████████████████████████████████████████| 80/80 [00:00<00:00, 211.67it/s]\n"
     ]
    },
    {
     "name": "stdout",
     "output_type": "stream",
     "text": [
      "===> Initializing clients..\n"
     ]
    },
    {
     "name": "stderr",
     "output_type": "stream",
     "text": [
      "100%|███████████████████████████████████████████| 80/80 [00:12<00:00,  6.16it/s]\n"
     ]
    },
    {
     "name": "stdout",
     "output_type": "stream",
     "text": [
      "==> Test Clients initialization..\n",
      "===> Building data iterators..\n"
     ]
    },
    {
     "name": "stderr",
     "output_type": "stream",
     "text": [
      "0it [00:00, ?it/s]\n"
     ]
    },
    {
     "name": "stdout",
     "output_type": "stream",
     "text": [
      "===> Initializing clients..\n"
     ]
    },
    {
     "name": "stderr",
     "output_type": "stream",
     "text": [
      "0it [00:00, ?it/s]\n"
     ]
    },
    {
     "name": "stdout",
     "output_type": "stream",
     "text": [
      "++++++++++++++++++++++++++++++\n",
      "Global..\n",
      "Train Loss: 2.299 | Train Acc: 10.643% |Test Loss: 2.298 | Test Acc: 10.503% |\n",
      "++++++++++++++++++++++++++++++++++++++++++++++++++\n",
      "################################################################################\n"
     ]
    }
   ],
   "source": [
    "# Manually set argument parameters\n",
    "args_ = Args()\n",
    "args_.experiment = \"cifar10\"\n",
    "args_.method = \"local\"\n",
    "args_.decentralized = False\n",
    "args_.sampling_rate = 1.0\n",
    "args_.input_dimension = None\n",
    "args_.output_dimension = None\n",
    "args_.n_learners= 1\n",
    "args_.n_rounds = 10\n",
    "args_.bz = 128\n",
    "args_.local_steps = 1\n",
    "args_.lr_lambda = 0\n",
    "args_.lr =0.03\n",
    "args_.lr_scheduler = 'multi_step'\n",
    "args_.log_freq = 10\n",
    "args_.device = 'cuda'\n",
    "args_.optimizer = 'sgd'\n",
    "args_.mu = 0\n",
    "args_.communication_probability = 0.1\n",
    "args_.q = 1\n",
    "args_.locally_tune_clients = False\n",
    "args_.seed = 1234\n",
    "args_.verbose = 1\n",
    "args_.save_path = 'weights/cifar/21_11_06_local/'\n",
    "args_.validation = False\n",
    "\n",
    "# Generate the dummy values here\n",
    "aggregator, clients = dummy_aggregator(args_)"
   ]
  },
  {
   "cell_type": "code",
   "execution_count": 4,
   "metadata": {},
   "outputs": [],
   "source": [
    "# Import weights for aggregator\n",
    "aggregator.load_state(args_.save_path)"
   ]
  },
  {
   "cell_type": "code",
   "execution_count": 5,
   "metadata": {},
   "outputs": [],
   "source": [
    "# Set model weights\n",
    "weights = np.load(\"weights/cifar/21_11_06_local/train_client_weights.npy\")\n",
    "np.set_printoptions(formatter={'float': lambda x: \"{0:0.2f}\".format(x)})\n",
    "\n",
    "model_weights = []\n",
    "num_models = 7\n",
    "\n",
    "for i in range(num_models):\n",
    "    model_weights += [weights[i]]\n",
    "\n",
    "# Generate the weights to test on as linear combinations of the model_weights\n",
    "models_test = []\n",
    "\n",
    "for i in range(num_models):\n",
    "    new_model = copy.deepcopy(aggregator.clients[i].learners_ensemble.learners[0].model)\n",
    "    new_model.eval()\n",
    "    models_test += [new_model]"
   ]
  },
  {
   "cell_type": "markdown",
   "metadata": {},
   "source": [
    "### Generate Data "
   ]
  },
  {
   "cell_type": "code",
   "execution_count": 6,
   "metadata": {},
   "outputs": [],
   "source": [
    "# Combine Validation Data across all clients as test\n",
    "data_x = []\n",
    "data_y = []\n",
    "\n",
    "for i in range(len(clients)):\n",
    "    daniloader = clients[i].val_iterator\n",
    "    for (x,y,idx) in daniloader.dataset:\n",
    "        data_x.append(x)\n",
    "        data_y.append(y)\n",
    "\n",
    "data_x = torch.stack(data_x)\n",
    "data_y = torch.stack(data_y)"
   ]
  },
  {
   "cell_type": "code",
   "execution_count": 7,
   "metadata": {},
   "outputs": [],
   "source": [
    "# Create dataloader from validation dataset that allows for diverse batch size\n",
    "dataloader = Custom_Dataloader(data_x, data_y)"
   ]
  },
  {
   "cell_type": "markdown",
   "metadata": {},
   "source": [
    "### Set Up Transfer Attack Scenario\n",
    "- Set up order of which attacks will take place -- keep the same transferer, but simply swap out the weights of the adversary and flush out the existing data points analysis was done on\n",
    "- Make dictionaries beforehand recording all of the metrics"
   ]
  },
  {
   "cell_type": "code",
   "execution_count": 8,
   "metadata": {},
   "outputs": [],
   "source": [
    "# Set Up Dictionaries -- list holds the adversary idx\n",
    "logs_adv = []\n",
    "\n",
    "for i in range(len(model_weights)):\n",
    "    adv_dict = {}\n",
    "    adv_dict['orig_acc_transfers'] = None\n",
    "    adv_dict['orig_similarities'] = None\n",
    "    adv_dict['adv_acc_transfers'] = None\n",
    "    adv_dict['adv_similarities'] = None\n",
    "    adv_dict['orig_target_hit'] = None\n",
    "    adv_dict['adv_target_hit'] = None\n",
    "    adv_dict['metric_variance'] = None\n",
    "    adv_dict['metric_alignment'] = None\n",
    "    adv_dict['metric_ingrad'] = None\n",
    "    logs_adv += [adv_dict]"
   ]
  },
  {
   "cell_type": "code",
   "execution_count": 9,
   "metadata": {},
   "outputs": [
    {
     "name": "stdout",
     "output_type": "stream",
     "text": [
      "id 0\n",
      "id 1\n",
      "id 2\n",
      "id 3\n",
      "id 4\n",
      "id 5\n",
      "id 6\n"
     ]
    }
   ],
   "source": [
    "# Make transferer and Assign model index\n",
    "victim_idxs = [0,1,2,3,4,5,6]\n",
    "\n",
    "for adv_idx in victim_idxs:\n",
    "    print(\"id\", adv_idx)\n",
    "    # Perform Attack\n",
    "    t1 = Transferer(models_list=models_test, dataloader=dataloader)\n",
    "    t1.ifsgm_params.set_params(batch_size=500, eps=0.1, alpha=0.05, iteration = 30,\n",
    "                   target = 9, x_val_min = torch.min(data_x), x_val_max = torch.max(data_x))\n",
    "    t1.generate_victims(victim_idxs)\n",
    "    t1.generate_advNN(adv_idx)\n",
    "    t1.generate_xadv(atk_type = \"ifsgm\")\n",
    "    t1.send_to_victims(victim_idxs)\n",
    "    # t1.check_empirical_metrics(orig_flag = True)\n",
    "    # t1.check_empirical_metrics()\n",
    "    \n",
    "    # Log Performance\n",
    "    logs_adv[adv_idx]['orig_acc_transfers'] = t1.orig_acc_transfers\n",
    "    logs_adv[adv_idx]['orig_similarities'] = t1.orig_similarities\n",
    "    logs_adv[adv_idx]['adv_acc_transfers'] = t1.adv_acc_transfers\n",
    "    logs_adv[adv_idx]['adv_similarities'] = t1.adv_similarities\n",
    "    logs_adv[adv_idx]['orig_target_hit'] = t1.orig_target_hit\n",
    "    logs_adv[adv_idx]['adv_target_hit'] = t1.adv_target_hit\n",
    "    \n",
    "    logs_adv[adv_idx]['metric_variance'] = t1.metric_variance\n",
    "    logs_adv[adv_idx]['metric_alignment'] = t1.metric_alignment\n",
    "    logs_adv[adv_idx]['metric_ingrad'] = t1.metric_ingrad"
   ]
  },
  {
   "cell_type": "markdown",
   "metadata": {},
   "source": [
    "### Print and Record Results\n",
    "- Organize the results into a matrix and print them into an excel sheet\n",
    "- Following Categories (sim_benign, sim_adv, target_adv,grad_alignment)"
   ]
  },
  {
   "cell_type": "code",
   "execution_count": 10,
   "metadata": {},
   "outputs": [],
   "source": [
    "metrics = ['orig_acc_transfers','orig_similarities','adv_similarities','adv_target_hit','metric_alignment']\n",
    "\n",
    "orig_acc = np.zeros([len(victim_idxs),len(victim_idxs)]) \n",
    "sim_benign = np.zeros([len(victim_idxs),len(victim_idxs)]) \n",
    "sim_adv = np.zeros([len(victim_idxs),len(victim_idxs)]) \n",
    "target_adv = np.zeros([len(victim_idxs),len(victim_idxs)]) \n",
    "# grad_align = np.zeros([len(victim_idxs),len(victim_idxs)]) "
   ]
  },
  {
   "cell_type": "code",
   "execution_count": 11,
   "metadata": {},
   "outputs": [],
   "source": [
    "for adv_idx in victim_idxs:\n",
    "    for victim in victim_idxs:\n",
    "        orig_acc[adv_idx,victim] = logs_adv[adv_idx][metrics[0]][victim].data.tolist()\n",
    "        sim_benign[adv_idx,victim] = logs_adv[adv_idx][metrics[1]][victim].data.tolist()\n",
    "        sim_adv[adv_idx,victim] = logs_adv[adv_idx][metrics[2]][victim].data.tolist()\n",
    "        target_adv[adv_idx,victim] = logs_adv[adv_idx][metrics[3]][victim].data.tolist()\n",
    "        # grad_align[adv_idx,victim] = logs_adv[adv_idx][metrics[4]][victim].data.tolist()"
   ]
  },
  {
   "cell_type": "code",
   "execution_count": 13,
   "metadata": {},
   "outputs": [],
   "source": [
    "# Save to Excel file\n",
    "\n",
    "## convert your array into a dataframe\n",
    "orig_acc_df = pd.DataFrame(orig_acc)\n",
    "sim_benign_df = pd.DataFrame(sim_benign)\n",
    "sim_adv_df = pd.DataFrame(sim_adv)\n",
    "target_adv_df = pd.DataFrame(target_adv)\n",
    "# grad_align_df = pd.DataFrame(grad_align)\n",
    "\n",
    "## save to xlsx file\n",
    "\n",
    "#filepath = 'my_excel_file.xlsx'\n",
    "\n",
    "# df.to_excel(filepath, index=False)"
   ]
  },
  {
   "cell_type": "code",
   "execution_count": 14,
   "metadata": {},
   "outputs": [
    {
     "data": {
      "text/html": [
       "<div>\n",
       "<style scoped>\n",
       "    .dataframe tbody tr th:only-of-type {\n",
       "        vertical-align: middle;\n",
       "    }\n",
       "\n",
       "    .dataframe tbody tr th {\n",
       "        vertical-align: top;\n",
       "    }\n",
       "\n",
       "    .dataframe thead th {\n",
       "        text-align: right;\n",
       "    }\n",
       "</style>\n",
       "<table border=\"1\" class=\"dataframe\">\n",
       "  <thead>\n",
       "    <tr style=\"text-align: right;\">\n",
       "      <th></th>\n",
       "      <th>0</th>\n",
       "      <th>1</th>\n",
       "      <th>2</th>\n",
       "      <th>3</th>\n",
       "      <th>4</th>\n",
       "      <th>5</th>\n",
       "      <th>6</th>\n",
       "    </tr>\n",
       "  </thead>\n",
       "  <tbody>\n",
       "    <tr>\n",
       "      <th>0</th>\n",
       "      <td>0.322</td>\n",
       "      <td>0.366</td>\n",
       "      <td>0.484</td>\n",
       "      <td>0.428</td>\n",
       "      <td>0.462</td>\n",
       "      <td>0.550</td>\n",
       "      <td>0.412</td>\n",
       "    </tr>\n",
       "    <tr>\n",
       "      <th>1</th>\n",
       "      <td>0.342</td>\n",
       "      <td>0.368</td>\n",
       "      <td>0.470</td>\n",
       "      <td>0.422</td>\n",
       "      <td>0.422</td>\n",
       "      <td>0.532</td>\n",
       "      <td>0.450</td>\n",
       "    </tr>\n",
       "    <tr>\n",
       "      <th>2</th>\n",
       "      <td>0.370</td>\n",
       "      <td>0.386</td>\n",
       "      <td>0.478</td>\n",
       "      <td>0.408</td>\n",
       "      <td>0.434</td>\n",
       "      <td>0.578</td>\n",
       "      <td>0.466</td>\n",
       "    </tr>\n",
       "    <tr>\n",
       "      <th>3</th>\n",
       "      <td>0.362</td>\n",
       "      <td>0.374</td>\n",
       "      <td>0.500</td>\n",
       "      <td>0.418</td>\n",
       "      <td>0.434</td>\n",
       "      <td>0.532</td>\n",
       "      <td>0.448</td>\n",
       "    </tr>\n",
       "    <tr>\n",
       "      <th>4</th>\n",
       "      <td>0.328</td>\n",
       "      <td>0.334</td>\n",
       "      <td>0.458</td>\n",
       "      <td>0.380</td>\n",
       "      <td>0.464</td>\n",
       "      <td>0.532</td>\n",
       "      <td>0.420</td>\n",
       "    </tr>\n",
       "    <tr>\n",
       "      <th>5</th>\n",
       "      <td>0.346</td>\n",
       "      <td>0.360</td>\n",
       "      <td>0.506</td>\n",
       "      <td>0.398</td>\n",
       "      <td>0.434</td>\n",
       "      <td>0.554</td>\n",
       "      <td>0.442</td>\n",
       "    </tr>\n",
       "    <tr>\n",
       "      <th>6</th>\n",
       "      <td>0.380</td>\n",
       "      <td>0.330</td>\n",
       "      <td>0.476</td>\n",
       "      <td>0.404</td>\n",
       "      <td>0.406</td>\n",
       "      <td>0.552</td>\n",
       "      <td>0.448</td>\n",
       "    </tr>\n",
       "  </tbody>\n",
       "</table>\n",
       "</div>"
      ],
      "text/plain": [
       "       0      1      2      3      4      5      6\n",
       "0  0.322  0.366  0.484  0.428  0.462  0.550  0.412\n",
       "1  0.342  0.368  0.470  0.422  0.422  0.532  0.450\n",
       "2  0.370  0.386  0.478  0.408  0.434  0.578  0.466\n",
       "3  0.362  0.374  0.500  0.418  0.434  0.532  0.448\n",
       "4  0.328  0.334  0.458  0.380  0.464  0.532  0.420\n",
       "5  0.346  0.360  0.506  0.398  0.434  0.554  0.442\n",
       "6  0.380  0.330  0.476  0.404  0.406  0.552  0.448"
      ]
     },
     "execution_count": 14,
     "metadata": {},
     "output_type": "execute_result"
    }
   ],
   "source": [
    "orig_acc_df"
   ]
  },
  {
   "cell_type": "code",
   "execution_count": 15,
   "metadata": {},
   "outputs": [
    {
     "data": {
      "text/html": [
       "<div>\n",
       "<style scoped>\n",
       "    .dataframe tbody tr th:only-of-type {\n",
       "        vertical-align: middle;\n",
       "    }\n",
       "\n",
       "    .dataframe tbody tr th {\n",
       "        vertical-align: top;\n",
       "    }\n",
       "\n",
       "    .dataframe thead th {\n",
       "        text-align: right;\n",
       "    }\n",
       "</style>\n",
       "<table border=\"1\" class=\"dataframe\">\n",
       "  <thead>\n",
       "    <tr style=\"text-align: right;\">\n",
       "      <th></th>\n",
       "      <th>0</th>\n",
       "      <th>1</th>\n",
       "      <th>2</th>\n",
       "      <th>3</th>\n",
       "      <th>4</th>\n",
       "      <th>5</th>\n",
       "      <th>6</th>\n",
       "    </tr>\n",
       "  </thead>\n",
       "  <tbody>\n",
       "    <tr>\n",
       "      <th>0</th>\n",
       "      <td>1.000</td>\n",
       "      <td>0.298</td>\n",
       "      <td>0.350</td>\n",
       "      <td>0.230</td>\n",
       "      <td>0.230</td>\n",
       "      <td>0.426</td>\n",
       "      <td>0.386</td>\n",
       "    </tr>\n",
       "    <tr>\n",
       "      <th>1</th>\n",
       "      <td>0.292</td>\n",
       "      <td>1.000</td>\n",
       "      <td>0.416</td>\n",
       "      <td>0.360</td>\n",
       "      <td>0.192</td>\n",
       "      <td>0.416</td>\n",
       "      <td>0.442</td>\n",
       "    </tr>\n",
       "    <tr>\n",
       "      <th>2</th>\n",
       "      <td>0.340</td>\n",
       "      <td>0.412</td>\n",
       "      <td>1.000</td>\n",
       "      <td>0.364</td>\n",
       "      <td>0.272</td>\n",
       "      <td>0.478</td>\n",
       "      <td>0.456</td>\n",
       "    </tr>\n",
       "    <tr>\n",
       "      <th>3</th>\n",
       "      <td>0.194</td>\n",
       "      <td>0.344</td>\n",
       "      <td>0.346</td>\n",
       "      <td>1.000</td>\n",
       "      <td>0.384</td>\n",
       "      <td>0.294</td>\n",
       "      <td>0.268</td>\n",
       "    </tr>\n",
       "    <tr>\n",
       "      <th>4</th>\n",
       "      <td>0.218</td>\n",
       "      <td>0.196</td>\n",
       "      <td>0.296</td>\n",
       "      <td>0.382</td>\n",
       "      <td>1.000</td>\n",
       "      <td>0.318</td>\n",
       "      <td>0.220</td>\n",
       "    </tr>\n",
       "    <tr>\n",
       "      <th>5</th>\n",
       "      <td>0.448</td>\n",
       "      <td>0.412</td>\n",
       "      <td>0.490</td>\n",
       "      <td>0.322</td>\n",
       "      <td>0.308</td>\n",
       "      <td>1.000</td>\n",
       "      <td>0.518</td>\n",
       "    </tr>\n",
       "    <tr>\n",
       "      <th>6</th>\n",
       "      <td>0.430</td>\n",
       "      <td>0.440</td>\n",
       "      <td>0.448</td>\n",
       "      <td>0.288</td>\n",
       "      <td>0.220</td>\n",
       "      <td>0.506</td>\n",
       "      <td>1.000</td>\n",
       "    </tr>\n",
       "  </tbody>\n",
       "</table>\n",
       "</div>"
      ],
      "text/plain": [
       "       0      1      2      3      4      5      6\n",
       "0  1.000  0.298  0.350  0.230  0.230  0.426  0.386\n",
       "1  0.292  1.000  0.416  0.360  0.192  0.416  0.442\n",
       "2  0.340  0.412  1.000  0.364  0.272  0.478  0.456\n",
       "3  0.194  0.344  0.346  1.000  0.384  0.294  0.268\n",
       "4  0.218  0.196  0.296  0.382  1.000  0.318  0.220\n",
       "5  0.448  0.412  0.490  0.322  0.308  1.000  0.518\n",
       "6  0.430  0.440  0.448  0.288  0.220  0.506  1.000"
      ]
     },
     "execution_count": 15,
     "metadata": {},
     "output_type": "execute_result"
    }
   ],
   "source": [
    "sim_benign_df"
   ]
  },
  {
   "cell_type": "code",
   "execution_count": 16,
   "metadata": {},
   "outputs": [
    {
     "data": {
      "text/html": [
       "<div>\n",
       "<style scoped>\n",
       "    .dataframe tbody tr th:only-of-type {\n",
       "        vertical-align: middle;\n",
       "    }\n",
       "\n",
       "    .dataframe tbody tr th {\n",
       "        vertical-align: top;\n",
       "    }\n",
       "\n",
       "    .dataframe thead th {\n",
       "        text-align: right;\n",
       "    }\n",
       "</style>\n",
       "<table border=\"1\" class=\"dataframe\">\n",
       "  <thead>\n",
       "    <tr style=\"text-align: right;\">\n",
       "      <th></th>\n",
       "      <th>0</th>\n",
       "      <th>1</th>\n",
       "      <th>2</th>\n",
       "      <th>3</th>\n",
       "      <th>4</th>\n",
       "      <th>5</th>\n",
       "      <th>6</th>\n",
       "    </tr>\n",
       "  </thead>\n",
       "  <tbody>\n",
       "    <tr>\n",
       "      <th>0</th>\n",
       "      <td>1.000</td>\n",
       "      <td>0.030</td>\n",
       "      <td>0.100</td>\n",
       "      <td>0.018</td>\n",
       "      <td>0.094</td>\n",
       "      <td>0.168</td>\n",
       "      <td>0.114</td>\n",
       "    </tr>\n",
       "    <tr>\n",
       "      <th>1</th>\n",
       "      <td>0.184</td>\n",
       "      <td>1.000</td>\n",
       "      <td>0.230</td>\n",
       "      <td>0.210</td>\n",
       "      <td>0.122</td>\n",
       "      <td>0.198</td>\n",
       "      <td>0.216</td>\n",
       "    </tr>\n",
       "    <tr>\n",
       "      <th>2</th>\n",
       "      <td>0.150</td>\n",
       "      <td>0.014</td>\n",
       "      <td>1.000</td>\n",
       "      <td>0.024</td>\n",
       "      <td>0.104</td>\n",
       "      <td>0.152</td>\n",
       "      <td>0.104</td>\n",
       "    </tr>\n",
       "    <tr>\n",
       "      <th>3</th>\n",
       "      <td>0.224</td>\n",
       "      <td>0.246</td>\n",
       "      <td>0.250</td>\n",
       "      <td>1.000</td>\n",
       "      <td>0.132</td>\n",
       "      <td>0.308</td>\n",
       "      <td>0.234</td>\n",
       "    </tr>\n",
       "    <tr>\n",
       "      <th>4</th>\n",
       "      <td>0.152</td>\n",
       "      <td>0.006</td>\n",
       "      <td>0.102</td>\n",
       "      <td>0.018</td>\n",
       "      <td>1.000</td>\n",
       "      <td>0.164</td>\n",
       "      <td>0.106</td>\n",
       "    </tr>\n",
       "    <tr>\n",
       "      <th>5</th>\n",
       "      <td>0.156</td>\n",
       "      <td>0.028</td>\n",
       "      <td>0.120</td>\n",
       "      <td>0.018</td>\n",
       "      <td>0.102</td>\n",
       "      <td>1.000</td>\n",
       "      <td>0.114</td>\n",
       "    </tr>\n",
       "    <tr>\n",
       "      <th>6</th>\n",
       "      <td>0.236</td>\n",
       "      <td>0.064</td>\n",
       "      <td>0.150</td>\n",
       "      <td>0.044</td>\n",
       "      <td>0.126</td>\n",
       "      <td>0.224</td>\n",
       "      <td>1.000</td>\n",
       "    </tr>\n",
       "  </tbody>\n",
       "</table>\n",
       "</div>"
      ],
      "text/plain": [
       "       0      1      2      3      4      5      6\n",
       "0  1.000  0.030  0.100  0.018  0.094  0.168  0.114\n",
       "1  0.184  1.000  0.230  0.210  0.122  0.198  0.216\n",
       "2  0.150  0.014  1.000  0.024  0.104  0.152  0.104\n",
       "3  0.224  0.246  0.250  1.000  0.132  0.308  0.234\n",
       "4  0.152  0.006  0.102  0.018  1.000  0.164  0.106\n",
       "5  0.156  0.028  0.120  0.018  0.102  1.000  0.114\n",
       "6  0.236  0.064  0.150  0.044  0.126  0.224  1.000"
      ]
     },
     "execution_count": 16,
     "metadata": {},
     "output_type": "execute_result"
    }
   ],
   "source": [
    "sim_adv_df"
   ]
  },
  {
   "cell_type": "code",
   "execution_count": 17,
   "metadata": {},
   "outputs": [
    {
     "data": {
      "text/html": [
       "<div>\n",
       "<style scoped>\n",
       "    .dataframe tbody tr th:only-of-type {\n",
       "        vertical-align: middle;\n",
       "    }\n",
       "\n",
       "    .dataframe tbody tr th {\n",
       "        vertical-align: top;\n",
       "    }\n",
       "\n",
       "    .dataframe thead th {\n",
       "        text-align: right;\n",
       "    }\n",
       "</style>\n",
       "<table border=\"1\" class=\"dataframe\">\n",
       "  <thead>\n",
       "    <tr style=\"text-align: right;\">\n",
       "      <th></th>\n",
       "      <th>0</th>\n",
       "      <th>1</th>\n",
       "      <th>2</th>\n",
       "      <th>3</th>\n",
       "      <th>4</th>\n",
       "      <th>5</th>\n",
       "      <th>6</th>\n",
       "    </tr>\n",
       "  </thead>\n",
       "  <tbody>\n",
       "    <tr>\n",
       "      <th>0</th>\n",
       "      <td>0.916</td>\n",
       "      <td>0.0</td>\n",
       "      <td>0.076</td>\n",
       "      <td>0.000</td>\n",
       "      <td>0.080</td>\n",
       "      <td>0.144</td>\n",
       "      <td>0.086</td>\n",
       "    </tr>\n",
       "    <tr>\n",
       "      <th>1</th>\n",
       "      <td>0.154</td>\n",
       "      <td>0.0</td>\n",
       "      <td>0.110</td>\n",
       "      <td>0.002</td>\n",
       "      <td>0.076</td>\n",
       "      <td>0.144</td>\n",
       "      <td>0.078</td>\n",
       "    </tr>\n",
       "    <tr>\n",
       "      <th>2</th>\n",
       "      <td>0.140</td>\n",
       "      <td>0.0</td>\n",
       "      <td>0.948</td>\n",
       "      <td>0.000</td>\n",
       "      <td>0.086</td>\n",
       "      <td>0.134</td>\n",
       "      <td>0.086</td>\n",
       "    </tr>\n",
       "    <tr>\n",
       "      <th>3</th>\n",
       "      <td>0.134</td>\n",
       "      <td>0.0</td>\n",
       "      <td>0.086</td>\n",
       "      <td>0.384</td>\n",
       "      <td>0.072</td>\n",
       "      <td>0.150</td>\n",
       "      <td>0.084</td>\n",
       "    </tr>\n",
       "    <tr>\n",
       "      <th>4</th>\n",
       "      <td>0.150</td>\n",
       "      <td>0.0</td>\n",
       "      <td>0.084</td>\n",
       "      <td>0.000</td>\n",
       "      <td>0.956</td>\n",
       "      <td>0.156</td>\n",
       "      <td>0.092</td>\n",
       "    </tr>\n",
       "    <tr>\n",
       "      <th>5</th>\n",
       "      <td>0.130</td>\n",
       "      <td>0.0</td>\n",
       "      <td>0.100</td>\n",
       "      <td>0.002</td>\n",
       "      <td>0.094</td>\n",
       "      <td>0.948</td>\n",
       "      <td>0.088</td>\n",
       "    </tr>\n",
       "    <tr>\n",
       "      <th>6</th>\n",
       "      <td>0.196</td>\n",
       "      <td>0.0</td>\n",
       "      <td>0.104</td>\n",
       "      <td>0.002</td>\n",
       "      <td>0.112</td>\n",
       "      <td>0.170</td>\n",
       "      <td>0.906</td>\n",
       "    </tr>\n",
       "  </tbody>\n",
       "</table>\n",
       "</div>"
      ],
      "text/plain": [
       "       0    1      2      3      4      5      6\n",
       "0  0.916  0.0  0.076  0.000  0.080  0.144  0.086\n",
       "1  0.154  0.0  0.110  0.002  0.076  0.144  0.078\n",
       "2  0.140  0.0  0.948  0.000  0.086  0.134  0.086\n",
       "3  0.134  0.0  0.086  0.384  0.072  0.150  0.084\n",
       "4  0.150  0.0  0.084  0.000  0.956  0.156  0.092\n",
       "5  0.130  0.0  0.100  0.002  0.094  0.948  0.088\n",
       "6  0.196  0.0  0.104  0.002  0.112  0.170  0.906"
      ]
     },
     "execution_count": 17,
     "metadata": {},
     "output_type": "execute_result"
    }
   ],
   "source": [
    "target_adv_df"
   ]
  },
  {
   "cell_type": "code",
   "execution_count": 18,
   "metadata": {},
   "outputs": [
    {
     "ename": "NameError",
     "evalue": "name 'grad_align_df' is not defined",
     "output_type": "error",
     "traceback": [
      "\u001b[0;31m---------------------------------------------------------------------------\u001b[0m",
      "\u001b[0;31mNameError\u001b[0m                                 Traceback (most recent call last)",
      "\u001b[0;32m/tmp/ipykernel_66793/4153317141.py\u001b[0m in \u001b[0;36m<module>\u001b[0;34m\u001b[0m\n\u001b[0;32m----> 1\u001b[0;31m \u001b[0mgrad_align_df\u001b[0m\u001b[0;34m\u001b[0m\u001b[0;34m\u001b[0m\u001b[0m\n\u001b[0m",
      "\u001b[0;31mNameError\u001b[0m: name 'grad_align_df' is not defined"
     ]
    }
   ],
   "source": [
    "# grad_align_df"
   ]
  },
  {
   "cell_type": "code",
   "execution_count": null,
   "metadata": {},
   "outputs": [],
   "source": [
    "# Average all the information together and present\n",
    "orig_acc_mean = np.mean(orig_acc)\n",
    "sim_benign_mean = np.mean((sim_benign.sum(1)-1)/(sim_benign.shape[1]-1))\n",
    "sim_adv_mean = np.mean((sim_adv_df.sum(1)-1)/(sim_adv_df.shape[1]-1))\n",
    "target_adv_mean = np.mean((target_adv.sum(1)-1)/(target_adv.shape[1]-1))\n",
    "grad_align_mean = np.mean((grad_align.sum(1)-0)/(grad_align.shape[1]-0))\n",
    "\n",
    "print(\"orig_acc_mean\", orig_acc_mean)\n",
    "print(\"Sim Benign Mean\", sim_benign_mean)\n",
    "print(\"Sim ADV Mean\", sim_adv_mean)\n",
    "print(\"Target ADV Mean\", target_adv_mean)\n",
    "# print(\"Grad Align Mean\", grad_align_mean)"
   ]
  },
  {
   "cell_type": "code",
   "execution_count": null,
   "metadata": {},
   "outputs": [],
   "source": []
  }
 ],
 "metadata": {
  "kernelspec": {
   "display_name": "FedEM_env",
   "language": "python",
   "name": "fedem_env"
  },
  "language_info": {
   "codemirror_mode": {
    "name": "ipython",
    "version": 3
   },
   "file_extension": ".py",
   "mimetype": "text/x-python",
   "name": "python",
   "nbconvert_exporter": "python",
   "pygments_lexer": "ipython3",
   "version": "3.9.6"
  }
 },
 "nbformat": 4,
 "nbformat_minor": 4
}
