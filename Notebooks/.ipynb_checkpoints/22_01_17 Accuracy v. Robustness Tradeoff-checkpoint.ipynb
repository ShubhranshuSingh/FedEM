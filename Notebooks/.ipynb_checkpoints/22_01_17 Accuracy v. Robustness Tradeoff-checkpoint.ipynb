{
 "cells": [
  {
   "cell_type": "markdown",
   "metadata": {},
   "source": [
    "# Accuracy v. Robustness Trade-off\n",
    "\n",
    "TJ Kim\n",
    "\n",
    "1.17.21\n",
    "\n",
    "#### Summary:\n",
    "- Make a nice figure that plots accuracy (x-axis) v. robustness (adv miss, y-axis)"
   ]
  },
  {
   "cell_type": "code",
   "execution_count": 2,
   "metadata": {},
   "outputs": [],
   "source": [
    "%matplotlib inline\n",
    "import matplotlib.pyplot as plt\n",
    "plt.style.use('seaborn-whitegrid')\n",
    "import numpy as np"
   ]
  },
  {
   "cell_type": "code",
   "execution_count": 3,
   "metadata": {},
   "outputs": [],
   "source": [
    "# Values\n",
    "# Local - Benign\n",
    "local_adv_miss = 0.37\n",
    "local_adv_target = 0.07\n",
    "local_orig_acc = 0.41\n",
    "local_ibdist_legit = 39.52875\n",
    "local_ibdist_adv = 49.74\n",
    "\n",
    "# Fedavg - Benign\n",
    "fedavg_adv_miss = 0.0\n",
    "fedavg_adv_target = 0.86 \n",
    "fedavg_orig_acc = 0.96\n",
    "fedavg_ibdist_legit = 0\n",
    "fedavg_ibdist_adv = 0\n",
    "\n",
    "# FedEM - Benign\n",
    "fedem_adv_miss = 0.12\n",
    "fedem_adv_target = 0.43\n",
    "fedem_orig_acc = 0.79\n",
    "fedem_ibdist_legit = 9.265\n",
    "fedem_ibdist_adv = 10.03\n",
    "\n",
    "# Local - adv\n",
    "local_adv_miss = 0.30\n",
    "local_adv_target = 0.05\n",
    "local_orig_acc = 0.30\n",
    "local_ibdist_legit = 50.21\n",
    "local_ibdist_adv = 87.08\n",
    "\n",
    "# Fedavg - adv\n",
    "fedavg_adv_miss = 0.352\n",
    "fedavg_adv_target =  0.21\n",
    "fedavg_orig_acc = 0.93\n",
    "fedavg_ibdist_legit = 0\n",
    "fedavg_ibdist_adv = 0\n",
    "\n",
    "# FedEM - adv\n",
    "fedem_adv_miss = 0.54\n",
    "fedem_adv_target = 0.073\n",
    "fedem_orig_acc = 0.71\n",
    "fedem_ibdist_legit = 14.29\n",
    "fedem_ibdist_adv = 48.97"
   ]
  },
  {
   "cell_type": "code",
   "execution_count": 5,
   "metadata": {},
   "outputs": [],
   "source": [
    "# points\n",
    "local_benign = [0.41, 0.37]\n",
    "local_adv = [0.3, 0.3]\n",
    "\n",
    "fedavg_benign = [0.96, 0]\n",
    "fedavg_adv = [0.93, 0.35]\n",
    "\n",
    "fedem_benign = [0.79, 0.12]\n",
    "fedem_adv = [0.71, 0.54]\n",
    "\n",
    "# together\n",
    "x = [0.41, 0.3, 0.96, 0.93, 0.79, 0.71]\n",
    "y = [0.37, 0.3, 0, 0.35, 0.12, 0.54]"
   ]
  },
  {
   "cell_type": "code",
   "execution_count": 20,
   "metadata": {},
   "outputs": [
    {
     "data": {
      "text/plain": [
       "Text(0.5, 1.0, 'pFedDef Performance')"
      ]
     },
     "execution_count": 20,
     "metadata": {},
     "output_type": "execute_result"
    },
    {
     "data": {
      "image/png": "[encoded data removed]",
      "text/plain": [
       "<Figure size 432x288 with 1 Axes>"
      ]
     },
     "metadata": {},
     "output_type": "display_data"
    }
   ],
   "source": [
    "font = {'family' : 'normal',\n",
    "        'weight' : 'normal',\n",
    "        'size'   : 12}\n",
    "\n",
    "plt.rc('font', **font)\n",
    "\n",
    "names = ['local', 'local adv', 'FedAvg', 'FedAvg adv', 'FedEM', 'FedEM adv']\n",
    "markers = ['o', '<', 'o', '<', 'o', '<']\n",
    "for i in range(len(names)):\n",
    "    plt.plot(x[i],y[i], markers[i],\n",
    "             label= names[i])\n",
    "plt.legend()\n",
    "plt.xlim(-0.1, 1);\n",
    "plt.ylim(-0.1, 1);\n",
    "plt.xlabel('Test Accuracy')\n",
    "plt.ylabel('Robustness')\n",
    "plt.title(\"pFedDef Performance\")\n"
   ]
  },
  {
   "cell_type": "code",
   "execution_count": null,
   "metadata": {},
   "outputs": [],
   "source": []
  }
 ],
 "metadata": {
  "kernelspec": {
   "display_name": "FedEM_env",
   "language": "python",
   "name": "fedem_env"
  },
  "language_info": {
   "codemirror_mode": {
    "name": "ipython",
    "version": 3
   },
   "file_extension": ".py",
   "mimetype": "text/x-python",
   "name": "python",
   "nbconvert_exporter": "python",
   "pygments_lexer": "ipython3",
   "version": "3.9.6"
  }
 },
 "nbformat": 4,
 "nbformat_minor": 4
}
