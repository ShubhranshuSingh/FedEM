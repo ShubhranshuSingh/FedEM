{
 "cells": [
  {
   "cell_type": "markdown",
   "metadata": {},
   "source": [
    "# G Sweep Analysis\n",
    "TJ Kim\n",
    "\n",
    "12.31.21\n",
    "\n",
    "#### Summary:\n",
    "- Run tests on 5 neural networks of different adversarial values G = [0, 0.25, 0.5, 0.75, 1]\n",
    "- Resource has been set at E[Ru] = 0.5 in [0.2, 0.8]\n",
    "- Relevant metrics are all global (accuracy, target hit, target miss, adversarial/benign distance, gradient alignment, sim benign/adv)\n",
    "- Make new function - avg_nodiag(nparray/panda)"
   ]
  },
  {
   "cell_type": "code",
   "execution_count": 1,
   "metadata": {},
   "outputs": [
    {
     "name": "stdout",
     "output_type": "stream",
     "text": [
      "/home/ubuntu/FedEM\n"
     ]
    }
   ],
   "source": [
    "cd /home/ubuntu/FedEM/"
   ]
  },
  {
   "cell_type": "markdown",
   "metadata": {},
   "source": [
    "#### Import Relevant Libraries"
   ]
  },
  {
   "cell_type": "code",
   "execution_count": 2,
   "metadata": {},
   "outputs": [],
   "source": [
    "# Import General Libraries\n",
    "import os\n",
    "import argparse\n",
    "import torch\n",
    "import copy\n",
    "import pickle\n",
    "import random\n",
    "import numpy as np\n",
    "import pandas as pd\n",
    "\n",
    "# Import FedEM based Libraries\n",
    "from utils.utils import *\n",
    "from utils.constants import *\n",
    "from utils.args import *\n",
    "from torch.utils.tensorboard import SummaryWriter\n",
    "from run_experiment import *\n",
    "from models import *\n",
    "\n",
    "# Import Transfer Attack\n",
    "from transfer_attacks.Personalized_NN import *\n",
    "from transfer_attacks.Params import *\n",
    "from transfer_attacks.Transferer import *\n",
    "from transfer_attacks.Args import *\n",
    "\n",
    "from transfer_attacks.TA_utils import *\n",
    "from transfer_attacks.Boundary_Transferer import *"
   ]
  },
  {
   "cell_type": "markdown",
   "metadata": {},
   "source": [
    "#### Function - Calculate Mean without Diagonal"
   ]
  },
  {
   "cell_type": "code",
   "execution_count": null,
   "metadata": {},
   "outputs": [],
   "source": []
  },
  {
   "cell_type": "markdown",
   "metadata": {},
   "source": [
    "#### Generate Dummy Aggregator and Client"
   ]
  },
  {
   "cell_type": "code",
   "execution_count": 3,
   "metadata": {},
   "outputs": [
    {
     "name": "stdout",
     "output_type": "stream",
     "text": [
      "==> Clients initialization..\n",
      "===> Building data iterators..\n"
     ]
    },
    {
     "name": "stderr",
     "output_type": "stream",
     "text": [
      "100%|██████████████████████████████████████████| 80/80 [00:00<00:00, 155.53it/s]\n"
     ]
    },
    {
     "name": "stdout",
     "output_type": "stream",
     "text": [
      "===> Initializing clients..\n"
     ]
    },
    {
     "name": "stderr",
     "output_type": "stream",
     "text": [
      "100%|███████████████████████████████████████████| 80/80 [00:47<00:00,  1.69it/s]\n"
     ]
    },
    {
     "name": "stdout",
     "output_type": "stream",
     "text": [
      "==> Test Clients initialization..\n",
      "===> Building data iterators..\n"
     ]
    },
    {
     "name": "stderr",
     "output_type": "stream",
     "text": [
      "0it [00:00, ?it/s]\n"
     ]
    },
    {
     "name": "stdout",
     "output_type": "stream",
     "text": [
      "===> Initializing clients..\n"
     ]
    },
    {
     "name": "stderr",
     "output_type": "stream",
     "text": [
      "0it [00:00, ?it/s]\n"
     ]
    },
    {
     "name": "stdout",
     "output_type": "stream",
     "text": [
      "++++++++++++++++++++++++++++++\n",
      "Global..\n",
      "Train Loss: 2.292 | Train Acc: 12.195% |Test Loss: 2.292 | Test Acc: 12.291% |\n",
      "++++++++++++++++++++++++++++++++++++++++++++++++++\n",
      "################################################################################\n"
     ]
    }
   ],
   "source": [
    "# Manually set argument parameters\n",
    "args_ = Args()\n",
    "args_.experiment = \"cifar10\"\n",
    "args_.method = \"FedEM_adv\"\n",
    "args_.decentralized = False\n",
    "args_.sampling_rate = 1.0\n",
    "args_.input_dimension = None\n",
    "args_.output_dimension = None\n",
    "args_.n_learners= 3\n",
    "args_.n_rounds = 10\n",
    "args_.bz = 128\n",
    "args_.local_steps = 1\n",
    "args_.lr_lambda = 0\n",
    "args_.lr =0.03\n",
    "args_.lr_scheduler = 'multi_step'\n",
    "args_.log_freq = 10\n",
    "args_.device = 'cuda'\n",
    "args_.optimizer = 'sgd'\n",
    "args_.mu = 0\n",
    "args_.communication_probability = 0.1\n",
    "args_.q = 1\n",
    "args_.locally_tune_clients = False\n",
    "args_.seed = 1234\n",
    "args_.verbose = 1\n",
    "args_.save_path = 'weights/cifar/21_12_30_feddef2_n40_linf0_5/'\n",
    "args_.validation = False\n",
    "args_.num_user = 40\n",
    "\n",
    "# Generate the dummy values here\n",
    "aggregator, clients = dummy_aggregator(args_, num_user=40)"
   ]
  },
  {
   "cell_type": "markdown",
   "metadata": {},
   "source": [
    "#### Load Dataset From Client Validation"
   ]
  },
  {
   "cell_type": "code",
   "execution_count": 4,
   "metadata": {},
   "outputs": [],
   "source": [
    "# Combine Validation Data across all clients as test\n",
    "data_x = []\n",
    "data_y = []\n",
    "\n",
    "for i in range(len(clients)):\n",
    "    daniloader = clients[i].val_iterator\n",
    "    for (x,y,idx) in daniloader.dataset:\n",
    "        data_x.append(x)\n",
    "        data_y.append(y)\n",
    "\n",
    "data_x = torch.stack(data_x)\n",
    "data_y = torch.stack(data_y)\n",
    "\n",
    "# Create dataloader from validation dataset that allows for diverse batch size\n",
    "dataloader = Custom_Dataloader(data_x, data_y)"
   ]
  },
  {
   "cell_type": "markdown",
   "metadata": {},
   "source": [
    "#### Import Experiment Name Information\n",
    "\n",
    "Used later to loop through."
   ]
  },
  {
   "cell_type": "code",
   "execution_count": 5,
   "metadata": {},
   "outputs": [],
   "source": [
    "exp_names = ['21_12_30_feddef_n40_linf0_5_G0_0/','21_12_30_feddef_n40_linf0_5_G0_25/', '21_12_30_feddef_n40_linf0_5/',\n",
    "             '21_12_30_feddef_n40_linf0_5_G0_75/', '21_12_30_feddef_n40_linf0_5_G1_0/']\n",
    "\n",
    "base = 'weights/cifar/'\n",
    "train_item = 'train_client_weights.npy'"
   ]
  },
  {
   "cell_type": "markdown",
   "metadata": {},
   "source": [
    "#### Set Measurement Metrics"
   ]
  },
  {
   "cell_type": "code",
   "execution_count": 6,
   "metadata": {},
   "outputs": [],
   "source": [
    "num_victims = 8\n",
    "num_exp = len(exp_names)\n",
    "# Set Up Dictionaries -- list holds the adversary idx\n",
    "exp_logs = {}\n",
    "\n",
    "for j in range(num_exp):\n",
    "    logs_adv = []\n",
    "\n",
    "    for i in range(num_victims):\n",
    "        adv_dict = {}\n",
    "        adv_dict['orig_acc_transfers'] = None\n",
    "        adv_dict['orig_similarities'] = None\n",
    "        adv_dict['adv_acc_transfers'] = None\n",
    "        adv_dict['adv_similarities_target'] = None\n",
    "        adv_dict['adv_similarities_untarget'] = None\n",
    "        adv_dict['adv_target'] = None\n",
    "        adv_dict['adv_miss'] = None\n",
    "        adv_dict['metric_alignment'] = None\n",
    "        adv_dict['ib_distance_legit'] = None\n",
    "        adv_dict['ib_distance_adv'] = None\n",
    "        \n",
    "        logs_adv += [adv_dict]\n",
    "    \n",
    "    exp_logs[j] = logs_adv\n"
   ]
  },
  {
   "cell_type": "markdown",
   "metadata": {},
   "source": [
    "#### Load Each Model and Perform Metric"
   ]
  },
  {
   "cell_type": "code",
   "execution_count": 7,
   "metadata": {},
   "outputs": [
    {
     "name": "stdout",
     "output_type": "stream",
     "text": [
      "processing file 21_12_30_feddef_n40_linf0_5_G0_0/ ...\n",
      "\t Adv idx: 0\n",
      "\t Adv idx: 1\n",
      "\t Adv idx: 2\n",
      "\t Adv idx: 3\n",
      "\t Adv idx: 4\n",
      "\t Adv idx: 5\n",
      "\t Adv idx: 6\n",
      "\t Adv idx: 7\n",
      "processing file 21_12_30_feddef_n40_linf0_5_G0_25/ ...\n",
      "\t Adv idx: 0\n",
      "\t Adv idx: 1\n",
      "\t Adv idx: 2\n",
      "\t Adv idx: 3\n",
      "\t Adv idx: 4\n",
      "\t Adv idx: 5\n",
      "\t Adv idx: 6\n",
      "\t Adv idx: 7\n",
      "processing file 21_12_30_feddef_n40_linf0_5/ ...\n",
      "\t Adv idx: 0\n",
      "\t Adv idx: 1\n",
      "\t Adv idx: 2\n",
      "\t Adv idx: 3\n",
      "\t Adv idx: 4\n",
      "\t Adv idx: 5\n",
      "\t Adv idx: 6\n",
      "\t Adv idx: 7\n",
      "processing file 21_12_30_feddef_n40_linf0_5_G0_75/ ...\n",
      "\t Adv idx: 0\n",
      "\t Adv idx: 1\n",
      "\t Adv idx: 2\n",
      "\t Adv idx: 3\n",
      "\t Adv idx: 4\n",
      "\t Adv idx: 5\n",
      "\t Adv idx: 6\n",
      "\t Adv idx: 7\n",
      "processing file 21_12_30_feddef_n40_linf0_5_G1_0/ ...\n",
      "\t Adv idx: 0\n",
      "\t Adv idx: 1\n",
      "\t Adv idx: 2\n",
      "\t Adv idx: 3\n",
      "\t Adv idx: 4\n",
      "\t Adv idx: 5\n",
      "\t Adv idx: 6\n",
      "\t Adv idx: 7\n"
     ]
    }
   ],
   "source": [
    "# Inter Boundary Distance Metric\n",
    "num_trials = 50\n",
    "batch_size = 5000\n",
    "\n",
    "\n",
    "for j in range(num_exp):\n",
    "    print('processing file', exp_names[j], '...')\n",
    "    \n",
    "    # Change name if need be\n",
    "    args_.save_path = base + exp_names[j]\n",
    "\n",
    "    # Import weights for aggregator\n",
    "    aggregator.load_state(args_.save_path)\n",
    "\n",
    "    # This is where the models are stored -- one for each mixture --> learner.model for nn\n",
    "    hypotheses = aggregator.global_learners_ensemble.learners\n",
    "\n",
    "    # obtain the state dict for each of the weights \n",
    "    weights_h = []\n",
    "\n",
    "    for h in hypotheses:\n",
    "        weights_h += [h.model.state_dict()]\n",
    "        \n",
    "    weight_name = args_.save_path + train_item\n",
    "    weights = np.load(weight_name)\n",
    "    np.set_printoptions(formatter={'float': lambda x: \"{0:0.2f}\".format(x)})\n",
    "\n",
    "    # Set model weights\n",
    "    model_weights = []\n",
    "    num_models = num_victims\n",
    "\n",
    "    for i in range(num_models):\n",
    "        model_weights += [weights[i]]\n",
    "\n",
    "\n",
    "    # Generate the weights to test on as linear combinations of the model_weights\n",
    "    models_test = []\n",
    "\n",
    "    for (w0,w1,w2) in model_weights:\n",
    "        # first make the model with empty weights\n",
    "        new_model = copy.deepcopy(hypotheses[0].model)\n",
    "        new_model.eval()\n",
    "        new_weight_dict = copy.deepcopy(weights_h[0])\n",
    "        for key in weights_h[0]:\n",
    "            new_weight_dict[key] = w0*weights_h[0][key] + w1*weights_h[1][key] + w2*weights_h[2][key]\n",
    "        new_model.load_state_dict(new_weight_dict)\n",
    "        models_test += [new_model]\n",
    "        \n",
    "    # Run Measurements for both targetted and untargeted analysis\n",
    "    victim_idxs = range(num_victims)\n",
    "    \n",
    "    t1 = Transferer(models_list=models_test, dataloader=dataloader)\n",
    "    t1.generate_victims(victim_idxs)\n",
    "    \n",
    "    t2 = Boundary_Transferer(models_list=models_test, dataloader=dataloader)\n",
    "    t2.victim_idx = victim_idxs\n",
    "    \n",
    "    for adv_idx in victim_idxs:\n",
    "        print(\"\\t Adv idx:\", adv_idx)\n",
    "        # Perform Attacks\n",
    "        t1.atk_params = PGD_Params()\n",
    "        t1.atk_params.set_params(batch_size=500, iteration = 10,\n",
    "                       target = 5, x_val_min = torch.min(data_x), x_val_max = torch.max(data_x),\n",
    "                       step_size = 0.05, step_norm = \"inf\", eps = 4.5, eps_norm = 2)\n",
    "        \n",
    "        t1.generate_advNN(adv_idx)\n",
    "        t1.generate_xadv(atk_type = \"pgd\")\n",
    "        t1.send_to_victims(victim_idxs)\n",
    "        t1.check_empirical_metrics(orig_flag = True)\n",
    "\n",
    "        # Log Performance\n",
    "        exp_logs[j][adv_idx]['orig_acc_transfers'] = copy.deepcopy(t1.orig_acc_transfers)\n",
    "        exp_logs[j][adv_idx]['orig_similarities'] = copy.deepcopy(t1.orig_similarities)\n",
    "        exp_logs[j][adv_idx]['adv_acc_transfers'] = copy.deepcopy(t1.adv_acc_transfers)\n",
    "        exp_logs[j][adv_idx]['adv_similarities_target'] = copy.deepcopy(t1.adv_similarities)        \n",
    "        exp_logs[j][adv_idx]['adv_target'] = copy.deepcopy(t1.adv_target_hit)\n",
    "        exp_logs[j][adv_idx]['metric_alignment'] = copy.deepcopy(t1.metric_alignment)\n",
    "        \n",
    "        # Miss attack\n",
    "        t1.atk_params.set_params(batch_size=500, iteration = 10,\n",
    "                       target = -1, x_val_min = torch.min(data_x), x_val_max = torch.max(data_x),\n",
    "                       step_size = 0.05, step_norm = \"inf\", eps = 4.5, eps_norm = 2)\n",
    "        t1.generate_xadv(atk_type = \"pgd\")\n",
    "        t1.send_to_victims(victim_idxs)\n",
    "        exp_logs[j][adv_idx]['adv_miss'] = copy.deepcopy(t1.adv_acc_transfers)\n",
    "        exp_logs[j][adv_idx]['adv_similarities_untarget'] = copy.deepcopy(t1.adv_similarities)\n",
    "        \n",
    "        # Inter-boundary Distance\n",
    "#         t2.base_nn_idx = adv_idx\n",
    "#         t2.atk_params = PGD_Params()\n",
    "#         t2.atk_params.set_params(batch_size=500, iteration = 30,\n",
    "#                        target = -1, x_val_min = torch.min(data_x), x_val_max = torch.max(data_x),\n",
    "#                        step_size = 0.05, step_norm = \"inf\", eps = 5, eps_norm = 2)\n",
    "#         t2.set_adv_NN(t2.base_nn_idx)\n",
    "        \n",
    "#         dists_measure_legit = np.zeros([num_trials, len(t2.victim_idx)])\n",
    "#         dists_measure_adv = np.zeros([num_trials, len(t2.victim_idx)])\n",
    "#         dists_measure_adv_ensemble = np.zeros([num_trials, len(t2.victim_idx)])\n",
    "        \n",
    "#         for t in range(num_trials):\n",
    "#             print('\\t \\t num_trial', t)\n",
    "        \n",
    "#             base_ep_legit, victim_eps_legit = t2.legitimate_direction(batch_size=batch_size, ep_granularity = 0.3, \n",
    "#                                                                   rep_padding = 1000, new_point = True,print_res = False)\n",
    "\n",
    "#             base_ep_adv, victim_eps_adv = t2.adversarial_direction(ep_granularity = 0.3, \n",
    "#                                                                   rep_padding = 1000, new_point = False,print_res = False)\n",
    "\n",
    "#             idx = 0\n",
    "#             for key, value in victim_eps_legit.items():\n",
    "#                 dists_measure_legit[t,idx] = np.abs(base_ep_legit-value)\n",
    "#                 idx+=1\n",
    "\n",
    "#             idx = 0\n",
    "#             for key, value in victim_eps_adv.items():\n",
    "#                 dists_measure_adv[t,idx] = np.abs(base_ep_adv - value)\n",
    "#                 idx+=1\n",
    "        \n",
    "#         exp_logs_targetted[j][adv_idx]['ib_distance_legit'] = copy.deepcopy(dists_measure_legit)\n",
    "#         exp_logs_targetted[j][adv_idx]['ib_distance_adv'] = copy.deepcopy(dists_measure_adv)\n",
    "\n",
    "    del t1, models_test"
   ]
  },
  {
   "cell_type": "markdown",
   "metadata": {},
   "source": [
    "#### Obtain Metric Values and Make Table"
   ]
  },
  {
   "cell_type": "code",
   "execution_count": null,
   "metadata": {},
   "outputs": [],
   "source": [
    "metrics = ['orig_acc_transfers','orig_similarities','adv_acc_transfers','adv_similarities_target',\n",
    "           'adv_similarities_untarget','adv_target','adv_miss','metric_alignment']\n",
    "\n",
    "orig_acc = np.zeros([len(num_victims),len(num_victims)]) \n",
    "orig_sim = np.zeros([len(num_victims),len(num_victims)]) \n",
    "adv_acc = np.zeros([len(num_victims),len(num_victims)]) \n",
    "adv_sim_target = np.zeros([len(num_victims),len(num_victims)]) \n",
    "adv_sim_untarget = np.zeros([len(num_victims),len(num_victims)]) \n",
    "adv_target= np.zeros([len(num_victims),len(num_victims)]) \n",
    "adv_miss = np.zeros([len(num_victims),len(num_victims)]) \n",
    "grad_align = np.zeros([len(num_victims),len(num_victims)]) "
   ]
  },
  {
   "cell_type": "code",
   "execution_count": 9,
   "metadata": {},
   "outputs": [
    {
     "data": {
      "text/plain": [
       "{'orig_acc_transfers': {0: tensor(0.7480, device='cuda:0'),\n",
       "  1: tensor(0.7920, device='cuda:0'),\n",
       "  2: tensor(0.7820, device='cuda:0'),\n",
       "  3: tensor(0.7380, device='cuda:0'),\n",
       "  4: tensor(0.6160, device='cuda:0'),\n",
       "  5: tensor(0.7880, device='cuda:0'),\n",
       "  6: tensor(0.7860, device='cuda:0'),\n",
       "  7: tensor(0.7360, device='cuda:0')},\n",
       " 'orig_similarities': {0: tensor(0.9220, device='cuda:0'),\n",
       "  1: tensor(0.9100, device='cuda:0'),\n",
       "  2: tensor(0.9660, device='cuda:0'),\n",
       "  3: tensor(0.7120, device='cuda:0'),\n",
       "  4: tensor(0.5240, device='cuda:0'),\n",
       "  5: tensor(0.9740, device='cuda:0'),\n",
       "  6: tensor(1., device='cuda:0'),\n",
       "  7: tensor(0.7400, device='cuda:0')},\n",
       " 'adv_acc_transfers': {0: tensor(0.5700, device='cuda:0'),\n",
       "  1: tensor(0.3720, device='cuda:0'),\n",
       "  2: tensor(0.4260, device='cuda:0'),\n",
       "  3: tensor(0.6480, device='cuda:0'),\n",
       "  4: tensor(0.6140, device='cuda:0'),\n",
       "  5: tensor(0.3460, device='cuda:0'),\n",
       "  6: tensor(0.3620, device='cuda:0'),\n",
       "  7: tensor(0.6780, device='cuda:0')},\n",
       " 'adv_similarities_target': {0: tensor(0.6900, device='cuda:0'),\n",
       "  1: tensor(0.9220, device='cuda:0'),\n",
       "  2: tensor(0.8880, device='cuda:0'),\n",
       "  3: tensor(0.4280, device='cuda:0'),\n",
       "  4: tensor(0.2820, device='cuda:0'),\n",
       "  5: tensor(0.9680, device='cuda:0'),\n",
       "  6: tensor(1., device='cuda:0'),\n",
       "  7: tensor(0.4860, device='cuda:0')},\n",
       " 'adv_similarities_untarget': {0: tensor(0.5980, device='cuda:0'),\n",
       "  1: tensor(0.8260, device='cuda:0'),\n",
       "  2: tensor(0.8580, device='cuda:0'),\n",
       "  3: tensor(0.3480, device='cuda:0'),\n",
       "  4: tensor(0.1880, device='cuda:0'),\n",
       "  5: tensor(0.9240, device='cuda:0'),\n",
       "  6: tensor(1., device='cuda:0'),\n",
       "  7: tensor(0.3100, device='cuda:0')},\n",
       " 'adv_target': {0: tensor(0.3940, device='cuda:0'),\n",
       "  1: tensor(0.6040, device='cuda:0'),\n",
       "  2: tensor(0.5640, device='cuda:0'),\n",
       "  3: tensor(0.1780, device='cuda:0'),\n",
       "  4: tensor(0.0700, device='cuda:0'),\n",
       "  5: tensor(0.6440, device='cuda:0'),\n",
       "  6: tensor(0.6340, device='cuda:0'),\n",
       "  7: tensor(0.2500, device='cuda:0')},\n",
       " 'adv_miss': {0: tensor(0.3120, device='cuda:0'),\n",
       "  1: tensor(0.1040, device='cuda:0'),\n",
       "  2: tensor(0.1440, device='cuda:0'),\n",
       "  3: tensor(0.3660, device='cuda:0'),\n",
       "  4: tensor(0.5200, device='cuda:0'),\n",
       "  5: tensor(0.0820, device='cuda:0'),\n",
       "  6: tensor(0.0760, device='cuda:0'),\n",
       "  7: tensor(0.5540, device='cuda:0')},\n",
       " 'metric_alignment': {0: tensor(0.9736),\n",
       "  1: tensor(0.8084),\n",
       "  2: tensor(0.5478),\n",
       "  3: tensor(1.1311),\n",
       "  4: tensor(1.3362),\n",
       "  5: tensor(0.4574),\n",
       "  6: tensor(0.),\n",
       "  7: tensor(1.3116)},\n",
       " 'ib_distance_legit': None,\n",
       " 'ib_distance_adv': None}"
      ]
     },
     "execution_count": 9,
     "metadata": {},
     "output_type": "execute_result"
    }
   ],
   "source": [
    "exp_logs[4][6]"
   ]
  },
  {
   "cell_type": "code",
   "execution_count": null,
   "metadata": {},
   "outputs": [],
   "source": []
  }
 ],
 "metadata": {
  "kernelspec": {
   "display_name": "FedEM_env",
   "language": "python",
   "name": "fedem_env"
  },
  "language_info": {
   "codemirror_mode": {
    "name": "ipython",
    "version": 3
   },
   "file_extension": ".py",
   "mimetype": "text/x-python",
   "name": "python",
   "nbconvert_exporter": "python",
   "pygments_lexer": "ipython3",
   "version": "3.9.6"
  }
 },
 "nbformat": 4,
 "nbformat_minor": 4
}
