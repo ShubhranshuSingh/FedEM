{
 "cells": [
  {
   "cell_type": "markdown",
   "metadata": {},
   "source": [
    "# Ensemble Attack Implementation\n",
    "\n",
    "TJ Kim, 11.16.21\n",
    "\n",
    "#### Summary:\n",
    "- Build upon the \"Transferer\" class that performs adversarial perturbations based on gradients of one model and sends adversarial examples to other members of ensemble\n",
    "- Ensemble Cascade Adversarial Attack using multiple members of ensembles as adversarial"
   ]
  },
  {
   "cell_type": "code",
   "execution_count": 1,
   "metadata": {},
   "outputs": [
    {
     "name": "stdout",
     "output_type": "stream",
     "text": [
      "/home/ubuntu/FedEM\n"
     ]
    }
   ],
   "source": [
    "cd /home/ubuntu/FedEM/"
   ]
  },
  {
   "cell_type": "markdown",
   "metadata": {},
   "source": [
    "#### Import Libraries"
   ]
  },
  {
   "cell_type": "code",
   "execution_count": 2,
   "metadata": {},
   "outputs": [],
   "source": [
    "# Import General Libraries\n",
    "import os\n",
    "import argparse\n",
    "import torch\n",
    "import copy\n",
    "import pickle\n",
    "import random\n",
    "import numpy as np\n",
    "import pandas as pd\n",
    "\n",
    "# Import FedEM based Libraries\n",
    "from utils.utils import *\n",
    "from utils.constants import *\n",
    "from utils.args import *\n",
    "from torch.utils.tensorboard import SummaryWriter\n",
    "from run_experiment import *\n",
    "from models import *\n",
    "\n",
    "# Import Transfer Attack\n",
    "from transfer_attacks.Personalized_NN import *\n",
    "from transfer_attacks.Params import *\n",
    "from transfer_attacks.Transferer import *\n",
    "from transfer_attacks.Args import *"
   ]
  },
  {
   "cell_type": "markdown",
   "metadata": {},
   "source": [
    "#### Build New Ensemble Transferer Subclass"
   ]
  },
  {
   "cell_type": "code",
   "execution_count": 3,
   "metadata": {},
   "outputs": [],
   "source": [
    "class Ensemble_Transferer(Transferer): \n",
    "    def __init__(self, models_list, dataloader):\n",
    "        super(Ensemble_Transferer, self).__init__(models_list, dataloader)\n",
    "    \n",
    "        # Other Params\n",
    "        self.advNN_idx = None # list\n",
    "        self.advNN = None # dict of personalized_NN\n",
    "        self.atk_order = None\n",
    "        \n",
    "    def generate_advNN(self, client_idx):\n",
    "        \"\"\"\n",
    "        Select specific client to load neural network to \n",
    "        Load the data for that client\n",
    "        Lod the weights for that client\n",
    "        This is the client that will generate perturbations\n",
    "        \"\"\"        \n",
    "        # Import the loader for this dataset only\n",
    "        \n",
    "        self.advNN_idx = client_idx # List\n",
    "        self.advNN = {} # Dict of NN\n",
    "        \n",
    "        for i in client_idx:\n",
    "            self.advNN[i] = copy.deepcopy(Adv_NN(self.models_list[i], self.dataloader))\n",
    "        \n",
    "        return\n",
    "    \n",
    "    def choose_attack_sequence(self):\n",
    "        \"\"\"\n",
    "        Given the number of iterations of attack in params, and number of adv nn\n",
    "        choose a list of len~iter of which idx to attack\n",
    "        must run generate_advNN prior \n",
    "        \"\"\"\n",
    "    \n",
    "        num_iters = self.ifsgm_params.iteration\n",
    "        atk_order = []\n",
    "        \n",
    "        for t in range(num_iters):\n",
    "            idx = t%len(self.advNN_idx)\n",
    "            atk_order += [self.advNN_idx[idx]]\n",
    "            \n",
    "        self.atk_order = atk_order\n",
    "        \n",
    "    \n",
    "    def generate_xadv(self, atk_type = \"IFSGM\", mode='test'):\n",
    "        \"\"\"\n",
    "        Generate perturbed images\n",
    "        atk_type - \"IFSGM\"\n",
    "        \"\"\"\n",
    "        \n",
    "        # Import attack parameters\n",
    "        batch_size = self.ifsgm_params.batch_size\n",
    "        \n",
    "        # Load data to perturb\n",
    "        data_x, data_y = self.dataloader.load_batch(batch_size, mode=mode)\n",
    "        self.x_orig  = data_x.reshape(batch_size,3,32,32)\n",
    "        self.y_true = data_y.type(torch.LongTensor)\n",
    "        self.y_orig = self.y_true # Unused dummy feature\n",
    "        self.y_adv = self.y_true\n",
    "        \n",
    "        x_in = copy.deepcopy(self.x_orig)\n",
    "        y_in  = self.y_true\n",
    "        \n",
    "        # Alter number of iteration in params to 1 \n",
    "        temp_params = copy.deepcopy(self.ifsgm_params)\n",
    "        temp_params.iteration = 1\n",
    "        \n",
    "        for idx in self.atk_order:\n",
    "            self.advNN[idx].i_fgsm_sub(temp_params, x_in, y_in)\n",
    "            x_in = copy.deepcopy(self.advNN[idx].x_adv)\n",
    "        \n",
    "        # Record relevant tensors\n",
    "        self.x_adv = copy.deepcopy(x_in).cuda()\n",
    "        \n",
    "    def send_to_victims(self, client_idxs):\n",
    "        \"\"\"\n",
    "        Send pre-generated adversarial perturbations \n",
    "        client_idxs - list of indices of clients we want to attack (just victims)\n",
    "        \n",
    "        Then record the attack success stats accordingly\n",
    "        \"\"\"\n",
    "        \n",
    "        for i in client_idxs:\n",
    "            self.victims[i].ensemble_forward_transfer(self.x_orig, self.x_adv, self.y_orig, self.ifsgm_params.target)\n",
    "\n",
    "            # Record Performance\n",
    "            self.orig_target_hit[i] = self.victims[i].orig_target_achieve\n",
    "            self.adv_target_hit[i] = self.victims[i].adv_target_achieve"
   ]
  },
  {
   "cell_type": "markdown",
   "metadata": {},
   "source": [
    "### FedEM Analysis \n",
    "- Generate aggregator and extract saved models"
   ]
  },
  {
   "cell_type": "code",
   "execution_count": 36,
   "metadata": {},
   "outputs": [
    {
     "name": "stdout",
     "output_type": "stream",
     "text": [
      "==> Clients initialization..\n",
      "===> Building data iterators..\n"
     ]
    },
    {
     "name": "stderr",
     "output_type": "stream",
     "text": [
      "100%|██████████████████████████████████████████| 80/80 [00:00<00:00, 253.28it/s]\n"
     ]
    },
    {
     "name": "stdout",
     "output_type": "stream",
     "text": [
      "===> Initializing clients..\n"
     ]
    },
    {
     "name": "stderr",
     "output_type": "stream",
     "text": [
      "100%|███████████████████████████████████████████| 80/80 [00:27<00:00,  2.87it/s]\n"
     ]
    },
    {
     "name": "stdout",
     "output_type": "stream",
     "text": [
      "==> Test Clients initialization..\n",
      "===> Building data iterators..\n"
     ]
    },
    {
     "name": "stderr",
     "output_type": "stream",
     "text": [
      "0it [00:00, ?it/s]\n"
     ]
    },
    {
     "name": "stdout",
     "output_type": "stream",
     "text": [
      "===> Initializing clients..\n"
     ]
    },
    {
     "name": "stderr",
     "output_type": "stream",
     "text": [
      "0it [00:00, ?it/s]\n"
     ]
    },
    {
     "name": "stdout",
     "output_type": "stream",
     "text": [
      "++++++++++++++++++++++++++++++\n",
      "Global..\n",
      "Train Loss: 2.292 | Train Acc: 12.159% |Test Loss: 2.292 | Test Acc: 12.248% |\n",
      "++++++++++++++++++++++++++++++++++++++++++++++++++\n",
      "################################################################################\n"
     ]
    }
   ],
   "source": [
    "# Manually set argument parameters\n",
    "args_ = Args()\n",
    "args_.experiment = \"cifar10\"\n",
    "args_.method = \"FedEM\"\n",
    "args_.decentralized = False\n",
    "args_.sampling_rate = 1.0\n",
    "args_.input_dimension = None\n",
    "args_.output_dimension = None\n",
    "args_.n_learners= 3\n",
    "args_.n_rounds = 10\n",
    "args_.bz = 128\n",
    "args_.local_steps = 1\n",
    "args_.lr_lambda = 0\n",
    "args_.lr =0.03\n",
    "args_.lr_scheduler = 'multi_step'\n",
    "args_.log_freq = 10\n",
    "args_.device = 'cuda'\n",
    "args_.optimizer = 'sgd'\n",
    "args_.mu = 0\n",
    "args_.communication_probability = 0.1\n",
    "args_.q = 1\n",
    "args_.locally_tune_clients = False\n",
    "args_.seed = 1234\n",
    "args_.verbose = 1\n",
    "args_.save_path = 'weights/cifar/21_09_28_first_transfers/'\n",
    "args_.validation = False\n",
    "\n",
    "# Generate the dummy values here\n",
    "aggregator, clients = dummy_aggregator(args_)"
   ]
  },
  {
   "cell_type": "code",
   "execution_count": 37,
   "metadata": {},
   "outputs": [],
   "source": [
    "# IMPORT DATASET -- DON'T IMPORT FOR FED LOCAL CASE LATER\n",
    "\n",
    "# Combine Validation Data across all clients as test\n",
    "data_x = []\n",
    "data_y = []\n",
    "\n",
    "for i in range(len(clients)):\n",
    "    daniloader = clients[i].val_iterator\n",
    "    for (x,y,idx) in daniloader.dataset:\n",
    "        data_x.append(x)\n",
    "        data_y.append(y)\n",
    "\n",
    "data_x = torch.stack(data_x)\n",
    "data_y = torch.stack(data_y)\n",
    "\n",
    "# Create dataloader from validation dataset that allows for diverse batch size\n",
    "dataloader = Custom_Dataloader(data_x, data_y)"
   ]
  },
  {
   "cell_type": "code",
   "execution_count": 38,
   "metadata": {},
   "outputs": [],
   "source": [
    "# Import weights for aggregator\n",
    "aggregator.load_state(args_.save_path)\n",
    "\n",
    "# This is where the models are stored -- one for each mixture --> learner.model for nn\n",
    "hypotheses = aggregator.global_learners_ensemble.learners\n",
    "\n",
    "# obtain the state dict for each of the weights \n",
    "weights_h = []\n",
    "\n",
    "for h in hypotheses:\n",
    "    weights_h += [h.model.state_dict()]"
   ]
  },
  {
   "cell_type": "code",
   "execution_count": 39,
   "metadata": {},
   "outputs": [],
   "source": [
    "weights = np.load(\"weights/cifar/21_09_28_first_transfers/train_client_weights.npy\")\n",
    "np.set_printoptions(formatter={'float': lambda x: \"{0:0.2f}\".format(x)})\n",
    "\n",
    "#print(weights)\n",
    "\n",
    "# Set model weights\n",
    "model_weights = []\n",
    "num_models = 7\n",
    "\n",
    "for i in range(num_models):\n",
    "    model_weights += [weights[i]]\n",
    "    \n",
    "    \n",
    "# Generate the weights to test on as linear combinations of the model_weights\n",
    "models_test = []\n",
    "\n",
    "for (w0,w1,w2) in model_weights:\n",
    "    # first make the model with empty weights\n",
    "    new_model = copy.deepcopy(hypotheses[0].model)\n",
    "    new_model.eval()\n",
    "    new_weight_dict = copy.deepcopy(weights_h[0])\n",
    "    for key in weights_h[0]:\n",
    "        new_weight_dict[key] = w0*weights_h[0][key] + w1*weights_h[1][key] + w2*weights_h[2][key]\n",
    "    new_model.load_state_dict(new_weight_dict)\n",
    "    models_test += [new_model]"
   ]
  },
  {
   "cell_type": "markdown",
   "metadata": {},
   "source": [
    "### Set up Transfer Attack Scenario"
   ]
  },
  {
   "cell_type": "code",
   "execution_count": 40,
   "metadata": {},
   "outputs": [],
   "source": [
    "# Set Up Dictionaries -- list holds the adversary idx\n",
    "logs_adv = []\n",
    "\n",
    "for i in range(len(model_weights)):\n",
    "    adv_dict = {}\n",
    "    adv_dict['orig_target_hit'] = None\n",
    "    adv_dict['adv_target_hit'] = None\n",
    "    logs_adv += [adv_dict]"
   ]
  },
  {
   "cell_type": "code",
   "execution_count": 41,
   "metadata": {},
   "outputs": [],
   "source": [
    "adv_idx = [0,1,2]\n",
    "victim_idxs = [0,1,2,3,4,5,6]\n",
    "\n",
    "t1 = Ensemble_Transferer(models_list=models_test, dataloader=dataloader)\n",
    "\n",
    "# atk Params setup\n",
    "t1.ifsgm_params.set_params(batch_size=500, eps=0.1, alpha=0.05, iteration = 30,\n",
    "               target = 9, x_val_min = torch.min(data_x), x_val_max = torch.max(data_x))\n",
    "\n",
    "t1.generate_victims(victim_idxs)\n",
    "t1.generate_advNN(adv_idx)\n",
    "t1.advNN_idx = adv_idx\n",
    "t1.choose_attack_sequence()\n",
    "t1.generate_xadv(atk_type = \"ifsgm\")\n",
    "t1.send_to_victims(victim_idxs)\n",
    "\n",
    "# Log Performance\n",
    "# logs_adv[adv_idx]['orig_target_hit'] = t1.orig_target_hit\n",
    "# logs_adv[adv_idx]['adv_target_hit'] = t1.adv_target_hit"
   ]
  },
  {
   "cell_type": "code",
   "execution_count": 42,
   "metadata": {},
   "outputs": [
    {
     "data": {
      "text/plain": [
       "{0: tensor(0.0940, device='cuda:0'),\n",
       " 1: tensor(0.1180, device='cuda:0'),\n",
       " 2: tensor(0.0840, device='cuda:0'),\n",
       " 3: tensor(0.0840, device='cuda:0'),\n",
       " 4: tensor(0.0820, device='cuda:0'),\n",
       " 5: tensor(0.1120, device='cuda:0'),\n",
       " 6: tensor(0.1060, device='cuda:0')}"
      ]
     },
     "execution_count": 42,
     "metadata": {},
     "output_type": "execute_result"
    }
   ],
   "source": [
    "t1.orig_target_hit"
   ]
  },
  {
   "cell_type": "code",
   "execution_count": 43,
   "metadata": {},
   "outputs": [
    {
     "data": {
      "text/plain": [
       "{0: tensor(1., device='cuda:0'),\n",
       " 1: tensor(1., device='cuda:0'),\n",
       " 2: tensor(0.9980, device='cuda:0'),\n",
       " 3: tensor(0.9980, device='cuda:0'),\n",
       " 4: tensor(0.9980, device='cuda:0'),\n",
       " 5: tensor(1., device='cuda:0'),\n",
       " 6: tensor(1., device='cuda:0')}"
      ]
     },
     "execution_count": 43,
     "metadata": {},
     "output_type": "execute_result"
    }
   ],
   "source": [
    "t1.adv_target_hit"
   ]
  },
  {
   "cell_type": "markdown",
   "metadata": {},
   "source": [
    "### FedLocal Analysis"
   ]
  },
  {
   "cell_type": "code",
   "execution_count": 44,
   "metadata": {},
   "outputs": [
    {
     "name": "stdout",
     "output_type": "stream",
     "text": [
      "==> Clients initialization..\n",
      "===> Building data iterators..\n"
     ]
    },
    {
     "name": "stderr",
     "output_type": "stream",
     "text": [
      "100%|██████████████████████████████████████████| 80/80 [00:00<00:00, 302.50it/s]\n"
     ]
    },
    {
     "name": "stdout",
     "output_type": "stream",
     "text": [
      "===> Initializing clients..\n"
     ]
    },
    {
     "name": "stderr",
     "output_type": "stream",
     "text": [
      "100%|███████████████████████████████████████████| 80/80 [00:09<00:00,  8.21it/s]\n"
     ]
    },
    {
     "name": "stdout",
     "output_type": "stream",
     "text": [
      "==> Test Clients initialization..\n",
      "===> Building data iterators..\n"
     ]
    },
    {
     "name": "stderr",
     "output_type": "stream",
     "text": [
      "0it [00:00, ?it/s]\n"
     ]
    },
    {
     "name": "stdout",
     "output_type": "stream",
     "text": [
      "===> Initializing clients..\n"
     ]
    },
    {
     "name": "stderr",
     "output_type": "stream",
     "text": [
      "0it [00:00, ?it/s]\n"
     ]
    },
    {
     "name": "stdout",
     "output_type": "stream",
     "text": [
      "++++++++++++++++++++++++++++++\n",
      "Global..\n",
      "Train Loss: 2.299 | Train Acc: 10.643% |Test Loss: 2.298 | Test Acc: 10.503% |\n",
      "++++++++++++++++++++++++++++++++++++++++++++++++++\n",
      "################################################################################\n"
     ]
    }
   ],
   "source": [
    "# Manually set argument parameters\n",
    "args_ = Args()\n",
    "args_.experiment = \"cifar10\"\n",
    "args_.method = \"local\"\n",
    "args_.decentralized = False\n",
    "args_.sampling_rate = 1.0\n",
    "args_.input_dimension = None\n",
    "args_.output_dimension = None\n",
    "args_.n_learners= 1\n",
    "args_.n_rounds = 10\n",
    "args_.bz = 128\n",
    "args_.local_steps = 1\n",
    "args_.lr_lambda = 0\n",
    "args_.lr =0.03\n",
    "args_.lr_scheduler = 'multi_step'\n",
    "args_.log_freq = 10\n",
    "args_.device = 'cuda'\n",
    "args_.optimizer = 'sgd'\n",
    "args_.mu = 0\n",
    "args_.communication_probability = 0.1\n",
    "args_.q = 1\n",
    "args_.locally_tune_clients = False\n",
    "args_.seed = 1234\n",
    "args_.verbose = 1\n",
    "args_.save_path = 'weights/cifar/21_11_06_local/'\n",
    "args_.validation = False\n",
    "\n",
    "# Generate the dummy values here\n",
    "aggregator, clients = dummy_aggregator(args_)"
   ]
  },
  {
   "cell_type": "code",
   "execution_count": 45,
   "metadata": {},
   "outputs": [],
   "source": [
    "# Import weights for aggregator\n",
    "aggregator.load_state(args_.save_path)\n",
    "\n",
    "# Set model weights\n",
    "weights = np.load(\"weights/cifar/21_11_06_local/train_client_weights.npy\")\n",
    "np.set_printoptions(formatter={'float': lambda x: \"{0:0.2f}\".format(x)})\n",
    "\n",
    "model_weights = []\n",
    "num_models = 7\n",
    "\n",
    "for i in range(num_models):\n",
    "    model_weights += [weights[i]]\n",
    "\n",
    "# Generate the weights to test on as linear combinations of the model_weights\n",
    "models_test = []\n",
    "\n",
    "for i in range(num_models):\n",
    "    new_model = copy.deepcopy(aggregator.clients[i].learners_ensemble.learners[0].model)\n",
    "    new_model.eval()\n",
    "    models_test += [new_model]"
   ]
  },
  {
   "cell_type": "code",
   "execution_count": 46,
   "metadata": {},
   "outputs": [],
   "source": [
    "# Set Up Dictionaries -- list holds the adversary idx\n",
    "logs_adv = []\n",
    "\n",
    "for i in range(len(model_weights)):\n",
    "    adv_dict = {}\n",
    "    adv_dict['orig_target_hit'] = None\n",
    "    adv_dict['adv_target_hit'] = None\n",
    "    logs_adv += [adv_dict]"
   ]
  },
  {
   "cell_type": "code",
   "execution_count": 47,
   "metadata": {},
   "outputs": [],
   "source": [
    "adv_idx = [0,1,2]\n",
    "victim_idxs = [0,1,2,3,4,5,6]\n",
    "\n",
    "t1 = Ensemble_Transferer(models_list=models_test, dataloader=dataloader)\n",
    "\n",
    "# atk Params setup\n",
    "t1.ifsgm_params.set_params(batch_size=500, eps=0.1, alpha=0.05, iteration = 30,\n",
    "               target = 9, x_val_min = torch.min(data_x), x_val_max = torch.max(data_x))\n",
    "\n",
    "t1.generate_victims(victim_idxs)\n",
    "t1.generate_advNN(adv_idx)\n",
    "t1.advNN_idx = adv_idx\n",
    "t1.choose_attack_sequence()\n",
    "t1.generate_xadv(atk_type = \"ifsgm\")\n",
    "t1.send_to_victims(victim_idxs)\n",
    "\n",
    "# Log Performance\n",
    "# logs_adv[adv_idx]['orig_target_hit'] = t1.orig_target_hit\n",
    "# logs_adv[adv_idx]['adv_target_hit'] = t1.adv_target_hit"
   ]
  },
  {
   "cell_type": "code",
   "execution_count": 48,
   "metadata": {},
   "outputs": [
    {
     "data": {
      "text/plain": [
       "{0: tensor(0.1060, device='cuda:0'),\n",
       " 1: tensor(0.2520, device='cuda:0'),\n",
       " 2: tensor(0.1380, device='cuda:0'),\n",
       " 3: tensor(0.1300, device='cuda:0'),\n",
       " 4: tensor(0.0240, device='cuda:0'),\n",
       " 5: tensor(0.1340, device='cuda:0'),\n",
       " 6: tensor(0.1800, device='cuda:0')}"
      ]
     },
     "execution_count": 48,
     "metadata": {},
     "output_type": "execute_result"
    }
   ],
   "source": [
    "t1.orig_target_hit"
   ]
  },
  {
   "cell_type": "code",
   "execution_count": 49,
   "metadata": {},
   "outputs": [
    {
     "data": {
      "text/plain": [
       "{0: tensor(0.9820, device='cuda:0'),\n",
       " 1: tensor(0.9700, device='cuda:0'),\n",
       " 2: tensor(0.9940, device='cuda:0'),\n",
       " 3: tensor(0.5920, device='cuda:0'),\n",
       " 4: tensor(0.2060, device='cuda:0'),\n",
       " 5: tensor(0.8980, device='cuda:0'),\n",
       " 6: tensor(0.8120, device='cuda:0')}"
      ]
     },
     "execution_count": 49,
     "metadata": {},
     "output_type": "execute_result"
    }
   ],
   "source": [
    "t1.adv_target_hit"
   ]
  },
  {
   "cell_type": "code",
   "execution_count": null,
   "metadata": {},
   "outputs": [],
   "source": []
  }
 ],
 "metadata": {
  "kernelspec": {
   "display_name": "FedEM_env",
   "language": "python",
   "name": "fedem_env"
  },
  "language_info": {
   "codemirror_mode": {
    "name": "ipython",
    "version": 3
   },
   "file_extension": ".py",
   "mimetype": "text/x-python",
   "name": "python",
   "nbconvert_exporter": "python",
   "pygments_lexer": "ipython3",
   "version": "3.9.6"
  }
 },
 "nbformat": 4,
 "nbformat_minor": 4
}
