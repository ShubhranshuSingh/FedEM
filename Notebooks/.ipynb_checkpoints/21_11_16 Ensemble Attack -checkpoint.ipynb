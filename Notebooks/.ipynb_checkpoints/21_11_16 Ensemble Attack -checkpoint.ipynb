{
 "cells": [
  {
   "cell_type": "markdown",
   "metadata": {},
   "source": [
    "# Ensemble Attack Implementation\n",
    "\n",
    "TJ Kim, 11.16.21\n",
    "\n",
    "#### Summary:\n",
    "- Build upon the \"Transferer\" class that performs adversarial perturbations based on gradients of one model and sends adversarial examples to other members of ensemble\n",
    "- Ensemble Cascade Adversarial Attack using multiple members of ensembles as adversarial"
   ]
  },
  {
   "cell_type": "code",
   "execution_count": 1,
   "metadata": {},
   "outputs": [
    {
     "name": "stdout",
     "output_type": "stream",
     "text": [
      "/home/ubuntu/FedEM\n"
     ]
    }
   ],
   "source": [
    "cd /home/ubuntu/FedEM/"
   ]
  },
  {
   "cell_type": "markdown",
   "metadata": {},
   "source": [
    "#### Import Libraries"
   ]
  },
  {
   "cell_type": "code",
   "execution_count": 2,
   "metadata": {},
   "outputs": [],
   "source": [
    "# Import General Libraries\n",
    "import os\n",
    "import argparse\n",
    "import torch\n",
    "import copy\n",
    "import pickle\n",
    "import random\n",
    "import numpy as np\n",
    "import pandas as pd\n",
    "\n",
    "# Import FedEM based Libraries\n",
    "from utils.utils import *\n",
    "from utils.constants import *\n",
    "from utils.args import *\n",
    "from torch.utils.tensorboard import SummaryWriter\n",
    "from run_experiment import *\n",
    "from models import *\n",
    "\n",
    "# Import Transfer Attack\n",
    "from transfer_attacks.Personalized_NN import *\n",
    "from transfer_attacks.Params import *\n",
    "from transfer_attacks.Transferer import *\n",
    "from transfer_attacks.Args import *"
   ]
  },
  {
   "cell_type": "markdown",
   "metadata": {},
   "source": [
    "#### Build New Ensemble Transferer Subclass"
   ]
  },
  {
   "cell_type": "code",
   "execution_count": null,
   "metadata": {},
   "outputs": [],
   "source": [
    "class Ensemble_Transferer(Transferer): \n",
    "    def __init__(self, filename:str, config_name = None):\n",
    "        super(Ensemble_Transferer, self).__init__(models_list, dataloader)\n",
    "        \n",
    "        self.models_list = models_list\n",
    "        self.dataloader = dataloader \n",
    "        \n",
    "        # Matrix to Record Performance (Old Metrics)\n",
    "        self.orig_acc_transfers = {} # Benign point accuracy\n",
    "        self.orig_similarities = {} # Benign point same output between adversary and victim\n",
    "        self.orig_target_hit = {} # How many times target was hit (without evasion)\n",
    "        self.adv_acc_transfers = {} # Accuracy on adversarial (how many are still classified right)\n",
    "        self.adv_similarities = {} # similarity in adv output given evasion at adversary\n",
    "        self.adv_target_hit = {} # How many times target was hit (due to evasion)\n",
    "        \n",
    "        # Matrix to Record Performance (New Metrics - theoretical)\n",
    "        self.metric_variance = None # Single value\n",
    "        self.metric_alignment = {} # Dict - key is victim NN id\n",
    "        self.metric_ingrad = {} # Dict - key is victim NN id\n",
    "        \n",
    "        self.metric_alignment_robust = {} # Dict - key is victim NN id\n",
    "        self.metric_ingrad_robust = {} # Dict - key is victim NN id\n",
    "        \n",
    "        self.metric_alignment_adv = {} # Dict - key is victim NN id\n",
    "        self.metric_ingrad_adv = {} # Dict - key is victim NN id\n",
    "        \n",
    "        # Attack Params\n",
    "        self.ifsgm_params = IFSGM_Params()\n",
    "        self.ifsgm_params.x_val_min = torch.min(dataloader.x_data).item()\n",
    "        self.ifsgm_params.x_val_max = torch.max(dataloader.x_data).item() \n",
    "        \n",
    "        # Other Params\n",
    "        self.advNN_idx = None # list\n",
    "        self.advNN = None # dict of personalized_NN\n",
    "        self.victim_idxs = None # List of ints\n",
    "        self.victims = None # dict of pytorch nn\n",
    "        self.atk_order = None\n",
    "        \n",
    "        # Recorded Data Points\n",
    "        self.x_orig = None\n",
    "        self.y_orig = None\n",
    "        self.y_true = None\n",
    "        self.x_adv = None\n",
    "        self.y_adv = None\n",
    "        \n",
    "    def generate_advNN(self, client_idx):\n",
    "        \"\"\"\n",
    "        Select specific client to load neural network to \n",
    "        Load the data for that client\n",
    "        Lod the weights for that client\n",
    "        This is the client that will generate perturbations\n",
    "        \"\"\"        \n",
    "        # Import the loader for this dataset only\n",
    "        \n",
    "        self.advNN_idx = client_idx # List\n",
    "        self.advNN = {} # Dict of NN\n",
    "        \n",
    "        for i in client_idx:\n",
    "            self.advNN[i] = copy.deepcopy(Adv_NN(self.models_list[i], self.dataloader))\n",
    "        \n",
    "        return\n",
    "    \n",
    "    def choose_attack_sequence(self):\n",
    "        \"\"\"\n",
    "        Given the number of iterations of attack in params, and number of adv nn\n",
    "        choose a list of len~iter of which idx to attack\n",
    "        must run generate_advNN prior \n",
    "        \"\"\"\n",
    "    \n",
    "        num_iters = self.ifsgm_params.iteration\n",
    "        atk_order = []\n",
    "        \n",
    "        for t in range(num_iters):\n",
    "            idx = t%len(self.advNN_idx)\n",
    "            atk_order += [self.adv_NN_idx[idx]]\n",
    "            \n",
    "        self.atk_order = atk_order\n",
    "        \n",
    "    \n",
    "    def generate_xadv(self, atk_type = \"IFSGM\", mode='test'):\n",
    "        \"\"\"\n",
    "        Generate perturbed images\n",
    "        atk_type - \"IFSGM\" or \"CW\"\n",
    "        \"\"\"\n",
    "        \n",
    "        \n",
    "        \n",
    "        if (atk_type == \"IFSGM\") or (atk_type == \"ifsgm\"): \n",
    "            self.advNN.i_fgsm(self.ifsgm_params, mode=mode)\n",
    "        else:\n",
    "            print(\"Attak type unidentified -- Running IFSGM\")\n",
    "            self.advNN.i_fgsm(self.ifsgm_params, mode=mode)\n",
    "        \n",
    "        # Record relevant tensors\n",
    "        self.x_orig = self.advNN.x_orig\n",
    "        self.y_orig = self.advNN.output_orig\n",
    "        self.y_true = self.advNN.y_orig\n",
    "        self.x_adv = self.advNN.x_adv\n",
    "        self.y_adv = self.advNN.output_adv\n",
    "    \n",
    "    def generate_victims(self, client_idxs):\n",
    "        \"\"\"\n",
    "        Load the pre-trained other clients in the system\n",
    "        \"\"\"\n",
    "        \n",
    "        self.victim_idxs = client_idxs\n",
    "        self.victims = {}\n",
    "    \n",
    "        for i in self.victim_idxs:\n",
    "            self.victims[i] = copy.deepcopy(Personalized_NN(self.models_list[i]))"
   ]
  }
 ],
 "metadata": {
  "kernelspec": {
   "display_name": "FedEM_env",
   "language": "python",
   "name": "fedem_env"
  },
  "language_info": {
   "codemirror_mode": {
    "name": "ipython",
    "version": 3
   },
   "file_extension": ".py",
   "mimetype": "text/x-python",
   "name": "python",
   "nbconvert_exporter": "python",
   "pygments_lexer": "ipython3",
   "version": "3.9.6"
  }
 },
 "nbformat": 4,
 "nbformat_minor": 4
}
