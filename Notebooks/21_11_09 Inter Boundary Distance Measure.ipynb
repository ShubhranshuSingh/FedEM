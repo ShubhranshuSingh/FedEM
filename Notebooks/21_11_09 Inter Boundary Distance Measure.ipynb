{
 "cells": [
  {
   "cell_type": "markdown",
   "metadata": {},
   "source": [
    "# Inter-Boundary Distance Measurement\n",
    "TJ Kim\n",
    "\n",
    "11.9.21\n",
    "\n",
    "### Summary:\n",
    "- Given multiple models performing identical task and a test set, measure the inter-boundary distance to measure transferability between models.\n",
    "- Legitimate direction - any point x and closest data point in test set that changes the class\n",
    "- Adversarial direction - any point x and smallest amount of perturbation that changes class\n",
    "- Random direction - any point x and random perturbation drawn uniformly to misclassify"
   ]
  },
  {
   "cell_type": "code",
   "execution_count": 1,
   "metadata": {},
   "outputs": [],
   "source": [
    "cd /home/ubuntu/FedEM/"
   ]
  },
  {
   "cell_type": "markdown",
   "metadata": {},
   "source": [
    "### Import Libraries"
   ]
  },
  {
   "cell_type": "code",
   "execution_count": 2,
   "metadata": {},
   "outputs": [],
   "source": [
    "# Import General Libraries\n",
    "import os\n",
    "import argparse\n",
    "import torch\n",
    "import copy\n",
    "import pickle\n",
    "import random\n",
    "import numpy as np\n",
    "import pandas as pd\n",
    "\n",
    "# Import FedEM based Libraries\n",
    "from utils.utils import *\n",
    "from utils.constants import *\n",
    "from utils.args import *\n",
    "from torch.utils.tensorboard import SummaryWriter\n",
    "from run_experiment import *\n",
    "from models import *\n",
    "\n",
    "# Import Transfer Attack\n",
    "from transfer_attacks.Personalized_NN import *\n",
    "from transfer_attacks.Params import *\n",
    "from transfer_attacks.Transferer import *\n",
    "from transfer_attacks.Args import *"
   ]
  },
  {
   "cell_type": "code",
   "execution_count": 3,
   "metadata": {},
   "outputs": [],
   "source": [
    "# Boundary Transferer Imports\n",
    "# Import Custom Made Victim\n",
    "from transfer_attacks.Personalized_NN import *\n",
    "from transfer_attacks.Params import *\n",
    "from transfer_attacks.Attack_Metrics import *\n",
    "import pandas as pd\n",
    "from transfer_attacks.Transferer import *\n"
   ]
  },
  {
   "cell_type": "markdown",
   "metadata": {},
   "source": [
    "### Load Models and Data"
   ]
  },
  {
   "cell_type": "code",
   "execution_count": 4,
   "metadata": {},
   "outputs": [
    {
     "name": "stdout",
     "output_type": "stream",
     "text": [
      "==> Clients initialization..\n",
      "===> Building data iterators..\n"
     ]
    },
    {
     "name": "stderr",
     "output_type": "stream",
     "text": [
      "100%|██████████████████████████████████████████| 80/80 [00:00<00:00, 171.01it/s]\n"
     ]
    },
    {
     "name": "stdout",
     "output_type": "stream",
     "text": [
      "===> Initializing clients..\n"
     ]
    },
    {
     "name": "stderr",
     "output_type": "stream",
     "text": [
      "100%|███████████████████████████████████████████| 80/80 [00:31<00:00,  2.51it/s]\n"
     ]
    },
    {
     "name": "stdout",
     "output_type": "stream",
     "text": [
      "==> Test Clients initialization..\n",
      "===> Building data iterators..\n"
     ]
    },
    {
     "name": "stderr",
     "output_type": "stream",
     "text": [
      "0it [00:00, ?it/s]\n"
     ]
    },
    {
     "name": "stdout",
     "output_type": "stream",
     "text": [
      "===> Initializing clients..\n"
     ]
    },
    {
     "name": "stderr",
     "output_type": "stream",
     "text": [
      "0it [00:00, ?it/s]\n"
     ]
    },
    {
     "name": "stdout",
     "output_type": "stream",
     "text": [
      "++++++++++++++++++++++++++++++\n",
      "Global..\n",
      "Train Loss: 2.292 | Train Acc: 12.159% |Test Loss: 2.292 | Test Acc: 12.248% |\n",
      "++++++++++++++++++++++++++++++++++++++++++++++++++\n",
      "################################################################################\n"
     ]
    }
   ],
   "source": [
    "# Manually set argument parameters\n",
    "args_ = Args()\n",
    "args_.experiment = \"cifar10\"\n",
    "args_.method = \"FedEM\"\n",
    "args_.decentralized = False\n",
    "args_.sampling_rate = 1.0\n",
    "args_.input_dimension = None\n",
    "args_.output_dimension = None\n",
    "args_.n_learners= 3\n",
    "args_.n_rounds = 10\n",
    "args_.bz = 128\n",
    "args_.local_steps = 1\n",
    "args_.lr_lambda = 0\n",
    "args_.lr =0.03\n",
    "args_.lr_scheduler = 'multi_step'\n",
    "args_.log_freq = 10\n",
    "args_.device = 'cuda'\n",
    "args_.optimizer = 'sgd'\n",
    "args_.mu = 0\n",
    "args_.communication_probability = 0.1\n",
    "args_.q = 1\n",
    "args_.locally_tune_clients = False\n",
    "args_.seed = 1234\n",
    "args_.verbose = 1\n",
    "args_.save_path = 'weights/cifar/21_09_28_first_transfers/'\n",
    "args_.validation = False\n",
    "\n",
    "# Generate the dummy values here\n",
    "aggregator, clients = dummy_aggregator(args_)"
   ]
  },
  {
   "cell_type": "code",
   "execution_count": 5,
   "metadata": {},
   "outputs": [],
   "source": [
    "# Import weights for aggregator\n",
    "aggregator.load_state(args_.save_path)\n",
    "\n",
    "# This is where the models are stored -- one for each mixture --> learner.model for nn\n",
    "hypotheses = aggregator.global_learners_ensemble.learners\n",
    "\n",
    "# obtain the state dict for each of the weights \n",
    "weights_h = []\n",
    "\n",
    "for h in hypotheses:\n",
    "    weights_h += [h.model.state_dict()]\n",
    "    \n",
    "weights = np.load(\"weights/cifar/21_09_28_first_transfers/train_client_weights.npy\")\n",
    "np.set_printoptions(formatter={'float': lambda x: \"{0:0.2f}\".format(x)})\n",
    "\n",
    "#print(weights)\n",
    "\n",
    "# Set model weights\n",
    "model_weights = []\n",
    "num_models = 5\n",
    "\n",
    "for i in range(num_models):\n",
    "    model_weights += [weights[i]]\n",
    "    \n",
    "    \n",
    "# Generate the weights to test on as linear combinations of the model_weights\n",
    "models_test = []\n",
    "\n",
    "for (w0,w1,w2) in model_weights:\n",
    "    # first make the model with empty weights\n",
    "    new_model = copy.deepcopy(hypotheses[0].model)\n",
    "    new_model.eval()\n",
    "    new_weight_dict = copy.deepcopy(weights_h[0])\n",
    "    for key in weights_h[0]:\n",
    "        new_weight_dict[key] = w0*weights_h[0][key] + w1*weights_h[1][key] + w2*weights_h[2][key]\n",
    "    new_model.load_state_dict(new_weight_dict)\n",
    "    models_test += [new_model]"
   ]
  },
  {
   "cell_type": "code",
   "execution_count": 6,
   "metadata": {},
   "outputs": [],
   "source": [
    "# Combine Validation Data across all clients as test\n",
    "data_x = []\n",
    "data_y = []\n",
    "\n",
    "for i in range(len(clients)):\n",
    "    daniloader = clients[i].val_iterator\n",
    "    for (x,y,idx) in daniloader.dataset:\n",
    "        data_x.append(x)\n",
    "        data_y.append(y)\n",
    "\n",
    "data_x = torch.stack(data_x)\n",
    "data_y = torch.stack(data_y)\n",
    "\n",
    "# Create dataloader from validation dataset that allows for diverse batch size\n",
    "dataloader = Custom_Dataloader(data_x, data_y)"
   ]
  },
  {
   "cell_type": "markdown",
   "metadata": {},
   "source": [
    "### Boundary Transferer Class\n",
    "- Used to calcualte direction of all 3 types\n",
    "- Based off of (not subclass of) the Transferer class"
   ]
  },
  {
   "cell_type": "code",
   "execution_count": 249,
   "metadata": {},
   "outputs": [],
   "source": [
    "class Boundary_Transferer(): \n",
    "    \"\"\"\n",
    "    - Load all the datasets but separate them\n",
    "    - Intermediate values of featues after 2 convolution layers\n",
    "    \"\"\"\n",
    "    \n",
    "    def __init__(self, models_list, dataloader):\n",
    "        \n",
    "        self.models_list = models_list\n",
    "        self.dataloader = dataloader\n",
    "        \n",
    "        self.base_nn_idx = None\n",
    "        self.victim_idx = None\n",
    "        \n",
    "        self.fixed_point = None # {\"idx\",\"x\",\"y\"}\n",
    "        self.comparison_set = None # For legitimate direction\n",
    "        self.comparison_x = None\n",
    "        self.comparison_y = None\n",
    "        \n",
    "    def select_data_point(self):\n",
    "        \"\"\"\n",
    "        Select a single data point to use as comparison of different boundary types\n",
    "        \"\"\"\n",
    "        self.fixed_point = {}\n",
    "        idx, x, y = self.dataloader.select_single()\n",
    "        self.fixed_point[\"idx\"] = idx\n",
    "        self.fixed_point[\"x\"] = x\n",
    "        self.fixed_point[\"y\"] = y\n",
    "        \n",
    "        return \n",
    "    \n",
    "    def select_comparison_set(self,batch_size):\n",
    "        \"\"\"\n",
    "        Select multiple datapoints to use to compare \n",
    "        \"\"\"\n",
    "        \n",
    "        xs, ys = self.dataloader.load_batch(batch_size)\n",
    "        \n",
    "        self.comparison_x = xs\n",
    "        self.comparison_y = ys\n",
    "        \n",
    "        self.comparison_set = {}\n",
    "        \n",
    "        for i in range(batch_size):\n",
    "            self.comparison_set[i] = {}\n",
    "            self.comparison_set[i][\"x\"] = xs[i]\n",
    "            self.comparison_set[i][\"y\"] = ys[i]\n",
    "        \n",
    "        return\n",
    "    \n",
    "    def measure_distance(self, x1, x2_set):\n",
    "        \n",
    "        x2_dist = torch.subtract(x2_set, x1)#.unsqueeze(0))\n",
    "        x2_l2 = torch.linalg.norm(x2_dist.flatten(start_dim=1),ord = 2, dim=1)\n",
    "        \n",
    "        return x2_dist, x2_l2\n",
    "    \n",
    "    def legitimate_direction(self, batch_size, NN_idxs, new_point = True):\n",
    "        \"\"\"\n",
    "        Calculate Legitimate Direction for a single point\n",
    "        \"\"\"\n",
    "        \n",
    "        # Select point of baseline comparison \n",
    "        if new_point:\n",
    "            self.select_data_point()\n",
    "        \n",
    "        # Select set of comparison \n",
    "        self.select_comparison_set(batch_size)\n",
    "        \n",
    "        # Calculate X distance\n",
    "        x_dists, x_dists_l2 = self.measure_distance(self.fixed_point[\"x\"], self.comparison_x)\n",
    "        \n",
    "        # Classify all members of comparison set\n",
    "        y_pred_nn = None\n",
    "        min_dist_idx = None\n",
    "        min_dist_unit_vector = None\n",
    "        \n",
    "        # Classify each data for each classifier\n",
    "        temp_classified = self.models_list[self.base_nn_idx](self.comparison_x)\n",
    "        y_pred_nn = torch.argmax(temp_classified,axis=1)\n",
    "\n",
    "        # Filter twice - argmin (distance), conditioned on different label\n",
    "        dist_mask = torch.where(y_pred_nn != self.fixed_point[\"y\"], x_dists_l2, torch.max(x_dists_l2))\n",
    "        min_dist_idx = torch.argmin(dist_mask)\n",
    "        min_dist_unit_vector = torch.divide(x_dists[min_dist_idx, \n",
    "                                                torch.linalg.norm(x_dists[min_dist_idx.flatten(),ord=2))\n",
    "            \n",
    "            \n",
    "            \n",
    "        \n",
    "        return x_dists[min_dist_idx[nn]], min_dist_unit_vector[nn]"
   ]
  },
  {
   "cell_type": "code",
   "execution_count": 250,
   "metadata": {},
   "outputs": [],
   "source": [
    "t1 = Boundary_Transferer(models_list=models_test, dataloader=dataloader)"
   ]
  },
  {
   "cell_type": "code",
   "execution_count": 251,
   "metadata": {},
   "outputs": [],
   "source": [
    "xd, md = t1.legitimate_direction(batch_size=10, NN_idxs=[0])"
   ]
  },
  {
   "cell_type": "code",
   "execution_count": 254,
   "metadata": {},
   "outputs": [
    {
     "data": {
      "text/plain": [
       "tensor(1., device='cuda:0')"
      ]
     },
     "execution_count": 254,
     "metadata": {},
     "output_type": "execute_result"
    }
   ],
   "source": [
    "torch.linalg.norm(md.flatten(),ord=2)"
   ]
  },
  {
   "cell_type": "markdown",
   "metadata": {},
   "source": [
    "### Legitimate Direction Calculation\n",
    "- Across test set perform classification for each of the nueral networks \n",
    "- Measure distance from a single point to all other points \n",
    "- Find the closest point with different label"
   ]
  }
 ],
 "metadata": {
  "kernelspec": {
   "display_name": "FedEM_env",
   "language": "python",
   "name": "fedem_env"
  },
  "language_info": {
   "codemirror_mode": {
    "name": "ipython",
    "version": 3
   },
   "file_extension": ".py",
   "mimetype": "text/x-python",
   "name": "python",
   "nbconvert_exporter": "python",
   "pygments_lexer": "ipython3",
   "version": "3.9.6"
  }
 },
 "nbformat": 4,
 "nbformat_minor": 4
}
